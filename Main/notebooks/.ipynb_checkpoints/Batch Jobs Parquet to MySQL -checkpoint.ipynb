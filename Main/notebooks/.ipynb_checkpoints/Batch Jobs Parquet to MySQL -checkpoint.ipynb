{
 "cells": [
  {
   "cell_type": "markdown",
   "id": "f3558f22",
   "metadata": {},
   "source": [
    "# Batch Jobs"
   ]
  },
  {
   "cell_type": "markdown",
   "id": "7a72d745",
   "metadata": {},
   "source": [
    "https://stackoverflow.com/questions/51696655/read-multiple-parquet-files-in-a-folder-and-write-to-single-csv-file-using-pytho"
   ]
  },
  {
   "cell_type": "markdown",
   "id": "03e14054",
   "metadata": {},
   "source": [
    "entries = os.listdir('my_directory/')\n",
    "    for entry in entries:\n",
    "        print(entry)"
   ]
  },
  {
   "cell_type": "markdown",
   "id": "a8cd507c",
   "metadata": {},
   "source": [
    "df.to_parquet('df.parquet.brotli',compression='brotli')\n",
    "df = pd.read_parquet('df.parquet.brotli')\n"
   ]
  },
  {
   "cell_type": "markdown",
   "id": "2b304a26",
   "metadata": {},
   "source": [
    "## IMPORT DATA FROM CONSUMER 1 PARQUE FILES"
   ]
  },
  {
   "cell_type": "code",
   "execution_count": 12,
   "id": "6b2d4d6c",
   "metadata": {},
   "outputs": [
    {
     "name": "stdout",
     "output_type": "stream",
     "text": [
      "<class 'pandas.core.frame.DataFrame'>\n",
      "Int64Index: 3181 entries, 0 to 58\n",
      "Data columns (total 8 columns):\n",
      " #   Column       Non-Null Count  Dtype         \n",
      "---  ------       --------------  -----         \n",
      " 0   review_id    3181 non-null   object        \n",
      " 1   business_id  3181 non-null   object        \n",
      " 2   user_id      3181 non-null   object        \n",
      " 3   stars        3181 non-null   object        \n",
      " 4   time_only    3181 non-null   object        \n",
      " 5   date_hour    3181 non-null   object        \n",
      " 6   date_minute  3181 non-null   object        \n",
      " 7   date_time    0 non-null      datetime64[ns]\n",
      "dtypes: datetime64[ns](1), object(7)\n",
      "memory usage: 223.7+ KB\n"
     ]
    }
   ],
   "source": [
    "\n",
    "from pathlib import Path\n",
    "import pandas as pd\n",
    "/\n",
    "data_dir = Path(\"/home/jovyan/work/Data/detail/date_only=2017-12-01\")\n",
    "full_df = pd.concat(\n",
    "    pd.read_parquet(parquet_file)\n",
    "    for parquet_file in data_dir.glob('*.parquet')\n",
    ")\n",
    "\n",
    "full_df.info()"
   ]
  },
  {
   "cell_type": "code",
   "execution_count": 13,
   "id": "342e8b37",
   "metadata": {},
   "outputs": [
    {
     "data": {
      "text/html": [
       "<div>\n",
       "<style scoped>\n",
       "    .dataframe tbody tr th:only-of-type {\n",
       "        vertical-align: middle;\n",
       "    }\n",
       "\n",
       "    .dataframe tbody tr th {\n",
       "        vertical-align: top;\n",
       "    }\n",
       "\n",
       "    .dataframe thead th {\n",
       "        text-align: right;\n",
       "    }\n",
       "</style>\n",
       "<table border=\"1\" class=\"dataframe\">\n",
       "  <thead>\n",
       "    <tr style=\"text-align: right;\">\n",
       "      <th></th>\n",
       "      <th>review_id</th>\n",
       "      <th>business_id</th>\n",
       "      <th>user_id</th>\n",
       "      <th>stars</th>\n",
       "      <th>time_only</th>\n",
       "      <th>date_hour</th>\n",
       "      <th>date_minute</th>\n",
       "      <th>date_time</th>\n",
       "    </tr>\n",
       "  </thead>\n",
       "  <tbody>\n",
       "    <tr>\n",
       "      <th>0</th>\n",
       "      <td>\"WE-J-aRKelIEAGPenxQGPw</td>\n",
       "      <td>OK10DklrEE8xU1mWK9-yFQ</td>\n",
       "      <td>5A6Ts1Q-UeeUqtOxQpyYFw</td>\n",
       "      <td>4</td>\n",
       "      <td>03:42:30</td>\n",
       "      <td>3</td>\n",
       "      <td>42</td>\n",
       "      <td>NaT</td>\n",
       "    </tr>\n",
       "    <tr>\n",
       "      <th>1</th>\n",
       "      <td>\"GNsWzCyUCZA11I08Gi2Z0Q</td>\n",
       "      <td>hezRGTnkTFEnB3i8b9OCyw</td>\n",
       "      <td>NWjOxPJuTuz7oWGBk-Q6ZA</td>\n",
       "      <td>4</td>\n",
       "      <td>03:43:52</td>\n",
       "      <td>3</td>\n",
       "      <td>43</td>\n",
       "      <td>NaT</td>\n",
       "    </tr>\n",
       "    <tr>\n",
       "      <th>2</th>\n",
       "      <td>\"BzBR6ZBO9kkwHSMvP9r4Dg</td>\n",
       "      <td>6okBFSsondq1TBdXfWdmiA</td>\n",
       "      <td>cmDcM0TDqTbSkHaIX0dzBg</td>\n",
       "      <td>5</td>\n",
       "      <td>03:44:30</td>\n",
       "      <td>3</td>\n",
       "      <td>44</td>\n",
       "      <td>NaT</td>\n",
       "    </tr>\n",
       "    <tr>\n",
       "      <th>3</th>\n",
       "      <td>\"d_36Sfphcr0mbRIA3bTv-w</td>\n",
       "      <td>6BAAyFv-3QFMMXa8HXdapQ</td>\n",
       "      <td>lEyAC9Fhf5REbfeXZQ16vw</td>\n",
       "      <td>2</td>\n",
       "      <td>03:45:23</td>\n",
       "      <td>3</td>\n",
       "      <td>45</td>\n",
       "      <td>NaT</td>\n",
       "    </tr>\n",
       "    <tr>\n",
       "      <th>4</th>\n",
       "      <td>\"lxOzmd2LHSq-aTqvmqp4XA</td>\n",
       "      <td>3yA4Z__yZdPtrcVfWVfqBQ</td>\n",
       "      <td>oniMm2Np2_QmcMwIbIxmaA</td>\n",
       "      <td>3</td>\n",
       "      <td>03:45:58</td>\n",
       "      <td>3</td>\n",
       "      <td>45</td>\n",
       "      <td>NaT</td>\n",
       "    </tr>\n",
       "    <tr>\n",
       "      <th>...</th>\n",
       "      <td>...</td>\n",
       "      <td>...</td>\n",
       "      <td>...</td>\n",
       "      <td>...</td>\n",
       "      <td>...</td>\n",
       "      <td>...</td>\n",
       "      <td>...</td>\n",
       "      <td>...</td>\n",
       "    </tr>\n",
       "    <tr>\n",
       "      <th>35</th>\n",
       "      <td>\"JbPa9yvmpLdpX8sCgA-_zg</td>\n",
       "      <td>50vfUjCx0_8DYK4VT1n_wg</td>\n",
       "      <td>9ldrJbrKaVkoIacQBRJdiw</td>\n",
       "      <td>5</td>\n",
       "      <td>18:31:29</td>\n",
       "      <td>18</td>\n",
       "      <td>31</td>\n",
       "      <td>NaT</td>\n",
       "    </tr>\n",
       "    <tr>\n",
       "      <th>36</th>\n",
       "      <td>\"I1MN9FIx4pLfjGcL7aCRGg</td>\n",
       "      <td>wMVIMUfBQa5ijR_ZLr_67Q</td>\n",
       "      <td>O90vtDOGrXHcqsQe0ej4qg</td>\n",
       "      <td>1</td>\n",
       "      <td>18:32:06</td>\n",
       "      <td>18</td>\n",
       "      <td>32</td>\n",
       "      <td>NaT</td>\n",
       "    </tr>\n",
       "    <tr>\n",
       "      <th>37</th>\n",
       "      <td>\"MqySyiyIJK1jFd80x_4fyg</td>\n",
       "      <td>ki6qk2hoNS_HagBz3LEZuw</td>\n",
       "      <td>1wG_QyDeiEXg4OSHcf9TMQ</td>\n",
       "      <td>2</td>\n",
       "      <td>18:32:42</td>\n",
       "      <td>18</td>\n",
       "      <td>32</td>\n",
       "      <td>NaT</td>\n",
       "    </tr>\n",
       "    <tr>\n",
       "      <th>38</th>\n",
       "      <td>\"Sr7YETXjasP7k-htyeyOyw</td>\n",
       "      <td>plEh_VdvGNzu2i-cwGDUHw</td>\n",
       "      <td>OIFw7RKFU6KeX2_bLXYmWQ</td>\n",
       "      <td>4</td>\n",
       "      <td>18:32:57</td>\n",
       "      <td>18</td>\n",
       "      <td>32</td>\n",
       "      <td>NaT</td>\n",
       "    </tr>\n",
       "    <tr>\n",
       "      <th>39</th>\n",
       "      <td>\"QmWGrv0yhgOYAUULU2UMbw</td>\n",
       "      <td>2Ku5f8dfaGU_ldkxcMWKgg</td>\n",
       "      <td>g_HMPPvkJpYbpbfv84WhrQ</td>\n",
       "      <td>4</td>\n",
       "      <td>18:33:11</td>\n",
       "      <td>18</td>\n",
       "      <td>33</td>\n",
       "      <td>NaT</td>\n",
       "    </tr>\n",
       "  </tbody>\n",
       "</table>\n",
       "<p>100 rows × 8 columns</p>\n",
       "</div>"
      ],
      "text/plain": [
       "                  review_id             business_id                 user_id  \\\n",
       "0   \"WE-J-aRKelIEAGPenxQGPw  OK10DklrEE8xU1mWK9-yFQ  5A6Ts1Q-UeeUqtOxQpyYFw   \n",
       "1   \"GNsWzCyUCZA11I08Gi2Z0Q  hezRGTnkTFEnB3i8b9OCyw  NWjOxPJuTuz7oWGBk-Q6ZA   \n",
       "2   \"BzBR6ZBO9kkwHSMvP9r4Dg  6okBFSsondq1TBdXfWdmiA  cmDcM0TDqTbSkHaIX0dzBg   \n",
       "3   \"d_36Sfphcr0mbRIA3bTv-w  6BAAyFv-3QFMMXa8HXdapQ  lEyAC9Fhf5REbfeXZQ16vw   \n",
       "4   \"lxOzmd2LHSq-aTqvmqp4XA  3yA4Z__yZdPtrcVfWVfqBQ  oniMm2Np2_QmcMwIbIxmaA   \n",
       "..                      ...                     ...                     ...   \n",
       "35  \"JbPa9yvmpLdpX8sCgA-_zg  50vfUjCx0_8DYK4VT1n_wg  9ldrJbrKaVkoIacQBRJdiw   \n",
       "36  \"I1MN9FIx4pLfjGcL7aCRGg  wMVIMUfBQa5ijR_ZLr_67Q  O90vtDOGrXHcqsQe0ej4qg   \n",
       "37  \"MqySyiyIJK1jFd80x_4fyg  ki6qk2hoNS_HagBz3LEZuw  1wG_QyDeiEXg4OSHcf9TMQ   \n",
       "38  \"Sr7YETXjasP7k-htyeyOyw  plEh_VdvGNzu2i-cwGDUHw  OIFw7RKFU6KeX2_bLXYmWQ   \n",
       "39  \"QmWGrv0yhgOYAUULU2UMbw  2Ku5f8dfaGU_ldkxcMWKgg  g_HMPPvkJpYbpbfv84WhrQ   \n",
       "\n",
       "   stars time_only date_hour date_minute date_time  \n",
       "0      4  03:42:30         3          42       NaT  \n",
       "1      4  03:43:52         3          43       NaT  \n",
       "2      5  03:44:30         3          44       NaT  \n",
       "3      2  03:45:23         3          45       NaT  \n",
       "4      3  03:45:58         3          45       NaT  \n",
       "..   ...       ...       ...         ...       ...  \n",
       "35     5  18:31:29        18          31       NaT  \n",
       "36     1  18:32:06        18          32       NaT  \n",
       "37     2  18:32:42        18          32       NaT  \n",
       "38     4  18:32:57        18          32       NaT  \n",
       "39     4  18:33:11        18          33       NaT  \n",
       "\n",
       "[100 rows x 8 columns]"
      ]
     },
     "execution_count": 13,
     "metadata": {},
     "output_type": "execute_result"
    }
   ],
   "source": [
    "full_df.head(100)"
   ]
  },
  {
   "cell_type": "markdown",
   "id": "64ed578f",
   "metadata": {},
   "source": [
    "import glob\n",
    " files = glob.glob(\"*.snappy.parquet\")\n",
    " data = [pd.read_parquet(f,engine='fastparquet') for f in files]\n",
    " merged_data = pd.concat(data,ignore_index=True)"
   ]
  },
  {
   "cell_type": "markdown",
   "id": "70745b5d",
   "metadata": {},
   "source": [
    "import pandas as pd    \n",
    "df = pd.read_parquet('path/to/the/parquet/files/directory')   "
   ]
  },
  {
   "cell_type": "markdown",
   "id": "08849164",
   "metadata": {},
   "source": [
    "## WRITE TO CASSANDRA TABLE "
   ]
  },
  {
   "cell_type": "code",
   "execution_count": null,
   "id": "109e4d64",
   "metadata": {},
   "outputs": [],
   "source": []
  }
 ],
 "metadata": {
  "kernelspec": {
   "display_name": "Python 3 (ipykernel)",
   "language": "python",
   "name": "python3"
  },
  "language_info": {
   "codemirror_mode": {
    "name": "ipython",
    "version": 3
   },
   "file_extension": ".py",
   "mimetype": "text/x-python",
   "name": "python",
   "nbconvert_exporter": "python",
   "pygments_lexer": "ipython3",
   "version": "3.9.5"
  }
 },
 "nbformat": 4,
 "nbformat_minor": 5
}
