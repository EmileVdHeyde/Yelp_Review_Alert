{
 "cells": [
  {
   "cell_type": "markdown",
   "id": "d05d882f",
   "metadata": {},
   "source": [
    "# Consumer 1 "
   ]
  },
  {
   "cell_type": "markdown",
   "id": "763eef7e",
   "metadata": {},
   "source": [
    "https://www.oreilly.com/library/view/learning-spark-2nd/9781492050032/ch04.html "
   ]
  },
  {
   "cell_type": "markdown",
   "id": "1b245c4b",
   "metadata": {},
   "source": [
    "## Set Up"
   ]
  },
  {
   "cell_type": "code",
   "execution_count": 12,
   "id": "1d1580e3",
   "metadata": {},
   "outputs": [],
   "source": [
    "from pyspark.sql import SparkSession\n",
    "\n",
    "# Spark session & context\n",
    "spark = (SparkSession\n",
    "         .builder\n",
    "         .master('local')\n",
    "         .appName('json-changes-event-consumer')\n",
    "         # Add kafka package\n",
    "         .config(\"spark.jars.packages\", \"org.apache.spark:spark-sql-kafka-0-10_2.12:3.1.2,mysql:mysql-connector-java:8.0.11,com.datastax.spark:spark-cassandra-connector_2.12:3.0.1\")\n",
    "         .config(\"spark.cassandra.connection.host\",\"185.185.126.143\")\n",
    "         .config(\"spark.cassandra.connection.port\",\"9742\")\n",
    "         .config(\"spark.cassandra.auth.username\",\"cassandra\")\n",
    "         .config(\"spark.cassandra.auth.password\",\"cassandra\")\n",
    "         .getOrCreate())\n",
    "\n",
    "sc = spark.sparkContext"
   ]
  },
  {
   "cell_type": "code",
   "execution_count": 13,
   "id": "5a5201a5",
   "metadata": {},
   "outputs": [],
   "source": [
    "# Create stream dataframe setting kafka server, topic and offset option\n",
    "df = (spark\n",
    "  .readStream\n",
    "  .format(\"kafka\")\n",
    "  .option(\"kafka.bootstrap.servers\", \"185.185.126.143:9092\") # kafka server\n",
    "  .option(\"subscribe\", \"S_Topic\") # topic name matching the producer \n",
    "  .option(\"startingOffsets\", \"latest\") # start from beginning select  \"latest\" or earliest\n",
    "  .load())"
   ]
  },
  {
   "cell_type": "code",
   "execution_count": 14,
   "id": "ac1bed98",
   "metadata": {},
   "outputs": [],
   "source": [
    "from pyspark.sql.types import StringType\n",
    "\n",
    "# Convert binary to string key and value\n",
    "df1 = (df\n",
    "    .withColumn(\"key\", df[\"key\"])\n",
    "    .withColumn(\"value\", df[\"value\"]))"
   ]
  },
  {
   "cell_type": "code",
   "execution_count": 15,
   "id": "6d98a517",
   "metadata": {},
   "outputs": [],
   "source": [
    "# Create stream dataframe setting kafka server, topic and offset option\n",
    "from pyspark.sql.functions import *\n",
    "from pyspark.sql.types import *\n",
    "schema = StructType() \\\n",
    "        .add(\"review_id\", StringType()) \\\n",
    "        .add(\"user_id\", StringType()) \\\n",
    "        .add(\"business_id\", StringType()) \\\n",
    "        .add(\"stars\", FloatType()) \\\n",
    "        .add(\"Date_Only\", DateType()) \\\n",
    "        .add(\"Time_Only\", StringType()) \\\n",
    "        .add(\"Date_Hour\", StringType()) \\\n",
    "        .add(\"Date_Minute\", StringType()) \\\n",
    "        .add(\"Date_Time\", TimestampType()) "
   ]
  },
  {
   "cell_type": "code",
   "execution_count": 16,
   "id": "c88e7b28",
   "metadata": {},
   "outputs": [],
   "source": [
    "df2=df\\\n",
    "      .selectExpr(\"split(value,',')[0] as review_id\" \\\n",
    "                  ,\"split(value,',')[1] as business_id\" \\\n",
    "                  ,\"split(value,',')[2] as user_id\" \\\n",
    "                  ,\"split(value,',')[3] as stars\" \\\n",
    "                  ,\"split(value,',')[4] as date_only\" \\\n",
    "                  ,\"split(value,',')[5] as time_only\" \\\n",
    "                  ,\"split(value,',')[6] as date_hour\" \\\n",
    "                  ,\"split(value,',')[7] as date_minute\" \\\n",
    "                  ,\"split(value,',')[8] as date_time\" \n",
    "                   )"
   ]
  },
  {
   "cell_type": "markdown",
   "id": "0f0e52c5",
   "metadata": {},
   "source": [
    "https://www.learntospark.com/2020/01/cast-string-to-timestamp-in-spark.html "
   ]
  },
  {
   "cell_type": "code",
   "execution_count": 17,
   "id": "240cfb2c",
   "metadata": {},
   "outputs": [
    {
     "name": "stdout",
     "output_type": "stream",
     "text": [
      "root\n",
      " |-- review_id: string (nullable = true)\n",
      " |-- business_id: string (nullable = true)\n",
      " |-- user_id: string (nullable = true)\n",
      " |-- stars: string (nullable = true)\n",
      " |-- date_only: string (nullable = true)\n",
      " |-- time_only: string (nullable = true)\n",
      " |-- date_hour: string (nullable = true)\n",
      " |-- date_minute: string (nullable = true)\n",
      " |-- date_time: timestamp (nullable = true)\n",
      "\n"
     ]
    }
   ],
   "source": [
    "from pyspark.sql.types import TimestampType\n",
    "from pyspark.sql.functions import unix_timestamp\n",
    "df2=df2.withColumn(\"date_time\",unix_timestamp(\"date_time\", 'MM/dd/yyyy HH:mm:ss').cast(TimestampType()))\n",
    "df2.printSchema()\n",
    "#df2.show(5)"
   ]
  },
  {
   "cell_type": "markdown",
   "id": "58bf90e9",
   "metadata": {},
   "source": [
    "## 1. All data to Parquet "
   ]
  },
  {
   "cell_type": "code",
   "execution_count": 19,
   "id": "86d8f134",
   "metadata": {},
   "outputs": [
    {
     "name": "stderr",
     "output_type": "stream",
     "text": [
      "21/07/30 15:48:16 WARN StreamingQueryManager: Stopping existing streaming query [id=cf097f1b-204b-416e-9e34-425ce97684d6, runId=1f86e955-12c0-4b04-8f34-f1d81df02a49], as a new run is being started.\n",
      "                                                                                \r"
     ]
    },
    {
     "name": "stdout",
     "output_type": "stream",
     "text": [
      "+----------+---------+-----------+--------------------+-------------+--------------+-----------+\n",
      "| date_only|date_hour|date_minute|           timestamp|total_reviews|total_business|total_users|\n",
      "+----------+---------+-----------+--------------------+-------------+--------------+-----------+\n",
      "|2017-12-01|        0|         13|2021-07-30 15:49:...|            2|             2|          2|\n",
      "|2017-12-01|        0|         14|2021-07-30 15:49:...|            6|             6|          6|\n",
      "|2017-12-01|        0|         30|2021-07-30 15:49:...|            3|             3|          3|\n",
      "|2017-12-01|        0|         21|2021-07-30 15:49:...|            1|             1|          1|\n",
      "|2017-12-01|        0|         27|2021-07-30 15:49:...|            1|             1|          1|\n",
      "|2017-12-01|        0|         28|2021-07-30 15:49:...|            2|             2|          2|\n",
      "|2017-12-01|        0|         16|2021-07-30 15:49:...|            3|             3|          3|\n",
      "|2017-12-01|        0|         23|2021-07-30 15:49:...|            3|             3|          3|\n",
      "|2017-12-01|        0|         18|2021-07-30 15:49:...|            3|             3|          3|\n",
      "|2017-12-01|        0|         35|2021-07-30 15:49:...|            1|             1|          1|\n",
      "|2017-12-01|        0|         26|2021-07-30 15:49:...|            4|             4|          4|\n",
      "|2017-12-01|        0|         29|2021-07-30 15:49:...|            2|             2|          2|\n",
      "|2017-12-01|        0|         31|2021-07-30 15:49:...|            2|             2|          2|\n",
      "|2017-12-01|        0|         15|2021-07-30 15:49:...|            1|             1|          1|\n",
      "|2017-12-01|        0|         25|2021-07-30 15:49:...|            4|             4|          4|\n",
      "|2017-12-01|        0|         22|2021-07-30 15:49:...|            4|             4|          4|\n",
      "|2017-12-01|        0|         20|2021-07-30 15:49:...|            5|             5|          5|\n",
      "|2017-12-01|        0|         33|2021-07-30 15:49:...|            5|             5|          5|\n",
      "|2017-12-01|        0|         19|2021-07-30 15:49:...|            3|             3|          3|\n",
      "|2017-12-01|        0|         32|2021-07-30 15:49:...|            1|             1|          1|\n",
      "+----------+---------+-----------+--------------------+-------------+--------------+-----------+\n",
      "only showing top 20 rows\n",
      "\n"
     ]
    },
    {
     "name": "stderr",
     "output_type": "stream",
     "text": [
      "                                                                                \r"
     ]
    },
    {
     "name": "stdout",
     "output_type": "stream",
     "text": [
      "+----------+---------+-----------+--------------------+-------------+--------------+-----------+\n",
      "| date_only|date_hour|date_minute|           timestamp|total_reviews|total_business|total_users|\n",
      "+----------+---------+-----------+--------------------+-------------+--------------+-----------+\n",
      "|2017-12-01|        0|         42|2021-07-30 15:50:...|            3|             3|          3|\n",
      "|2017-12-01|        0|         48|2021-07-30 15:50:...|            4|             4|          4|\n",
      "|2017-12-01|        0|         46|2021-07-30 15:50:...|            4|             4|          4|\n",
      "|2017-12-01|        0|         35|2021-07-30 15:50:...|            2|             2|          2|\n",
      "|2017-12-01|        0|         49|2021-07-30 15:50:...|            5|             5|          5|\n",
      "|2017-12-01|        0|         39|2021-07-30 15:50:...|            2|             2|          2|\n",
      "|2017-12-01|        0|         36|2021-07-30 15:50:...|            1|             1|          1|\n",
      "|2017-12-01|        0|         38|2021-07-30 15:50:...|            2|             2|          2|\n",
      "|2017-12-01|        0|         56|2021-07-30 15:50:...|            2|             2|          2|\n",
      "|2017-12-01|        0|         54|2021-07-30 15:50:...|            2|             2|          2|\n",
      "|2017-12-01|        0|         43|2021-07-30 15:50:...|            3|             3|          3|\n",
      "|2017-12-01|        0|         52|2021-07-30 15:50:...|            5|             5|          5|\n",
      "|2017-12-01|        0|         41|2021-07-30 15:50:...|            2|             2|          2|\n",
      "|2017-12-01|        0|         50|2021-07-30 15:50:...|            4|             4|          4|\n",
      "|2017-12-01|        0|         44|2021-07-30 15:50:...|            1|             1|          1|\n",
      "|2017-12-01|        0|         51|2021-07-30 15:50:...|            2|             2|          2|\n",
      "|2017-12-01|        0|         47|2021-07-30 15:50:...|            3|             3|          3|\n",
      "|2017-12-01|        0|         57|2021-07-30 15:50:...|            1|             1|          1|\n",
      "|2017-12-01|        0|         37|2021-07-30 15:50:...|            3|             3|          3|\n",
      "|2017-12-01|        0|         55|2021-07-30 15:50:...|            4|             4|          4|\n",
      "+----------+---------+-----------+--------------------+-------------+--------------+-----------+\n",
      "only showing top 20 rows\n",
      "\n"
     ]
    },
    {
     "name": "stderr",
     "output_type": "stream",
     "text": [
      "                                                                                \r"
     ]
    },
    {
     "name": "stdout",
     "output_type": "stream",
     "text": [
      "+----------+---------+-----------+--------------------+-------------+--------------+-----------+\n",
      "| date_only|date_hour|date_minute|           timestamp|total_reviews|total_business|total_users|\n",
      "+----------+---------+-----------+--------------------+-------------+--------------+-----------+\n",
      "|2017-12-01|        1|          1|2021-07-30 15:51:...|            2|             2|          2|\n",
      "|2017-12-01|        1|         10|2021-07-30 15:51:...|            6|             6|          5|\n",
      "|2017-12-01|        1|          0|2021-07-30 15:51:...|            3|             3|          3|\n",
      "|2017-12-01|        1|         17|2021-07-30 15:51:...|            2|             2|          2|\n",
      "|2017-12-01|        1|          2|2021-07-30 15:51:...|            3|             3|          3|\n",
      "|2017-12-01|        1|          7|2021-07-30 15:51:...|            1|             1|          1|\n",
      "|2017-12-01|        1|         18|2021-07-30 15:51:...|            5|             5|          5|\n",
      "|2017-12-01|        1|          9|2021-07-30 15:51:...|            4|             4|          4|\n",
      "|2017-12-01|        1|          8|2021-07-30 15:51:...|            1|             1|          1|\n",
      "|2017-12-01|        1|         13|2021-07-30 15:51:...|            1|             1|          1|\n",
      "|2017-12-01|        1|          3|2021-07-30 15:51:...|            4|             4|          4|\n",
      "|2017-12-01|        1|         14|2021-07-30 15:51:...|            3|             3|          3|\n",
      "|2017-12-01|        1|          6|2021-07-30 15:51:...|            2|             2|          2|\n",
      "|2017-12-01|        0|         58|2021-07-30 15:51:...|            2|             2|          2|\n",
      "|2017-12-01|        1|         15|2021-07-30 15:51:...|            3|             3|          3|\n",
      "|2017-12-01|        0|         57|2021-07-30 15:51:...|            4|             4|          4|\n",
      "|2017-12-01|        1|         11|2021-07-30 15:51:...|            4|             4|          4|\n",
      "|2017-12-01|        1|         16|2021-07-30 15:51:...|            2|             2|          2|\n",
      "|2017-12-01|        1|          5|2021-07-30 15:51:...|            1|             1|          1|\n",
      "|2017-12-01|        1|         19|2021-07-30 15:51:...|            3|             3|          3|\n",
      "+----------+---------+-----------+--------------------+-------------+--------------+-----------+\n",
      "only showing top 20 rows\n",
      "\n"
     ]
    },
    {
     "name": "stderr",
     "output_type": "stream",
     "text": [
      "                                                                                \r"
     ]
    },
    {
     "name": "stdout",
     "output_type": "stream",
     "text": [
      "+----------+---------+-----------+--------------------+-------------+--------------+-----------+\n",
      "| date_only|date_hour|date_minute|           timestamp|total_reviews|total_business|total_users|\n",
      "+----------+---------+-----------+--------------------+-------------+--------------+-----------+\n",
      "|2017-12-01|        1|         40|2021-07-30 15:52:...|            2|             2|          2|\n",
      "|2017-12-01|        1|         23|2021-07-30 15:52:...|            1|             1|          1|\n",
      "|2017-12-01|        1|         31|2021-07-30 15:52:...|            2|             2|          2|\n",
      "|2017-12-01|        1|         41|2021-07-30 15:52:...|            2|             2|          2|\n",
      "|2017-12-01|        1|         25|2021-07-30 15:52:...|            2|             2|          2|\n",
      "|2017-12-01|        1|         27|2021-07-30 15:52:...|            4|             4|          4|\n",
      "|2017-12-01|        1|         29|2021-07-30 15:52:...|            2|             2|          2|\n",
      "|2017-12-01|        1|         32|2021-07-30 15:52:...|            3|             3|          3|\n",
      "|2017-12-01|        1|         44|2021-07-30 15:52:...|            1|             1|          1|\n",
      "|2017-12-01|        1|         20|2021-07-30 15:52:...|            2|             2|          2|\n",
      "|2017-12-01|        1|         34|2021-07-30 15:52:...|            4|             4|          4|\n",
      "|2017-12-01|        1|         26|2021-07-30 15:52:...|            2|             2|          2|\n",
      "|2017-12-01|        1|         43|2021-07-30 15:52:...|            3|             3|          3|\n",
      "|2017-12-01|        1|         19|2021-07-30 15:52:...|            3|             3|          3|\n",
      "|2017-12-01|        1|         45|2021-07-30 15:52:...|            2|             2|          2|\n",
      "|2017-12-01|        1|         35|2021-07-30 15:52:...|            3|             3|          3|\n",
      "|2017-12-01|        1|         37|2021-07-30 15:52:...|            1|             1|          1|\n",
      "|2017-12-01|        1|         24|2021-07-30 15:52:...|            2|             2|          2|\n",
      "|2017-12-01|        1|         22|2021-07-30 15:52:...|            2|             2|          2|\n",
      "|2017-12-01|        1|         39|2021-07-30 15:52:...|            3|             3|          3|\n",
      "+----------+---------+-----------+--------------------+-------------+--------------+-----------+\n",
      "only showing top 20 rows\n",
      "\n"
     ]
    },
    {
     "name": "stderr",
     "output_type": "stream",
     "text": [
      "                                                                                \r"
     ]
    },
    {
     "name": "stdout",
     "output_type": "stream",
     "text": [
      "+----------+---------+-----------+--------------------+-------------+--------------+-----------+\n",
      "| date_only|date_hour|date_minute|           timestamp|total_reviews|total_business|total_users|\n",
      "+----------+---------+-----------+--------------------+-------------+--------------+-----------+\n",
      "|2017-12-01|        1|         54|2021-07-30 15:53:...|            4|             4|          4|\n",
      "|2017-12-01|        1|         46|2021-07-30 15:53:...|            3|             3|          3|\n",
      "|2017-12-01|        2|          1|2021-07-30 15:53:...|            2|             2|          2|\n",
      "|2017-12-01|        1|         48|2021-07-30 15:53:...|            2|             2|          2|\n",
      "|2017-12-01|        2|          7|2021-07-30 15:53:...|            1|             1|          1|\n",
      "|2017-12-01|        2|          0|2021-07-30 15:53:...|            2|             2|          2|\n",
      "|2017-12-01|        2|          2|2021-07-30 15:53:...|            2|             2|          2|\n",
      "|2017-12-01|        1|         53|2021-07-30 15:53:...|            1|             1|          1|\n",
      "|2017-12-01|        2|          6|2021-07-30 15:53:...|            3|             3|          3|\n",
      "|2017-12-01|        1|         58|2021-07-30 15:53:...|            2|             2|          2|\n",
      "|2017-12-01|        1|         49|2021-07-30 15:53:...|            4|             4|          4|\n",
      "|2017-12-01|        2|          3|2021-07-30 15:53:...|            1|             1|          1|\n",
      "|2017-12-01|        2|          5|2021-07-30 15:53:...|            5|             5|          5|\n",
      "|2017-12-01|        1|         52|2021-07-30 15:53:...|            6|             6|          5|\n",
      "|2017-12-01|        1|         55|2021-07-30 15:53:...|            3|             3|          3|\n",
      "|2017-12-01|        1|         59|2021-07-30 15:53:...|            2|             2|          2|\n",
      "|2017-12-01|        1|         50|2021-07-30 15:53:...|            1|             1|          1|\n",
      "|2017-12-01|        1|         47|2021-07-30 15:53:...|            3|             3|          3|\n",
      "|2017-12-01|        1|         56|2021-07-30 15:53:...|            3|             3|          3|\n",
      "|2017-12-01|        1|         57|2021-07-30 15:53:...|            2|             2|          2|\n",
      "+----------+---------+-----------+--------------------+-------------+--------------+-----------+\n",
      "only showing top 20 rows\n",
      "\n"
     ]
    },
    {
     "name": "stderr",
     "output_type": "stream",
     "text": [
      "                                                                                \r"
     ]
    },
    {
     "name": "stdout",
     "output_type": "stream",
     "text": [
      "+----------+---------+-----------+--------------------+-------------+--------------+-----------+\n",
      "| date_only|date_hour|date_minute|           timestamp|total_reviews|total_business|total_users|\n",
      "+----------+---------+-----------+--------------------+-------------+--------------+-----------+\n",
      "|2017-12-01|        2|         28|2021-07-30 15:54:...|            3|             3|          3|\n",
      "|2017-12-01|        2|         12|2021-07-30 15:54:...|            5|             5|          5|\n",
      "|2017-12-01|        2|         13|2021-07-30 15:54:...|            2|             2|          2|\n",
      "|2017-12-01|        2|         27|2021-07-30 15:54:...|            2|             2|          2|\n",
      "|2017-12-01|        2|         20|2021-07-30 15:54:...|            3|             3|          3|\n",
      "|2017-12-01|        2|         26|2021-07-30 15:54:...|            2|             2|          2|\n",
      "|2017-12-01|        2|         23|2021-07-30 15:54:...|            3|             3|          3|\n",
      "|2017-12-01|        2|         11|2021-07-30 15:54:...|            2|             2|          2|\n",
      "|2017-12-01|        2|         29|2021-07-30 15:54:...|            5|             5|          5|\n",
      "|2017-12-01|        2|         24|2021-07-30 15:54:...|            5|             4|          5|\n",
      "|2017-12-01|        2|         15|2021-07-30 15:54:...|            2|             2|          2|\n",
      "|2017-12-01|        2|         17|2021-07-30 15:54:...|            3|             3|          3|\n",
      "|2017-12-01|        2|         31|2021-07-30 15:54:...|            2|             2|          2|\n",
      "|2017-12-01|        2|          8|2021-07-30 15:54:...|            2|             2|          2|\n",
      "|2017-12-01|        2|         25|2021-07-30 15:54:...|            2|             2|          2|\n",
      "|2017-12-01|        2|         22|2021-07-30 15:54:...|            2|             2|          2|\n",
      "|2017-12-01|        2|          7|2021-07-30 15:54:...|            3|             3|          3|\n",
      "|2017-12-01|        2|         10|2021-07-30 15:54:...|            1|             1|          1|\n",
      "|2017-12-01|        2|         32|2021-07-30 15:54:...|            1|             1|          1|\n",
      "|2017-12-01|        2|          9|2021-07-30 15:54:...|            3|             3|          3|\n",
      "+----------+---------+-----------+--------------------+-------------+--------------+-----------+\n",
      "only showing top 20 rows\n",
      "\n"
     ]
    },
    {
     "name": "stderr",
     "output_type": "stream",
     "text": [
      "                                                                                \r"
     ]
    },
    {
     "name": "stdout",
     "output_type": "stream",
     "text": [
      "+----------+---------+-----------+--------------------+-------------+--------------+-----------+\n",
      "| date_only|date_hour|date_minute|           timestamp|total_reviews|total_business|total_users|\n",
      "+----------+---------+-----------+--------------------+-------------+--------------+-----------+\n",
      "|2017-12-01|        2|         54|2021-07-30 15:55:...|            3|             3|          3|\n",
      "|2017-12-01|        2|         42|2021-07-30 15:55:...|            3|             3|          3|\n",
      "|2017-12-01|        2|         36|2021-07-30 15:55:...|            1|             1|          1|\n",
      "|2017-12-01|        2|         44|2021-07-30 15:55:...|            3|             3|          3|\n",
      "|2017-12-01|        2|         32|2021-07-30 15:55:...|            1|             1|          1|\n",
      "|2017-12-01|        2|         48|2021-07-30 15:55:...|            2|             2|          2|\n",
      "|2017-12-01|        2|         57|2021-07-30 15:55:...|            1|             1|          1|\n",
      "|2017-12-01|        2|         47|2021-07-30 15:55:...|            3|             3|          3|\n",
      "|2017-12-01|        2|         40|2021-07-30 15:55:...|            2|             2|          2|\n",
      "|2017-12-01|        2|         35|2021-07-30 15:55:...|            2|             2|          2|\n",
      "|2017-12-01|        2|         56|2021-07-30 15:55:...|            2|             2|          2|\n",
      "|2017-12-01|        2|         58|2021-07-30 15:55:...|            3|             3|          3|\n",
      "|2017-12-01|        2|         33|2021-07-30 15:55:...|            1|             1|          1|\n",
      "|2017-12-01|        2|         37|2021-07-30 15:55:...|            3|             3|          3|\n",
      "|2017-12-01|        2|         52|2021-07-30 15:55:...|            6|             6|          6|\n",
      "|2017-12-01|        2|         50|2021-07-30 15:55:...|            2|             2|          2|\n",
      "|2017-12-01|        2|         34|2021-07-30 15:55:...|            5|             5|          5|\n",
      "|2017-12-01|        2|         59|2021-07-30 15:55:...|            1|             1|          1|\n",
      "|2017-12-01|        2|         39|2021-07-30 15:55:...|            4|             4|          4|\n",
      "|2017-12-01|        2|         51|2021-07-30 15:55:...|            2|             2|          2|\n",
      "+----------+---------+-----------+--------------------+-------------+--------------+-----------+\n",
      "only showing top 20 rows\n",
      "\n"
     ]
    },
    {
     "name": "stderr",
     "output_type": "stream",
     "text": [
      "[Stage 777:===============================>                     (119 + 1) / 200]\r"
     ]
    }
   ],
   "source": [
    "# Save the output to disk in Parquet files\n",
    "# Output is lowest grain with selected columns , less text. \n",
    "# What is the speed this is written to here ??\n",
    "#partition by 1 column and then write to disk \n",
    "\n",
    "\n",
    "raw_path = \"/home/jovyan/work/Data/detail\"\n",
    "checkpoint_path = \"/home/jovyan/work/Data/cp\"\n",
    "\n",
    "\n",
    "queryStream =(\n",
    "     df2.repartition(1).writeStream.partitionBy('date_only')  \\\n",
    "    .trigger(processingTime='60 seconds') \\\n",
    "    .format(\"parquet\") \\\n",
    "    .queryName(\"base3\") \\\n",
    "    .option(\"checkpointLocation\", checkpoint_path)\\\n",
    "    .option(\"path\", raw_path)\\\n",
    "    .outputMode(\"append\") \\\n",
    "    .start())"
   ]
  },
  {
   "cell_type": "code",
   "execution_count": null,
   "id": "bc815a78",
   "metadata": {},
   "outputs": [],
   "source": [
    "# Optional : Read parquet files as stream to output the number of rows (could use for rest of this code??)"
   ]
  },
  {
   "cell_type": "markdown",
   "id": "25c8178b",
   "metadata": {},
   "source": [
    "## 2. Summary Table to MySQL "
   ]
  },
  {
   "cell_type": "code",
   "execution_count": null,
   "id": "2e09a4df",
   "metadata": {},
   "outputs": [],
   "source": [
    "#.withWatermark(\"Date_Time\", \"1 minutes\") \\\n",
    "#.withColumn('timestamp', unix_timestamp(col('Date_Time'), \"MM/dd/yyyy hh:mm:ss aa\").cast(TimestampType()))\\"
   ]
  },
  {
   "cell_type": "code",
   "execution_count": 7,
   "id": "5345ffa9",
   "metadata": {},
   "outputs": [],
   "source": [
    "import pyspark.sql.functions as fn"
   ]
  },
  {
   "cell_type": "code",
   "execution_count": 8,
   "id": "b03358a1",
   "metadata": {},
   "outputs": [],
   "source": [
    "# Data Processing/Data Transformation time stamp partition key \n",
    "event_message_detail_agg_df = df2 \\\n",
    "        .withColumn('timestamp', to_timestamp(current_timestamp(),\"MM-dd-yyyy HH mm ss SSS\"))\\\n",
    "        .withWatermark(\"timestamp\", \"1 minutes\") \\\n",
    "        .groupby(\"date_only\",\n",
    "                 \"date_hour\", \n",
    "                 \"date_minute\",\"timestamp\")\\\n",
    "        .agg(fn.approx_count_distinct('review_id').alias('total_reviews')\n",
    "             ,fn.approx_count_distinct('business_id').alias('total_business')\n",
    "             ,fn.approx_count_distinct('user_id').alias('total_users') ).alias(\"data\").select(\"data.*\")\n"
   ]
  },
  {
   "cell_type": "code",
   "execution_count": null,
   "id": "831ff092",
   "metadata": {},
   "outputs": [],
   "source": [
    "#console print for debuging \n",
    "event_message_detail_agg_df_stream = event_message_detail_agg_df \\\n",
    "        .writeStream \\\n",
    "        .trigger(processingTime='60 seconds') \\\n",
    "        .outputMode(\"update\") \\\n",
    "        .option(\"truncate\", \"false\")\\\n",
    "        .format(\"console\") \\\n",
    "        .start()"
   ]
  },
  {
   "cell_type": "markdown",
   "id": "b6244615",
   "metadata": {},
   "source": [
    "https://spark.apache.org/docs/latest/structured-streaming-programming-guide.html\n",
    "https://docs.databricks.com/spark/latest/structured-streaming/foreach.html "
   ]
  },
  {
   "cell_type": "markdown",
   "id": "af9724d6",
   "metadata": {},
   "source": [
    "My sql "
   ]
  },
  {
   "cell_type": "code",
   "execution_count": null,
   "id": "1bba328b",
   "metadata": {},
   "outputs": [],
   "source": [
    "#write to sql database \n",
    "from pyspark.sql import DataFrameWriter\n",
    "\n",
    "db_target_properties = {\n",
    "    'user': \"root\",\n",
    "    'password': \"mypass\",\n",
    "    'driver': 'com.mysql.jdbc.Driver',\n",
    "    'useSSL':'false'\n",
    "}\n",
    "\n",
    "def foreach_batch_function(df, epoch_id):\n",
    "    df.show()\n",
    "    df.write.jdbc(url='jdbc:mysql://185.185.126.143:5340/Yelp_Test', mode='append',  table=\"all_data3\",  properties=db_target_properties)\n",
    "    pass\n",
    "\n",
    "#query = df2.writeStream.outputMode(\"append\").foreachBatch(foreach_batch_function).start() \n",
    "event_message_detail_agg_df_stream1 = event_message_detail_agg_df \\\n",
    "        .writeStream \\\n",
    "        .trigger(processingTime='60 seconds') \\\n",
    "        .outputMode(\"update\") \\\n",
    "        .option(\"truncate\", \"false\").foreachBatch(foreach_batch_function).start()"
   ]
  },
  {
   "cell_type": "markdown",
   "id": "47fb6352",
   "metadata": {},
   "source": [
    "Cassandra "
   ]
  },
  {
   "cell_type": "code",
   "execution_count": 10,
   "id": "ac329420",
   "metadata": {},
   "outputs": [
    {
     "name": "stderr",
     "output_type": "stream",
     "text": [
      "21/07/30 11:50:07 WARN StreamingQueryManager: Temporary checkpoint location created which is deleted normally when the query didn't fail: /tmp/temporary-0f930720-628c-4abe-8f6a-5a9213b62305. If it's required to delete it under any circumstances, please set spark.sql.streaming.forceDeleteTempCheckpointLocation to true. Important to know deleting temp checkpoint folder is best effort.\n",
      "                                                                                \r"
     ]
    },
    {
     "name": "stdout",
     "output_type": "stream",
     "text": [
      "+---------+---------+-----------+---------+-------------+--------------+-----------+\n",
      "|date_only|date_hour|date_minute|timestamp|total_reviews|total_business|total_users|\n",
      "+---------+---------+-----------+---------+-------------+--------------+-----------+\n",
      "+---------+---------+-----------+---------+-------------+--------------+-----------+\n",
      "\n"
     ]
    },
    {
     "name": "stderr",
     "output_type": "stream",
     "text": [
      "                                                                                \r"
     ]
    },
    {
     "name": "stdout",
     "output_type": "stream",
     "text": [
      "+----------+---------+-----------+--------------------+-------------+--------------+-----------+\n",
      "| date_only|date_hour|date_minute|           timestamp|total_reviews|total_business|total_users|\n",
      "+----------+---------+-----------+--------------------+-------------+--------------+-----------+\n",
      "|2017-12-01|       15|         58|2021-07-30 11:51:...|            1|             1|          1|\n",
      "|2017-12-01|        0|          1|2021-07-30 11:51:...|            3|             3|          3|\n",
      "|2017-12-01|       15|         53|2021-07-30 11:51:...|            1|             1|          1|\n",
      "|2017-12-01|       15|         54|2021-07-30 11:51:...|            3|             3|          3|\n",
      "|2017-12-01|       16|          6|2021-07-30 11:51:...|            1|             1|          1|\n",
      "|2017-12-01|       16|          7|2021-07-30 11:51:...|            1|             1|          1|\n",
      "|2017-12-01|       16|          4|2021-07-30 11:51:...|            2|             2|          2|\n",
      "|2017-12-01|       16|          3|2021-07-30 11:51:...|            2|             2|          2|\n",
      "|2017-12-01|       16|         13|2021-07-30 11:51:...|            2|             2|          2|\n",
      "|2017-12-01|       16|         10|2021-07-30 11:51:...|            2|             2|          2|\n",
      "|2017-12-01|       15|         59|2021-07-30 11:51:...|            2|             2|          2|\n",
      "|2017-12-01|       16|         14|2021-07-30 11:51:...|            1|             1|          1|\n",
      "|2017-12-01|       15|         55|2021-07-30 11:51:...|            2|             2|          2|\n",
      "|2017-12-01|       16|          2|2021-07-30 11:51:...|            7|             7|          7|\n",
      "|2017-12-01|        0|          0|2021-07-30 11:51:...|            2|             2|          2|\n",
      "|2017-12-01|       16|         12|2021-07-30 11:51:...|            1|             1|          1|\n",
      "|2017-12-01|       16|         19|2021-07-30 11:51:...|            1|             1|          1|\n",
      "|2017-12-01|       16|         11|2021-07-30 11:51:...|            1|             1|          1|\n",
      "|2017-12-01|       16|         17|2021-07-30 11:51:...|            1|             1|          1|\n",
      "|2017-12-01|       16|          8|2021-07-30 11:51:...|            2|             2|          2|\n",
      "+----------+---------+-----------+--------------------+-------------+--------------+-----------+\n",
      "only showing top 20 rows\n",
      "\n"
     ]
    },
    {
     "name": "stderr",
     "output_type": "stream",
     "text": [
      "                                                                                \r"
     ]
    },
    {
     "name": "stdout",
     "output_type": "stream",
     "text": [
      "+----------+---------+-----------+--------------------+-------------+--------------+-----------+\n",
      "| date_only|date_hour|date_minute|           timestamp|total_reviews|total_business|total_users|\n",
      "+----------+---------+-----------+--------------------+-------------+--------------+-----------+\n",
      "|2017-12-01|        0|          4|2021-07-30 11:52:...|            1|             1|          1|\n",
      "|2017-12-01|        0|         19|2021-07-30 11:52:...|            3|             3|          3|\n",
      "|2017-12-01|        0|          2|2021-07-30 11:52:...|            3|             3|          3|\n",
      "|2017-12-01|        0|         12|2021-07-30 11:52:...|            2|             2|          2|\n",
      "|2017-12-01|        0|         16|2021-07-30 11:52:...|            3|             3|          3|\n",
      "|2017-12-01|        0|         22|2021-07-30 11:52:...|            3|             3|          3|\n",
      "|2017-12-01|        0|          8|2021-07-30 11:52:...|            4|             4|          4|\n",
      "|2017-12-01|        0|         20|2021-07-30 11:52:...|            5|             5|          5|\n",
      "|2017-12-01|        0|          7|2021-07-30 11:52:...|            2|             2|          2|\n",
      "|2017-12-01|        0|          5|2021-07-30 11:52:...|            2|             2|          2|\n",
      "|2017-12-01|        0|         14|2021-07-30 11:52:...|            6|             6|          6|\n",
      "|2017-12-01|        0|         10|2021-07-30 11:52:...|            3|             3|          3|\n",
      "|2017-12-01|        0|         18|2021-07-30 11:52:...|            3|             3|          3|\n",
      "|2017-12-01|        0|          6|2021-07-30 11:52:...|            4|             4|          4|\n",
      "|2017-12-01|        0|          9|2021-07-30 11:52:...|            3|             3|          3|\n",
      "|2017-12-01|        0|         15|2021-07-30 11:52:...|            1|             1|          1|\n",
      "|2017-12-01|        0|         21|2021-07-30 11:52:...|            1|             1|          1|\n",
      "|2017-12-01|        0|          3|2021-07-30 11:52:...|            2|             2|          2|\n",
      "|2017-12-01|        0|         11|2021-07-30 11:52:...|            3|             3|          3|\n",
      "|2017-12-01|        0|         17|2021-07-30 11:52:...|            2|             2|          2|\n",
      "+----------+---------+-----------+--------------------+-------------+--------------+-----------+\n",
      "only showing top 20 rows\n",
      "\n"
     ]
    },
    {
     "name": "stderr",
     "output_type": "stream",
     "text": [
      "                                                                                \r"
     ]
    },
    {
     "name": "stdout",
     "output_type": "stream",
     "text": [
      "+----------+---------+-----------+--------------------+-------------+--------------+-----------+\n",
      "| date_only|date_hour|date_minute|           timestamp|total_reviews|total_business|total_users|\n",
      "+----------+---------+-----------+--------------------+-------------+--------------+-----------+\n",
      "|2017-12-01|        0|         38|2021-07-30 11:53:...|            2|             2|          2|\n",
      "|2017-12-01|        0|         33|2021-07-30 11:53:...|            5|             5|          5|\n",
      "|2017-12-01|        0|         35|2021-07-30 11:53:...|            3|             3|          3|\n",
      "|2017-12-01|        0|         30|2021-07-30 11:53:...|            3|             3|          3|\n",
      "|2017-12-01|        0|         47|2021-07-30 11:53:...|            1|             1|          1|\n",
      "|2017-12-01|        0|         28|2021-07-30 11:53:...|            2|             2|          2|\n",
      "|2017-12-01|        0|         36|2021-07-30 11:53:...|            1|             1|          1|\n",
      "|2017-12-01|        0|         25|2021-07-30 11:53:...|            4|             4|          4|\n",
      "|2017-12-01|        0|         41|2021-07-30 11:53:...|            2|             2|          2|\n",
      "|2017-12-01|        0|         27|2021-07-30 11:53:...|            1|             1|          1|\n",
      "|2017-12-01|        0|         26|2021-07-30 11:53:...|            4|             4|          4|\n",
      "|2017-12-01|        0|         37|2021-07-30 11:53:...|            3|             3|          3|\n",
      "|2017-12-01|        0|         43|2021-07-30 11:53:...|            3|             3|          3|\n",
      "|2017-12-01|        0|         23|2021-07-30 11:53:...|            3|             3|          3|\n",
      "|2017-12-01|        0|         32|2021-07-30 11:53:...|            1|             1|          1|\n",
      "|2017-12-01|        0|         40|2021-07-30 11:53:...|            2|             2|          2|\n",
      "|2017-12-01|        0|         45|2021-07-30 11:53:...|            3|             3|          3|\n",
      "|2017-12-01|        0|         46|2021-07-30 11:53:...|            4|             4|          4|\n",
      "|2017-12-01|        0|         39|2021-07-30 11:53:...|            2|             2|          2|\n",
      "|2017-12-01|        0|         44|2021-07-30 11:53:...|            1|             1|          1|\n",
      "+----------+---------+-----------+--------------------+-------------+--------------+-----------+\n",
      "only showing top 20 rows\n",
      "\n"
     ]
    },
    {
     "name": "stderr",
     "output_type": "stream",
     "text": [
      "                                                                                \r"
     ]
    }
   ],
   "source": [
    "#write to sql database \n",
    "from pyspark.sql import DataFrameWriter\n",
    "\n",
    "\n",
    "def foreach_batch_function(df, epoch_id):\n",
    "    df.show()\n",
    "    #df.write.jdbc(url='jdbc:mysql://185.185.126.143:5340/Yelp_Test', mode='append',  table=\"all_data3\",  properties=db_target_properties)\n",
    "    df.write.format(\"org.apache.spark.sql.cassandra\").mode('append').options(table=\"user_review\", keyspace=\"yelp\").save()\n",
    "    pass\n",
    "\n",
    "#query = df2.writeStream.outputMode(\"append\").foreachBatch(foreach_batch_function).start() \n",
    "event_message_detail_agg_df_stream1 = event_message_detail_agg_df \\\n",
    "        .writeStream \\\n",
    "        .trigger(processingTime='60 seconds') \\\n",
    "        .outputMode(\"update\") \\\n",
    "        .option(\"truncate\", \"false\").foreachBatch(foreach_batch_function).start()\n",
    "\n"
   ]
  },
  {
   "cell_type": "code",
   "execution_count": null,
   "id": "84da5d94",
   "metadata": {},
   "outputs": [],
   "source": []
  },
  {
   "cell_type": "code",
   "execution_count": null,
   "id": "1183d6ca",
   "metadata": {},
   "outputs": [],
   "source": []
  },
  {
   "cell_type": "markdown",
   "id": "4d68f470",
   "metadata": {},
   "source": [
    "## 3.1 Alerts A : A consumer posts more than four posts in a rolling minute"
   ]
  },
  {
   "cell_type": "code",
   "execution_count": 20,
   "id": "7db511d7",
   "metadata": {},
   "outputs": [
    {
     "name": "stderr",
     "output_type": "stream",
     "text": [
      "21/07/30 15:57:25 WARN StreamingQueryManager: Temporary checkpoint location created which is deleted normally when the query didn't fail: /tmp/temporary-dadb2df1-7348-4772-b275-e9ad17212042. If it's required to delete it under any circumstances, please set spark.sql.streaming.forceDeleteTempCheckpointLocation to true. Important to know deleting temp checkpoint folder is best effort.\n",
      "                                                                                \r"
     ]
    }
   ],
   "source": [
    "queryStreamMem4 = (df2\n",
    " .writeStream\n",
    " .format(\"memory\")\n",
    " .queryName(\"base5\") #name for this query\n",
    " .outputMode(\"update\")\n",
    " .start())"
   ]
  },
  {
   "cell_type": "code",
   "execution_count": 21,
   "id": "26a01401",
   "metadata": {},
   "outputs": [
    {
     "name": "stdout",
     "output_type": "stream",
     "text": [
      "Run:8\n"
     ]
    },
    {
     "ename": "NameError",
     "evalue": "name 'queryStreamMem' is not defined",
     "output_type": "error",
     "traceback": [
      "\u001b[0;31m---------------------------------------------------------------------------\u001b[0m",
      "\u001b[0;31mKeyboardInterrupt\u001b[0m                         Traceback (most recent call last)",
      "\u001b[0;32m/tmp/ipykernel_31063/2746303083.py\u001b[0m in \u001b[0;36m<module>\u001b[0;34m\u001b[0m\n\u001b[1;32m     21\u001b[0m              \u001b[0;31m#spark.sql(\"select count(1) as Total_Posts from base\").show()\u001b[0m\u001b[0;34m\u001b[0m\u001b[0;34m\u001b[0m\u001b[0;34m\u001b[0m\u001b[0m\n\u001b[0;32m---> 22\u001b[0;31m             \u001b[0mspark\u001b[0m\u001b[0;34m.\u001b[0m\u001b[0msql\u001b[0m\u001b[0;34m(\u001b[0m\u001b[0;34m\"select user_id , count(distinct review_id) as Total_Posts from base5 group by user_id having Total_Posts>=4 \"\u001b[0m\u001b[0;34m)\u001b[0m\u001b[0;34m.\u001b[0m\u001b[0mshow\u001b[0m\u001b[0;34m(\u001b[0m\u001b[0;34m)\u001b[0m\u001b[0;34m\u001b[0m\u001b[0;34m\u001b[0m\u001b[0m\n\u001b[0m\u001b[1;32m     23\u001b[0m         \u001b[0;32melse\u001b[0m\u001b[0;34m:\u001b[0m\u001b[0;34m\u001b[0m\u001b[0;34m\u001b[0m\u001b[0m\n",
      "\u001b[0;32m/usr/local/spark/python/pyspark/sql/dataframe.py\u001b[0m in \u001b[0;36mshow\u001b[0;34m(self, n, truncate, vertical)\u001b[0m\n\u001b[1;32m    483\u001b[0m         \u001b[0;32mif\u001b[0m \u001b[0misinstance\u001b[0m\u001b[0;34m(\u001b[0m\u001b[0mtruncate\u001b[0m\u001b[0;34m,\u001b[0m \u001b[0mbool\u001b[0m\u001b[0;34m)\u001b[0m \u001b[0;32mand\u001b[0m \u001b[0mtruncate\u001b[0m\u001b[0;34m:\u001b[0m\u001b[0;34m\u001b[0m\u001b[0;34m\u001b[0m\u001b[0m\n\u001b[0;32m--> 484\u001b[0;31m             \u001b[0mprint\u001b[0m\u001b[0;34m(\u001b[0m\u001b[0mself\u001b[0m\u001b[0;34m.\u001b[0m\u001b[0m_jdf\u001b[0m\u001b[0;34m.\u001b[0m\u001b[0mshowString\u001b[0m\u001b[0;34m(\u001b[0m\u001b[0mn\u001b[0m\u001b[0;34m,\u001b[0m \u001b[0;36m20\u001b[0m\u001b[0;34m,\u001b[0m \u001b[0mvertical\u001b[0m\u001b[0;34m)\u001b[0m\u001b[0;34m)\u001b[0m\u001b[0;34m\u001b[0m\u001b[0;34m\u001b[0m\u001b[0m\n\u001b[0m\u001b[1;32m    485\u001b[0m         \u001b[0;32melse\u001b[0m\u001b[0;34m:\u001b[0m\u001b[0;34m\u001b[0m\u001b[0;34m\u001b[0m\u001b[0m\n",
      "\u001b[0;32m/usr/local/spark/python/lib/py4j-0.10.9-src.zip/py4j/java_gateway.py\u001b[0m in \u001b[0;36m__call__\u001b[0;34m(self, *args)\u001b[0m\n\u001b[1;32m   1302\u001b[0m \u001b[0;34m\u001b[0m\u001b[0m\n\u001b[0;32m-> 1303\u001b[0;31m         \u001b[0manswer\u001b[0m \u001b[0;34m=\u001b[0m \u001b[0mself\u001b[0m\u001b[0;34m.\u001b[0m\u001b[0mgateway_client\u001b[0m\u001b[0;34m.\u001b[0m\u001b[0msend_command\u001b[0m\u001b[0;34m(\u001b[0m\u001b[0mcommand\u001b[0m\u001b[0;34m)\u001b[0m\u001b[0;34m\u001b[0m\u001b[0;34m\u001b[0m\u001b[0m\n\u001b[0m\u001b[1;32m   1304\u001b[0m         return_value = get_return_value(\n",
      "\u001b[0;32m/usr/local/spark/python/lib/py4j-0.10.9-src.zip/py4j/java_gateway.py\u001b[0m in \u001b[0;36msend_command\u001b[0;34m(self, command, retry, binary)\u001b[0m\n\u001b[1;32m   1032\u001b[0m         \u001b[0;32mtry\u001b[0m\u001b[0;34m:\u001b[0m\u001b[0;34m\u001b[0m\u001b[0;34m\u001b[0m\u001b[0m\n\u001b[0;32m-> 1033\u001b[0;31m             \u001b[0mresponse\u001b[0m \u001b[0;34m=\u001b[0m \u001b[0mconnection\u001b[0m\u001b[0;34m.\u001b[0m\u001b[0msend_command\u001b[0m\u001b[0;34m(\u001b[0m\u001b[0mcommand\u001b[0m\u001b[0;34m)\u001b[0m\u001b[0;34m\u001b[0m\u001b[0;34m\u001b[0m\u001b[0m\n\u001b[0m\u001b[1;32m   1034\u001b[0m             \u001b[0;32mif\u001b[0m \u001b[0mbinary\u001b[0m\u001b[0;34m:\u001b[0m\u001b[0;34m\u001b[0m\u001b[0;34m\u001b[0m\u001b[0m\n",
      "\u001b[0;32m/usr/local/spark/python/lib/py4j-0.10.9-src.zip/py4j/java_gateway.py\u001b[0m in \u001b[0;36msend_command\u001b[0;34m(self, command)\u001b[0m\n\u001b[1;32m   1199\u001b[0m         \u001b[0;32mtry\u001b[0m\u001b[0;34m:\u001b[0m\u001b[0;34m\u001b[0m\u001b[0;34m\u001b[0m\u001b[0m\n\u001b[0;32m-> 1200\u001b[0;31m             \u001b[0manswer\u001b[0m \u001b[0;34m=\u001b[0m \u001b[0msmart_decode\u001b[0m\u001b[0;34m(\u001b[0m\u001b[0mself\u001b[0m\u001b[0;34m.\u001b[0m\u001b[0mstream\u001b[0m\u001b[0;34m.\u001b[0m\u001b[0mreadline\u001b[0m\u001b[0;34m(\u001b[0m\u001b[0;34m)\u001b[0m\u001b[0;34m[\u001b[0m\u001b[0;34m:\u001b[0m\u001b[0;34m-\u001b[0m\u001b[0;36m1\u001b[0m\u001b[0;34m]\u001b[0m\u001b[0;34m)\u001b[0m\u001b[0;34m\u001b[0m\u001b[0;34m\u001b[0m\u001b[0m\n\u001b[0m\u001b[1;32m   1201\u001b[0m             \u001b[0mlogger\u001b[0m\u001b[0;34m.\u001b[0m\u001b[0mdebug\u001b[0m\u001b[0;34m(\u001b[0m\u001b[0;34m\"Answer received: {0}\"\u001b[0m\u001b[0;34m.\u001b[0m\u001b[0mformat\u001b[0m\u001b[0;34m(\u001b[0m\u001b[0manswer\u001b[0m\u001b[0;34m)\u001b[0m\u001b[0;34m)\u001b[0m\u001b[0;34m\u001b[0m\u001b[0;34m\u001b[0m\u001b[0m\n",
      "\u001b[0;32m/opt/conda/lib/python3.9/socket.py\u001b[0m in \u001b[0;36mreadinto\u001b[0;34m(self, b)\u001b[0m\n\u001b[1;32m    703\u001b[0m             \u001b[0;32mtry\u001b[0m\u001b[0;34m:\u001b[0m\u001b[0;34m\u001b[0m\u001b[0;34m\u001b[0m\u001b[0m\n\u001b[0;32m--> 704\u001b[0;31m                 \u001b[0;32mreturn\u001b[0m \u001b[0mself\u001b[0m\u001b[0;34m.\u001b[0m\u001b[0m_sock\u001b[0m\u001b[0;34m.\u001b[0m\u001b[0mrecv_into\u001b[0m\u001b[0;34m(\u001b[0m\u001b[0mb\u001b[0m\u001b[0;34m)\u001b[0m\u001b[0;34m\u001b[0m\u001b[0;34m\u001b[0m\u001b[0m\n\u001b[0m\u001b[1;32m    705\u001b[0m             \u001b[0;32mexcept\u001b[0m \u001b[0mtimeout\u001b[0m\u001b[0;34m:\u001b[0m\u001b[0;34m\u001b[0m\u001b[0;34m\u001b[0m\u001b[0m\n",
      "\u001b[0;31mKeyboardInterrupt\u001b[0m: ",
      "\nDuring handling of the above exception, another exception occurred:\n",
      "\u001b[0;31mNameError\u001b[0m                                 Traceback (most recent call last)",
      "\u001b[0;32m/tmp/ipykernel_31063/2746303083.py\u001b[0m in \u001b[0;36m<module>\u001b[0;34m\u001b[0m\n\u001b[1;32m     29\u001b[0m \u001b[0;32mexcept\u001b[0m \u001b[0mKeyboardInterrupt\u001b[0m\u001b[0;34m:\u001b[0m\u001b[0;34m\u001b[0m\u001b[0;34m\u001b[0m\u001b[0m\n\u001b[1;32m     30\u001b[0m     \u001b[0;31m# Stop Query Stream\u001b[0m\u001b[0;34m\u001b[0m\u001b[0;34m\u001b[0m\u001b[0;34m\u001b[0m\u001b[0m\n\u001b[0;32m---> 31\u001b[0;31m     \u001b[0mqueryStreamMem\u001b[0m\u001b[0;34m.\u001b[0m\u001b[0mstop\u001b[0m\u001b[0;34m(\u001b[0m\u001b[0;34m)\u001b[0m\u001b[0;34m\u001b[0m\u001b[0;34m\u001b[0m\u001b[0m\n\u001b[0m\u001b[1;32m     32\u001b[0m \u001b[0;34m\u001b[0m\u001b[0m\n\u001b[1;32m     33\u001b[0m     \u001b[0mprint\u001b[0m\u001b[0;34m(\u001b[0m\u001b[0;34m\"stream process interrupted\"\u001b[0m\u001b[0;34m)\u001b[0m\u001b[0;34m\u001b[0m\u001b[0;34m\u001b[0m\u001b[0m\n",
      "\u001b[0;31mNameError\u001b[0m: name 'queryStreamMem' is not defined"
     ]
    }
   ],
   "source": [
    "from time import sleep\n",
    "from IPython.display import clear_output\n",
    "\n",
    "# Count rows every 5 seconds while stream is active\n",
    "try:\n",
    "    i=1\n",
    "    # While stream is active, print count\n",
    "    while len(spark.streams.active) > 0:\n",
    "        \n",
    "        # Clear output\n",
    "        clear_output(wait=True)\n",
    "        print(\"Run:{}\".format(i))\n",
    "        \n",
    "        lst_queries = []\n",
    "        for s in spark.streams.active:\n",
    "            lst_queries.append(s.name)\n",
    "\n",
    "        # Verify if wiki_changes_count query is active before count\n",
    "        if \"base5\" in lst_queries:\n",
    "            # Count number of events\n",
    "             #spark.sql(\"select count(1) as Total_Posts from base\").show()\n",
    "            spark.sql(\"select user_id , count(distinct review_id) as Total_Posts from base5 group by user_id having Total_Posts>=4 \").show()\n",
    "        else:\n",
    "            print(\"'base5' query not found.\")\n",
    "\n",
    "        sleep(2)      #Report every 10 seconds \n",
    "        i=i+1\n",
    "        \n",
    "except KeyboardInterrupt:\n",
    "    # Stop Query Stream\n",
    "    queryStreamMem.stop()\n",
    "    \n",
    "    print(\"stream process interrupted\")"
   ]
  },
  {
   "cell_type": "markdown",
   "id": "1d326af3",
   "metadata": {},
   "source": [
    "## Sliding windows with watermark"
   ]
  },
  {
   "cell_type": "code",
   "execution_count": 24,
   "id": "6e871bbb",
   "metadata": {},
   "outputs": [
    {
     "name": "stderr",
     "output_type": "stream",
     "text": [
      "[Stage 1244:=====>       (86 + 1) / 200][Stage 1245:>               (0 + 0) / 1]\r"
     ]
    }
   ],
   "source": [
    "from pyspark.sql.functions import *\n",
    "windowedCountsDF = \\\n",
    "     df2 \\\n",
    "    .groupBy(\n",
    "      \"user_id\",\n",
    "      window(\"Time_Only\", \"5 minutes\", \"1 minutes\")) \\\n",
    "     .count() \\\n",
    "     .where(\"count > 1\")"
   ]
  },
  {
   "cell_type": "code",
   "execution_count": 25,
   "id": "d7b8c768",
   "metadata": {},
   "outputs": [
    {
     "name": "stderr",
     "output_type": "stream",
     "text": [
      "21/07/30 16:04:26 WARN StreamingQueryManager: Temporary checkpoint location created which is deleted normally when the query didn't fail: /tmp/temporary-2764e252-351c-4247-9367-a79f63767001. If it's required to delete it under any circumstances, please set spark.sql.streaming.forceDeleteTempCheckpointLocation to true. Important to know deleting temp checkpoint folder is best effort.\n",
      "                                                                                \r"
     ]
    },
    {
     "name": "stdout",
     "output_type": "stream",
     "text": [
      "-------------------------------------------\n",
      "Batch: 0\n",
      "-------------------------------------------\n",
      "+-------+------+-----+\n",
      "|user_id|window|count|\n",
      "+-------+------+-----+\n",
      "+-------+------+-----+\n",
      "\n"
     ]
    },
    {
     "name": "stderr",
     "output_type": "stream",
     "text": [
      "[Stage 1272:(199 + 1) / 200][Stage 1274:(0 + 1) / 200][Stage 1275:> (0 + 0) / 1]\r"
     ]
    },
    {
     "name": "stdout",
     "output_type": "stream",
     "text": [
      "-------------------------------------------\n",
      "Batch: 7\n",
      "-------------------------------------------\n",
      "+-------+------+-----+\n",
      "|user_id|window|count|\n",
      "+-------+------+-----+\n",
      "+-------+------+-----+\n",
      "\n"
     ]
    },
    {
     "name": "stderr",
     "output_type": "stream",
     "text": [
      "                                                                                \r"
     ]
    },
    {
     "name": "stdout",
     "output_type": "stream",
     "text": [
      "-------------------------------------------\n",
      "Batch: 1\n",
      "-------------------------------------------\n",
      "+----------------------+------------------------------------------+-----+\n",
      "|user_id               |window                                    |count|\n",
      "+----------------------+------------------------------------------+-----+\n",
      "|R1FVpAyl_BtxHBWdau2VLg|{2021-07-30 14:25:00, 2021-07-30 14:30:00}|2    |\n",
      "|R1FVpAyl_BtxHBWdau2VLg|{2021-07-30 14:29:00, 2021-07-30 14:34:00}|2    |\n",
      "|wxkBuh6J5NZJoOuSudrG5A|{2021-07-30 14:36:00, 2021-07-30 14:41:00}|2    |\n",
      "|wxkBuh6J5NZJoOuSudrG5A|{2021-07-30 14:35:00, 2021-07-30 14:40:00}|2    |\n",
      "+----------------------+------------------------------------------+-----+\n",
      "\n"
     ]
    },
    {
     "name": "stderr",
     "output_type": "stream",
     "text": [
      "                                                                                \r"
     ]
    },
    {
     "name": "stdout",
     "output_type": "stream",
     "text": [
      "+----------+---------+-----------+--------------------+-------------+--------------+-----------+\n",
      "| date_only|date_hour|date_minute|           timestamp|total_reviews|total_business|total_users|\n",
      "+----------+---------+-----------+--------------------+-------------+--------------+-----------+\n",
      "|2017-12-01|       14|         23|2021-07-30 16:05:...|            2|             2|          2|\n",
      "|2017-12-01|       14|         30|2021-07-30 16:05:...|            1|             1|          1|\n",
      "|2017-12-01|       14|         29|2021-07-30 16:05:...|            4|             4|          4|\n",
      "|2017-12-01|       14|         37|2021-07-30 16:05:...|            2|             2|          2|\n",
      "|2017-12-01|       14|         24|2021-07-30 16:05:...|            3|             3|          3|\n",
      "|2017-12-01|       14|         18|2021-07-30 16:05:...|            4|             4|          4|\n",
      "|2017-12-01|       14|         39|2021-07-30 16:05:...|            2|             2|          2|\n",
      "|2017-12-01|       14|         10|2021-07-30 16:05:...|            1|             1|          1|\n",
      "|2017-12-01|       14|          6|2021-07-30 16:05:...|            1|             1|          1|\n",
      "|2017-12-01|       14|         17|2021-07-30 16:05:...|            2|             2|          2|\n",
      "|2017-12-01|       14|         22|2021-07-30 16:05:...|            3|             3|          3|\n",
      "|2017-12-01|       14|         41|2021-07-30 16:05:...|            1|             1|          1|\n",
      "|2017-12-01|       14|         19|2021-07-30 16:05:...|            1|             1|          1|\n",
      "|2017-12-01|       14|          9|2021-07-30 16:05:...|            1|             1|          1|\n",
      "|2017-12-01|       14|         31|2021-07-30 16:05:...|            2|             2|          2|\n",
      "|2017-12-01|       14|         15|2021-07-30 16:05:...|            4|             4|          4|\n",
      "|2017-12-01|       14|         34|2021-07-30 16:05:...|            1|             1|          1|\n",
      "|2017-12-01|       14|         40|2021-07-30 16:05:...|            2|             2|          2|\n",
      "|2017-12-01|       14|         20|2021-07-30 16:05:...|            3|             3|          3|\n",
      "|2017-12-01|       14|         36|2021-07-30 16:05:...|            1|             1|          1|\n",
      "+----------+---------+-----------+--------------------+-------------+--------------+-----------+\n",
      "only showing top 20 rows\n",
      "\n"
     ]
    },
    {
     "name": "stderr",
     "output_type": "stream",
     "text": [
      "\r",
      "[Stage 1286:>            (10 + 1) / 200][Stage 1287:>               (0 + 0) / 1]\r",
      "\r",
      "[Stage 1286:>            (11 + 1) / 200][Stage 1287:>               (0 + 0) / 1]\r"
     ]
    }
   ],
   "source": [
    "#console print for debuging \n",
    "windowedCountsDF_stream = windowedCountsDF \\\n",
    "        .writeStream \\\n",
    "        .trigger(processingTime='60 seconds') \\\n",
    "        .outputMode(\"update\") \\\n",
    "        .option(\"truncate\", \"false\")\\\n",
    "        .format(\"console\") \\\n",
    "        .start() "
   ]
  },
  {
   "cell_type": "markdown",
   "id": "c876fe1d",
   "metadata": {},
   "source": [
    "## 3.2 Alert B : A business gets more than 5 posts in a rolling minute "
   ]
  },
  {
   "cell_type": "code",
   "execution_count": null,
   "id": "653d9848",
   "metadata": {},
   "outputs": [],
   "source": []
  }
 ],
 "metadata": {
  "kernelspec": {
   "display_name": "Python 3 (ipykernel)",
   "language": "python",
   "name": "python3"
  },
  "language_info": {
   "codemirror_mode": {
    "name": "ipython",
    "version": 3
   },
   "file_extension": ".py",
   "mimetype": "text/x-python",
   "name": "python",
   "nbconvert_exporter": "python",
   "pygments_lexer": "ipython3",
   "version": "3.9.5"
  }
 },
 "nbformat": 4,
 "nbformat_minor": 5
}
