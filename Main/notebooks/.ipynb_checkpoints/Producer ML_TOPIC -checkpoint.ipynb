{
 "cells": [
  {
   "cell_type": "markdown",
   "id": "2bf31d7e",
   "metadata": {},
   "source": [
    "## Producer ML_Topic "
   ]
  },
  {
   "cell_type": "code",
   "execution_count": 2,
   "id": "27037f45",
   "metadata": {},
   "outputs": [
    {
     "name": "stdout",
     "output_type": "stream",
     "text": [
      "Collecting kafka-python\n",
      "  Downloading kafka_python-2.0.2-py2.py3-none-any.whl (246 kB)\n",
      "\u001b[K     |████████████████████████████████| 246 kB 13.1 MB/s eta 0:00:01\n",
      "\u001b[?25hInstalling collected packages: kafka-python\n",
      "Successfully installed kafka-python-2.0.2\n",
      "Note: you may need to restart the kernel to use updated packages.\n"
     ]
    }
   ],
   "source": [
    "pip install kafka-python"
   ]
  },
  {
   "cell_type": "code",
   "execution_count": 1,
   "id": "a654e2c7",
   "metadata": {},
   "outputs": [
    {
     "name": "stdout",
     "output_type": "stream",
     "text": [
      "Kafka Producer Application Started ... \n",
      "                   review_id                 user_id             business_id  \\\n",
      "0     MXAfv0tJ7h5GMBXgKqmU6Q  SCDlBvTPZf6hC3tdCSRFEQ  qJxjhLQjLcYnpcqqDHS3Jg   \n",
      "1     m4shKWOnjyzXBfu0grz2Zg  wt2dLgkSPqjo6h-BsKXAGw  kC5waeCFXCuLicC4gfFPrw   \n",
      "2     rRQCXz5JXCAJXZqsV5JiMw  615TblffZEdpWYUglH1O1g  ADVLOM-Yqn5gEzEqdHjrqg   \n",
      "3     TlUwbT3IuHQ6cu9SROsvoA  LejQ1PKzX_VQYZ6RIrAWew  TfWcRkBUAqVIW10zaM3lzw   \n",
      "4     N66pdRhzayxvq-5HFY-Keg  curRPW5FoKuMb5Dw3XB7Ng  C83TzixCKBG78F7orXC71A   \n",
      "...                      ...                     ...                     ...   \n",
      "2361  OBh6DatqSyq1eB0JOWUFTA  zvQ7B3KZuFOX7pYLsOxhpA  Y6j61i879K1yhzgAHjLvUw   \n",
      "2362  MzaxV6arKUZYENDnzVwvSg  67nUKQanyN4Qv_EF3bMAmA  VKVno8MMtMAZtksPkbrBEQ   \n",
      "2363  mtsOS8iZ-guMpZZ9A_l_iQ  gIHXhNRxz6cr__0-us0fXQ  FKLLFGtNHaNScNfc-A_nRA   \n",
      "2364  U0wc-xOPEH3TxgmQSo7qrw  fbQTO9uaoBhw8daCST-s5A  7SYv7_vzyEr_xK3USFyGOg   \n",
      "2365  ygSMj4n9h1AOL2UsLZY8Ow  cGNqMlflo_1lhbx7hqU2gg  bSmQbw5A-WA0TtmFc1NTpQ   \n",
      "\n",
      "      stars  useful  funny  cool  \\\n",
      "0         5       0      0     0   \n",
      "1         4       0      0     0   \n",
      "2         1       7      0     0   \n",
      "3         5       6      0     2   \n",
      "4         1       2      0     0   \n",
      "...     ...     ...    ...   ...   \n",
      "2361      2      19     13    12   \n",
      "2362      1       1      0     0   \n",
      "2363      3       1      1     1   \n",
      "2364      4       0      0     0   \n",
      "2365      4       1      0     2   \n",
      "\n",
      "                                                   text            DateTime  \\\n",
      "0     I fell in love with Ceviche in Peru and then f... 2017-12-01 00:00:41   \n",
      "1     This is my go to location since it's closest a... 2017-12-01 00:00:50   \n",
      "2     My budgie was sick for a couple of days.  I ha... 2017-12-01 00:01:00   \n",
      "3     Who would have thought that one of the best Vi... 2017-12-01 00:01:15   \n",
      "4     We took our dog Lincoln here to be kenneled fo... 2017-12-01 00:01:32   \n",
      "...                                                 ...                 ...   \n",
      "2361  Quiet but fancyish mall.\\n\\nMy family stopped ... 2017-12-01 23:58:53   \n",
      "2362  I contacted them about their Uber Eats and onl... 2017-12-01 23:59:14   \n",
      "2363  Came here with some friends a couple of weeken... 2017-12-01 23:59:21   \n",
      "2364  Just a little place but very well organized an... 2017-12-01 23:59:33   \n",
      "2365  Came here because my husband had a hankering f... 2017-12-01 23:59:42   \n",
      "\n",
      "     Time_Only   Date_Only  Date_Hour  \n",
      "0     00:00:41  2017-12-01          0  \n",
      "1     00:00:50  2017-12-01          0  \n",
      "2     00:01:00  2017-12-01          0  \n",
      "3     00:01:15  2017-12-01          0  \n",
      "4     00:01:32  2017-12-01          0  \n",
      "...        ...         ...        ...  \n",
      "2361  23:58:53  2017-12-01         23  \n",
      "2362  23:59:14  2017-12-01         23  \n",
      "2363  23:59:21  2017-12-01         23  \n",
      "2364  23:59:33  2017-12-01         23  \n",
      "2365  23:59:42  2017-12-01         23  \n",
      "\n",
      "[2366 rows x 12 columns]\n"
     ]
    }
   ],
   "source": [
    "import pandas as pd\n",
    "from kafka import KafkaProducer\n",
    "from datetime import datetime\n",
    "import time\n",
    "import random\n",
    "import numpy as np\n",
    "import json  \n",
    "\n",
    "\n",
    "if __name__ == \"__main__\":\n",
    "    print(\"Kafka Producer Application Started ... \")\n",
    "    \n",
    "    producer = KafkaProducer(\n",
    "    bootstrap_servers='185.185.126.143:9092',\n",
    "    value_serializer=lambda v: json.dumps(v).encode('utf-8'))\n",
    "    \n",
    "    filepath = \"/home/jovyan/work/notebooks/Yelp_20171201.json\"\n",
    "    \n",
    "    yelp_df = pd.read_json(filepath , lines=True)\n",
    "    \n",
    "    print(yelp_df)\n",
    "  \n",
    "    yelp_df['order_id'] = np.arange(len(yelp_df))    ##what is this , field ?\n",
    "    yelp_list = yelp_df.to_dict(orient=\"records\")"
   ]
  },
  {
   "cell_type": "code",
   "execution_count": 3,
   "id": "4cedff19",
   "metadata": {},
   "outputs": [
    {
     "name": "stdout",
     "output_type": "stream",
     "text": [
      "Message Type:  <class 'str'>\n",
      "Message:  MXAfv0tJ7h5GMBXgKqmU6Q,I fell in love with Ceviche in Peru and then fell back in in DC at one of Jose Andres' places! This little hidden gem on Newbury is a new invention I had never heard of: Latin Fusion! And they definitely do the term justice. From authentic and mouth watering Mexican Elotes to the incredibly fresh fish ceviche all the way to Peruvian Pisco Sour I couldn't stop ordering and enjoying. I've been here 4 times after my first and the experiences are always too notch. Please go now before the newspaper reviews make the lines impossible to get in.\n",
      "Start : Tue Jul 27 10:27:09 2021\n"
     ]
    },
    {
     "ename": "KeyboardInterrupt",
     "evalue": "",
     "output_type": "error",
     "traceback": [
      "\u001b[0;31m---------------------------------------------------------------------------\u001b[0m",
      "\u001b[0;31mKeyboardInterrupt\u001b[0m                         Traceback (most recent call last)",
      "\u001b[0;32m/tmp/ipykernel_735/1366881741.py\u001b[0m in \u001b[0;36m<module>\u001b[0;34m\u001b[0m\n\u001b[1;32m     18\u001b[0m     \u001b[0;31m#producer.send(\"Topic\", message)\u001b[0m\u001b[0;34m\u001b[0m\u001b[0;34m\u001b[0m\u001b[0;34m\u001b[0m\u001b[0m\n\u001b[1;32m     19\u001b[0m     \u001b[0mprint\u001b[0m\u001b[0;34m(\u001b[0m\u001b[0;34m\"Start : %s\"\u001b[0m \u001b[0;34m%\u001b[0m \u001b[0mtime\u001b[0m\u001b[0;34m.\u001b[0m\u001b[0mctime\u001b[0m\u001b[0;34m(\u001b[0m\u001b[0;34m)\u001b[0m\u001b[0;34m)\u001b[0m\u001b[0;34m\u001b[0m\u001b[0;34m\u001b[0m\u001b[0m\n\u001b[0;32m---> 20\u001b[0;31m     \u001b[0mtime\u001b[0m\u001b[0;34m.\u001b[0m\u001b[0msleep\u001b[0m\u001b[0;34m(\u001b[0m\u001b[0;36m10\u001b[0m\u001b[0;34m)\u001b[0m                          \u001b[0;31m##Time Control x messages per y minutes\u001b[0m\u001b[0;34m\u001b[0m\u001b[0;34m\u001b[0m\u001b[0m\n\u001b[0m\u001b[1;32m     21\u001b[0m     \u001b[0mprint\u001b[0m\u001b[0;34m(\u001b[0m\u001b[0;34m\"End : %s\"\u001b[0m \u001b[0;34m%\u001b[0m \u001b[0mtime\u001b[0m\u001b[0;34m.\u001b[0m\u001b[0mctime\u001b[0m\u001b[0;34m(\u001b[0m\u001b[0;34m)\u001b[0m\u001b[0;34m)\u001b[0m\u001b[0;34m\u001b[0m\u001b[0;34m\u001b[0m\u001b[0m\n\u001b[1;32m     22\u001b[0m \u001b[0;34m\u001b[0m\u001b[0m\n",
      "\u001b[0;31mKeyboardInterrupt\u001b[0m: "
     ]
    }
   ],
   "source": [
    "    message_list = []\n",
    "    message = None\n",
    "    for message in yelp_list:\n",
    "        \n",
    "        message_fields_value_list = []\n",
    "               \n",
    "        message_fields_value_list.append(message[\"review_id\"])\n",
    "        #message_fields_value_list.append(message[\"business_id\"])\n",
    "        #message_fields_value_list.append(message[\"user_id\"])\n",
    "        #message_fields_value_list.append(message[\"DateTime\"])\n",
    "        message_fields_value_list.append(message[\"text\"])   #must be last because of comma issues\n",
    "\n",
    "        message = ','.join(str(v) for v in message_fields_value_list)\n",
    "        print(\"Message Type: \", type(message))\n",
    "        print(\"Message: \", message)\n",
    "        producer.send(\"ML_Topic\", message)         #Just one message , how can we make this more sustainable -not 3 lines?\n",
    "        #producer.send(\"S_Topic\", message)\n",
    "        #producer.send(\"Topic\", message)\n",
    "        print(\"Start : %s\" % time.ctime())\n",
    "        time.sleep(10)                          ##Time Control x messages per y minutes \n",
    "        print(\"End : %s\" % time.ctime())\n",
    "\n",
    "\n",
    "    print(\"Kafka Producer Application Completed. \")"
   ]
  },
  {
   "cell_type": "code",
   "execution_count": null,
   "id": "7b96eeab",
   "metadata": {},
   "outputs": [],
   "source": []
  }
 ],
 "metadata": {
  "kernelspec": {
   "display_name": "Python 3 (ipykernel)",
   "language": "python",
   "name": "python3"
  },
  "language_info": {
   "codemirror_mode": {
    "name": "ipython",
    "version": 3
   },
   "file_extension": ".py",
   "mimetype": "text/x-python",
   "name": "python",
   "nbconvert_exporter": "python",
   "pygments_lexer": "ipython3",
   "version": "3.9.5"
  }
 },
 "nbformat": 4,
 "nbformat_minor": 5
}
