{
 "cells": [
  {
   "cell_type": "markdown",
   "id": "4fc380b5",
   "metadata": {},
   "source": [
    "# Packages & Connections"
   ]
  },
  {
   "cell_type": "code",
   "execution_count": 8,
   "id": "cc08dc76",
   "metadata": {},
   "outputs": [
    {
     "name": "stdout",
     "output_type": "stream",
     "text": [
      "Requirement already satisfied: pandas in /opt/conda/lib/python3.9/site-packages (1.3.0)\n",
      "Requirement already satisfied: numpy>=1.17.3 in /opt/conda/lib/python3.9/site-packages (from pandas) (1.21.0)\n",
      "Requirement already satisfied: python-dateutil>=2.7.3 in /opt/conda/lib/python3.9/site-packages (from pandas) (2.8.1)\n",
      "Requirement already satisfied: pytz>=2017.3 in /opt/conda/lib/python3.9/site-packages (from pandas) (2021.1)\n",
      "Requirement already satisfied: six>=1.5 in /opt/conda/lib/python3.9/site-packages (from python-dateutil>=2.7.3->pandas) (1.16.0)\n",
      "Note: you may need to restart the kernel to use updated packages.\n"
     ]
    }
   ],
   "source": [
    "pip install pandas"
   ]
  },
  {
   "cell_type": "code",
   "execution_count": 9,
   "id": "31ab7acc",
   "metadata": {},
   "outputs": [
    {
     "name": "stdout",
     "output_type": "stream",
     "text": [
      "Requirement already satisfied: sqlalchemy in /opt/conda/lib/python3.9/site-packages (1.4.20)\n",
      "Requirement already satisfied: greenlet!=0.4.17 in /opt/conda/lib/python3.9/site-packages (from sqlalchemy) (1.1.0)\n",
      "Note: you may need to restart the kernel to use updated packages.\n"
     ]
    }
   ],
   "source": [
    "pip install sqlalchemy"
   ]
  },
  {
   "cell_type": "code",
   "execution_count": 10,
   "id": "030ca9d4",
   "metadata": {},
   "outputs": [
    {
     "name": "stdout",
     "output_type": "stream",
     "text": [
      "Requirement already satisfied: matplotlib in /opt/conda/lib/python3.9/site-packages (3.4.2)\n",
      "Requirement already satisfied: numpy>=1.16 in /opt/conda/lib/python3.9/site-packages (from matplotlib) (1.21.0)\n",
      "Requirement already satisfied: python-dateutil>=2.7 in /opt/conda/lib/python3.9/site-packages (from matplotlib) (2.8.1)\n",
      "Requirement already satisfied: cycler>=0.10 in /opt/conda/lib/python3.9/site-packages (from matplotlib) (0.10.0)\n",
      "Requirement already satisfied: kiwisolver>=1.0.1 in /opt/conda/lib/python3.9/site-packages (from matplotlib) (1.3.1)\n",
      "Requirement already satisfied: pyparsing>=2.2.1 in /opt/conda/lib/python3.9/site-packages (from matplotlib) (2.4.7)\n",
      "Requirement already satisfied: pillow>=6.2.0 in /opt/conda/lib/python3.9/site-packages (from matplotlib) (8.3.1)\n",
      "Requirement already satisfied: six in /opt/conda/lib/python3.9/site-packages (from cycler>=0.10->matplotlib) (1.16.0)\n",
      "Note: you may need to restart the kernel to use updated packages.\n"
     ]
    }
   ],
   "source": [
    "pip install matplotlib"
   ]
  },
  {
   "cell_type": "code",
   "execution_count": 11,
   "id": "76d88ebf",
   "metadata": {},
   "outputs": [
    {
     "name": "stdout",
     "output_type": "stream",
     "text": [
      "Requirement already satisfied: cassandra-driver in /opt/conda/lib/python3.9/site-packages (3.25.0)\n",
      "Requirement already satisfied: geomet<0.3,>=0.1 in /opt/conda/lib/python3.9/site-packages (from cassandra-driver) (0.2.1.post1)\n",
      "Requirement already satisfied: six>=1.9 in /opt/conda/lib/python3.9/site-packages (from cassandra-driver) (1.16.0)\n",
      "Requirement already satisfied: click in /opt/conda/lib/python3.9/site-packages (from geomet<0.3,>=0.1->cassandra-driver) (8.0.1)\n",
      "Note: you may need to restart the kernel to use updated packages.\n"
     ]
    }
   ],
   "source": [
    "pip install cassandra-driver"
   ]
  },
  {
   "cell_type": "code",
   "execution_count": 19,
   "id": "2d3544fb",
   "metadata": {},
   "outputs": [
    {
     "name": "stdout",
     "output_type": "stream",
     "text": [
      "Requirement already satisfied: plotly in /opt/conda/lib/python3.9/site-packages (5.1.0)\n",
      "Requirement already satisfied: tenacity>=6.2.0 in /opt/conda/lib/python3.9/site-packages (from plotly) (8.0.1)\n",
      "Requirement already satisfied: six in /opt/conda/lib/python3.9/site-packages (from plotly) (1.16.0)\n",
      "Note: you may need to restart the kernel to use updated packages.\n"
     ]
    }
   ],
   "source": [
    "pip install plotly"
   ]
  },
  {
   "cell_type": "code",
   "execution_count": 12,
   "id": "b18ac839",
   "metadata": {},
   "outputs": [],
   "source": [
    "import pandas as pd\n",
    "\n",
    "from cassandra.cluster import Cluster\n",
    "from cassandra.auth import PlainTextAuthProvider\n",
    "from cassandra.query import dict_factory\n",
    "\n",
    "CASSANDRA_HOST= '185.185.126.143'\n",
    "CASSANDRA_PORT= '9742'\n",
    "\n",
    "auth_provider = PlainTextAuthProvider(username='cassandra', password='cassandra')\n",
    "cluster = Cluster(contact_points=[CASSANDRA_HOST], port=CASSANDRA_PORT,\n",
    "    auth_provider=auth_provider)"
   ]
  },
  {
   "cell_type": "markdown",
   "id": "72cf17de",
   "metadata": {},
   "source": [
    "# Chart Data "
   ]
  },
  {
   "cell_type": "code",
   "execution_count": 110,
   "id": "68c1656c",
   "metadata": {},
   "outputs": [
    {
     "name": "stdout",
     "output_type": "stream",
     "text": [
      "       date_only date_hour date_minute  stars               timestamp  \\\n",
      "0     2017-12-01         0           0    NaN 2021-07-30 11:51:00.004   \n",
      "1     2017-12-01         0           1    NaN 2021-07-30 11:51:00.004   \n",
      "2     2017-12-01         0          10    NaN 2021-07-30 11:52:00.003   \n",
      "3     2017-12-01         0          11    NaN 2021-07-30 11:52:00.003   \n",
      "4     2017-12-01         0          12    NaN 2021-07-30 11:52:00.003   \n",
      "...          ...       ...         ...    ...                     ...   \n",
      "1007  2017-12-01         9          44    NaN 2021-07-30 12:06:00.008   \n",
      "1008  2017-12-01         9          45    NaN 2021-07-30 12:06:00.008   \n",
      "1009  2017-12-01         9          47    NaN 2021-07-30 12:06:00.008   \n",
      "1010  2017-12-01         9          52    NaN 2021-07-30 12:06:00.008   \n",
      "1011  2017-12-01         9          59    NaN 2021-07-30 12:06:00.008   \n",
      "\n",
      "      total_business  total_reviews  total_users  \n",
      "0                  2              2            2  \n",
      "1                  3              3            3  \n",
      "2                  3              3            3  \n",
      "3                  3              3            3  \n",
      "4                  2              2            2  \n",
      "...              ...            ...          ...  \n",
      "1007               1              1            1  \n",
      "1008               1              1            1  \n",
      "1009               2              2            2  \n",
      "1010               1              1            1  \n",
      "1011               1              1            1  \n",
      "\n",
      "[1012 rows x 8 columns]\n"
     ]
    },
    {
     "name": "stderr",
     "output_type": "stream",
     "text": [
      "/tmp/ipykernel_9176/1591178207.py:13: FutureWarning:\n",
      "\n",
      "The pandas.np module is deprecated and will be removed from pandas in a future version. Import numpy directly instead\n",
      "\n"
     ]
    }
   ],
   "source": [
    "session = cluster.connect('yelp')\n",
    "session.row_factory = dict_factory\n",
    "\n",
    "sql_query = \"SELECT * FROM yelp.user_review;\"\n",
    "\n",
    "df = pd.DataFrame()\n",
    "\n",
    "\n",
    "\n",
    "for row in session.execute(sql_query):\n",
    "    df = df.append(pd.DataFrame(row, index=[0]))\n",
    "\n",
    "df = df.reset_index(drop=True).fillna(pd.np.nan)\n",
    "\n",
    "print(df)"
   ]
  },
  {
   "cell_type": "code",
   "execution_count": 111,
   "id": "e31e445a",
   "metadata": {},
   "outputs": [],
   "source": [
    "df[\"period\"] = df['date_hour']+ ':' + df[\"date_minute\"]\n",
    "df['date_hour'] = pd.to_numeric(df['date_hour'])\n",
    "df['date_minute'] = pd.to_numeric(df['date_minute'])\n",
    "df[\"period\"] = df[\"period\"].apply(str)"
   ]
  },
  {
   "cell_type": "code",
   "execution_count": 112,
   "id": "7c9deefc",
   "metadata": {},
   "outputs": [
    {
     "name": "stdout",
     "output_type": "stream",
     "text": [
      "<class 'pandas.core.frame.DataFrame'>\n",
      "RangeIndex: 1012 entries, 0 to 1011\n",
      "Data columns (total 9 columns):\n",
      " #   Column          Non-Null Count  Dtype         \n",
      "---  ------          --------------  -----         \n",
      " 0   date_only       1012 non-null   object        \n",
      " 1   date_hour       1012 non-null   int64         \n",
      " 2   date_minute     1012 non-null   int64         \n",
      " 3   stars           0 non-null      float64       \n",
      " 4   timestamp       1012 non-null   datetime64[ns]\n",
      " 5   total_business  1012 non-null   int64         \n",
      " 6   total_reviews   1012 non-null   int64         \n",
      " 7   total_users     1012 non-null   int64         \n",
      " 8   period          1012 non-null   object        \n",
      "dtypes: datetime64[ns](1), float64(1), int64(5), object(2)\n",
      "memory usage: 71.3+ KB\n"
     ]
    }
   ],
   "source": [
    "df.info()"
   ]
  },
  {
   "cell_type": "code",
   "execution_count": 113,
   "id": "e9877d0a",
   "metadata": {},
   "outputs": [],
   "source": [
    "df2=df.groupby('date_hour', as_index=False)['total_reviews'].sum()\n",
    "df2=df2.sort_values('date_hour', ascending=True) "
   ]
  },
  {
   "cell_type": "code",
   "execution_count": 114,
   "id": "f3759671",
   "metadata": {},
   "outputs": [
    {
     "data": {
      "application/vnd.plotly.v1+json": {
       "config": {
        "plotlyServerURL": "https://plot.ly"
       },
       "data": [
        {
         "hovertemplate": "variable=date_hour<br>value=%{x}<br>total_reviews=%{y}<extra></extra>",
         "legendgroup": "date_hour",
         "line": {
          "color": "#636efa",
          "dash": "solid"
         },
         "mode": "lines",
         "name": "date_hour",
         "orientation": "v",
         "showlegend": true,
         "type": "scatter",
         "x": [
          0,
          1,
          2,
          3,
          4,
          5,
          6,
          7,
          8,
          9,
          10,
          11,
          12,
          13,
          14,
          15,
          16,
          17,
          18,
          19,
          20,
          21,
          22,
          23
         ],
         "xaxis": "x",
         "y": [
          158,
          149,
          136,
          120,
          111,
          78,
          58,
          19,
          20,
          14,
          17,
          14,
          25,
          43,
          96,
          92,
          119,
          152,
          149,
          171,
          147,
          146,
          136,
          134
         ],
         "yaxis": "y"
        }
       ],
       "layout": {
        "legend": {
         "title": {
          "text": "variable"
         },
         "tracegroupgap": 0
        },
        "template": {
         "data": {
          "bar": [
           {
            "error_x": {
             "color": "#2a3f5f"
            },
            "error_y": {
             "color": "#2a3f5f"
            },
            "marker": {
             "line": {
              "color": "#E5ECF6",
              "width": 0.5
             },
             "pattern": {
              "fillmode": "overlay",
              "size": 10,
              "solidity": 0.2
             }
            },
            "type": "bar"
           }
          ],
          "barpolar": [
           {
            "marker": {
             "line": {
              "color": "#E5ECF6",
              "width": 0.5
             },
             "pattern": {
              "fillmode": "overlay",
              "size": 10,
              "solidity": 0.2
             }
            },
            "type": "barpolar"
           }
          ],
          "carpet": [
           {
            "aaxis": {
             "endlinecolor": "#2a3f5f",
             "gridcolor": "white",
             "linecolor": "white",
             "minorgridcolor": "white",
             "startlinecolor": "#2a3f5f"
            },
            "baxis": {
             "endlinecolor": "#2a3f5f",
             "gridcolor": "white",
             "linecolor": "white",
             "minorgridcolor": "white",
             "startlinecolor": "#2a3f5f"
            },
            "type": "carpet"
           }
          ],
          "choropleth": [
           {
            "colorbar": {
             "outlinewidth": 0,
             "ticks": ""
            },
            "type": "choropleth"
           }
          ],
          "contour": [
           {
            "colorbar": {
             "outlinewidth": 0,
             "ticks": ""
            },
            "colorscale": [
             [
              0,
              "#0d0887"
             ],
             [
              0.1111111111111111,
              "#46039f"
             ],
             [
              0.2222222222222222,
              "#7201a8"
             ],
             [
              0.3333333333333333,
              "#9c179e"
             ],
             [
              0.4444444444444444,
              "#bd3786"
             ],
             [
              0.5555555555555556,
              "#d8576b"
             ],
             [
              0.6666666666666666,
              "#ed7953"
             ],
             [
              0.7777777777777778,
              "#fb9f3a"
             ],
             [
              0.8888888888888888,
              "#fdca26"
             ],
             [
              1,
              "#f0f921"
             ]
            ],
            "type": "contour"
           }
          ],
          "contourcarpet": [
           {
            "colorbar": {
             "outlinewidth": 0,
             "ticks": ""
            },
            "type": "contourcarpet"
           }
          ],
          "heatmap": [
           {
            "colorbar": {
             "outlinewidth": 0,
             "ticks": ""
            },
            "colorscale": [
             [
              0,
              "#0d0887"
             ],
             [
              0.1111111111111111,
              "#46039f"
             ],
             [
              0.2222222222222222,
              "#7201a8"
             ],
             [
              0.3333333333333333,
              "#9c179e"
             ],
             [
              0.4444444444444444,
              "#bd3786"
             ],
             [
              0.5555555555555556,
              "#d8576b"
             ],
             [
              0.6666666666666666,
              "#ed7953"
             ],
             [
              0.7777777777777778,
              "#fb9f3a"
             ],
             [
              0.8888888888888888,
              "#fdca26"
             ],
             [
              1,
              "#f0f921"
             ]
            ],
            "type": "heatmap"
           }
          ],
          "heatmapgl": [
           {
            "colorbar": {
             "outlinewidth": 0,
             "ticks": ""
            },
            "colorscale": [
             [
              0,
              "#0d0887"
             ],
             [
              0.1111111111111111,
              "#46039f"
             ],
             [
              0.2222222222222222,
              "#7201a8"
             ],
             [
              0.3333333333333333,
              "#9c179e"
             ],
             [
              0.4444444444444444,
              "#bd3786"
             ],
             [
              0.5555555555555556,
              "#d8576b"
             ],
             [
              0.6666666666666666,
              "#ed7953"
             ],
             [
              0.7777777777777778,
              "#fb9f3a"
             ],
             [
              0.8888888888888888,
              "#fdca26"
             ],
             [
              1,
              "#f0f921"
             ]
            ],
            "type": "heatmapgl"
           }
          ],
          "histogram": [
           {
            "marker": {
             "pattern": {
              "fillmode": "overlay",
              "size": 10,
              "solidity": 0.2
             }
            },
            "type": "histogram"
           }
          ],
          "histogram2d": [
           {
            "colorbar": {
             "outlinewidth": 0,
             "ticks": ""
            },
            "colorscale": [
             [
              0,
              "#0d0887"
             ],
             [
              0.1111111111111111,
              "#46039f"
             ],
             [
              0.2222222222222222,
              "#7201a8"
             ],
             [
              0.3333333333333333,
              "#9c179e"
             ],
             [
              0.4444444444444444,
              "#bd3786"
             ],
             [
              0.5555555555555556,
              "#d8576b"
             ],
             [
              0.6666666666666666,
              "#ed7953"
             ],
             [
              0.7777777777777778,
              "#fb9f3a"
             ],
             [
              0.8888888888888888,
              "#fdca26"
             ],
             [
              1,
              "#f0f921"
             ]
            ],
            "type": "histogram2d"
           }
          ],
          "histogram2dcontour": [
           {
            "colorbar": {
             "outlinewidth": 0,
             "ticks": ""
            },
            "colorscale": [
             [
              0,
              "#0d0887"
             ],
             [
              0.1111111111111111,
              "#46039f"
             ],
             [
              0.2222222222222222,
              "#7201a8"
             ],
             [
              0.3333333333333333,
              "#9c179e"
             ],
             [
              0.4444444444444444,
              "#bd3786"
             ],
             [
              0.5555555555555556,
              "#d8576b"
             ],
             [
              0.6666666666666666,
              "#ed7953"
             ],
             [
              0.7777777777777778,
              "#fb9f3a"
             ],
             [
              0.8888888888888888,
              "#fdca26"
             ],
             [
              1,
              "#f0f921"
             ]
            ],
            "type": "histogram2dcontour"
           }
          ],
          "mesh3d": [
           {
            "colorbar": {
             "outlinewidth": 0,
             "ticks": ""
            },
            "type": "mesh3d"
           }
          ],
          "parcoords": [
           {
            "line": {
             "colorbar": {
              "outlinewidth": 0,
              "ticks": ""
             }
            },
            "type": "parcoords"
           }
          ],
          "pie": [
           {
            "automargin": true,
            "type": "pie"
           }
          ],
          "scatter": [
           {
            "marker": {
             "colorbar": {
              "outlinewidth": 0,
              "ticks": ""
             }
            },
            "type": "scatter"
           }
          ],
          "scatter3d": [
           {
            "line": {
             "colorbar": {
              "outlinewidth": 0,
              "ticks": ""
             }
            },
            "marker": {
             "colorbar": {
              "outlinewidth": 0,
              "ticks": ""
             }
            },
            "type": "scatter3d"
           }
          ],
          "scattercarpet": [
           {
            "marker": {
             "colorbar": {
              "outlinewidth": 0,
              "ticks": ""
             }
            },
            "type": "scattercarpet"
           }
          ],
          "scattergeo": [
           {
            "marker": {
             "colorbar": {
              "outlinewidth": 0,
              "ticks": ""
             }
            },
            "type": "scattergeo"
           }
          ],
          "scattergl": [
           {
            "marker": {
             "colorbar": {
              "outlinewidth": 0,
              "ticks": ""
             }
            },
            "type": "scattergl"
           }
          ],
          "scattermapbox": [
           {
            "marker": {
             "colorbar": {
              "outlinewidth": 0,
              "ticks": ""
             }
            },
            "type": "scattermapbox"
           }
          ],
          "scatterpolar": [
           {
            "marker": {
             "colorbar": {
              "outlinewidth": 0,
              "ticks": ""
             }
            },
            "type": "scatterpolar"
           }
          ],
          "scatterpolargl": [
           {
            "marker": {
             "colorbar": {
              "outlinewidth": 0,
              "ticks": ""
             }
            },
            "type": "scatterpolargl"
           }
          ],
          "scatterternary": [
           {
            "marker": {
             "colorbar": {
              "outlinewidth": 0,
              "ticks": ""
             }
            },
            "type": "scatterternary"
           }
          ],
          "surface": [
           {
            "colorbar": {
             "outlinewidth": 0,
             "ticks": ""
            },
            "colorscale": [
             [
              0,
              "#0d0887"
             ],
             [
              0.1111111111111111,
              "#46039f"
             ],
             [
              0.2222222222222222,
              "#7201a8"
             ],
             [
              0.3333333333333333,
              "#9c179e"
             ],
             [
              0.4444444444444444,
              "#bd3786"
             ],
             [
              0.5555555555555556,
              "#d8576b"
             ],
             [
              0.6666666666666666,
              "#ed7953"
             ],
             [
              0.7777777777777778,
              "#fb9f3a"
             ],
             [
              0.8888888888888888,
              "#fdca26"
             ],
             [
              1,
              "#f0f921"
             ]
            ],
            "type": "surface"
           }
          ],
          "table": [
           {
            "cells": {
             "fill": {
              "color": "#EBF0F8"
             },
             "line": {
              "color": "white"
             }
            },
            "header": {
             "fill": {
              "color": "#C8D4E3"
             },
             "line": {
              "color": "white"
             }
            },
            "type": "table"
           }
          ]
         },
         "layout": {
          "annotationdefaults": {
           "arrowcolor": "#2a3f5f",
           "arrowhead": 0,
           "arrowwidth": 1
          },
          "autotypenumbers": "strict",
          "coloraxis": {
           "colorbar": {
            "outlinewidth": 0,
            "ticks": ""
           }
          },
          "colorscale": {
           "diverging": [
            [
             0,
             "#8e0152"
            ],
            [
             0.1,
             "#c51b7d"
            ],
            [
             0.2,
             "#de77ae"
            ],
            [
             0.3,
             "#f1b6da"
            ],
            [
             0.4,
             "#fde0ef"
            ],
            [
             0.5,
             "#f7f7f7"
            ],
            [
             0.6,
             "#e6f5d0"
            ],
            [
             0.7,
             "#b8e186"
            ],
            [
             0.8,
             "#7fbc41"
            ],
            [
             0.9,
             "#4d9221"
            ],
            [
             1,
             "#276419"
            ]
           ],
           "sequential": [
            [
             0,
             "#0d0887"
            ],
            [
             0.1111111111111111,
             "#46039f"
            ],
            [
             0.2222222222222222,
             "#7201a8"
            ],
            [
             0.3333333333333333,
             "#9c179e"
            ],
            [
             0.4444444444444444,
             "#bd3786"
            ],
            [
             0.5555555555555556,
             "#d8576b"
            ],
            [
             0.6666666666666666,
             "#ed7953"
            ],
            [
             0.7777777777777778,
             "#fb9f3a"
            ],
            [
             0.8888888888888888,
             "#fdca26"
            ],
            [
             1,
             "#f0f921"
            ]
           ],
           "sequentialminus": [
            [
             0,
             "#0d0887"
            ],
            [
             0.1111111111111111,
             "#46039f"
            ],
            [
             0.2222222222222222,
             "#7201a8"
            ],
            [
             0.3333333333333333,
             "#9c179e"
            ],
            [
             0.4444444444444444,
             "#bd3786"
            ],
            [
             0.5555555555555556,
             "#d8576b"
            ],
            [
             0.6666666666666666,
             "#ed7953"
            ],
            [
             0.7777777777777778,
             "#fb9f3a"
            ],
            [
             0.8888888888888888,
             "#fdca26"
            ],
            [
             1,
             "#f0f921"
            ]
           ]
          },
          "colorway": [
           "#636efa",
           "#EF553B",
           "#00cc96",
           "#ab63fa",
           "#FFA15A",
           "#19d3f3",
           "#FF6692",
           "#B6E880",
           "#FF97FF",
           "#FECB52"
          ],
          "font": {
           "color": "#2a3f5f"
          },
          "geo": {
           "bgcolor": "white",
           "lakecolor": "white",
           "landcolor": "#E5ECF6",
           "showlakes": true,
           "showland": true,
           "subunitcolor": "white"
          },
          "hoverlabel": {
           "align": "left"
          },
          "hovermode": "closest",
          "mapbox": {
           "style": "light"
          },
          "paper_bgcolor": "white",
          "plot_bgcolor": "#E5ECF6",
          "polar": {
           "angularaxis": {
            "gridcolor": "white",
            "linecolor": "white",
            "ticks": ""
           },
           "bgcolor": "#E5ECF6",
           "radialaxis": {
            "gridcolor": "white",
            "linecolor": "white",
            "ticks": ""
           }
          },
          "scene": {
           "xaxis": {
            "backgroundcolor": "#E5ECF6",
            "gridcolor": "white",
            "gridwidth": 2,
            "linecolor": "white",
            "showbackground": true,
            "ticks": "",
            "zerolinecolor": "white"
           },
           "yaxis": {
            "backgroundcolor": "#E5ECF6",
            "gridcolor": "white",
            "gridwidth": 2,
            "linecolor": "white",
            "showbackground": true,
            "ticks": "",
            "zerolinecolor": "white"
           },
           "zaxis": {
            "backgroundcolor": "#E5ECF6",
            "gridcolor": "white",
            "gridwidth": 2,
            "linecolor": "white",
            "showbackground": true,
            "ticks": "",
            "zerolinecolor": "white"
           }
          },
          "shapedefaults": {
           "line": {
            "color": "#2a3f5f"
           }
          },
          "ternary": {
           "aaxis": {
            "gridcolor": "white",
            "linecolor": "white",
            "ticks": ""
           },
           "baxis": {
            "gridcolor": "white",
            "linecolor": "white",
            "ticks": ""
           },
           "bgcolor": "#E5ECF6",
           "caxis": {
            "gridcolor": "white",
            "linecolor": "white",
            "ticks": ""
           }
          },
          "title": {
           "x": 0.05
          },
          "xaxis": {
           "automargin": true,
           "gridcolor": "white",
           "linecolor": "white",
           "ticks": "",
           "title": {
            "standoff": 15
           },
           "zerolinecolor": "white",
           "zerolinewidth": 2
          },
          "yaxis": {
           "automargin": true,
           "gridcolor": "white",
           "linecolor": "white",
           "ticks": "",
           "title": {
            "standoff": 15
           },
           "zerolinecolor": "white",
           "zerolinewidth": 2
          }
         }
        },
        "title": {
         "text": "title"
        },
        "xaxis": {
         "anchor": "y",
         "domain": [
          0,
          1
         ],
         "title": {
          "text": "value"
         }
        },
        "yaxis": {
         "anchor": "x",
         "domain": [
          0,
          1
         ],
         "title": {
          "text": "total_reviews"
         }
        }
       }
      },
      "text/html": [
       "<div>                            <div id=\"b2c648e3-eda5-4ebc-b9d8-2b2762efa19b\" class=\"plotly-graph-div\" style=\"height:525px; width:100%;\"></div>            <script type=\"text/javascript\">                require([\"plotly\"], function(Plotly) {                    window.PLOTLYENV=window.PLOTLYENV || {};                                    if (document.getElementById(\"b2c648e3-eda5-4ebc-b9d8-2b2762efa19b\")) {                    Plotly.newPlot(                        \"b2c648e3-eda5-4ebc-b9d8-2b2762efa19b\",                        [{\"hovertemplate\":\"variable=date_hour<br>value=%{x}<br>total_reviews=%{y}<extra></extra>\",\"legendgroup\":\"date_hour\",\"line\":{\"color\":\"#636efa\",\"dash\":\"solid\"},\"mode\":\"lines\",\"name\":\"date_hour\",\"orientation\":\"v\",\"showlegend\":true,\"type\":\"scatter\",\"x\":[0,1,2,3,4,5,6,7,8,9,10,11,12,13,14,15,16,17,18,19,20,21,22,23],\"xaxis\":\"x\",\"y\":[158,149,136,120,111,78,58,19,20,14,17,14,25,43,96,92,119,152,149,171,147,146,136,134],\"yaxis\":\"y\"}],                        {\"legend\":{\"title\":{\"text\":\"variable\"},\"tracegroupgap\":0},\"template\":{\"data\":{\"bar\":[{\"error_x\":{\"color\":\"#2a3f5f\"},\"error_y\":{\"color\":\"#2a3f5f\"},\"marker\":{\"line\":{\"color\":\"#E5ECF6\",\"width\":0.5},\"pattern\":{\"fillmode\":\"overlay\",\"size\":10,\"solidity\":0.2}},\"type\":\"bar\"}],\"barpolar\":[{\"marker\":{\"line\":{\"color\":\"#E5ECF6\",\"width\":0.5},\"pattern\":{\"fillmode\":\"overlay\",\"size\":10,\"solidity\":0.2}},\"type\":\"barpolar\"}],\"carpet\":[{\"aaxis\":{\"endlinecolor\":\"#2a3f5f\",\"gridcolor\":\"white\",\"linecolor\":\"white\",\"minorgridcolor\":\"white\",\"startlinecolor\":\"#2a3f5f\"},\"baxis\":{\"endlinecolor\":\"#2a3f5f\",\"gridcolor\":\"white\",\"linecolor\":\"white\",\"minorgridcolor\":\"white\",\"startlinecolor\":\"#2a3f5f\"},\"type\":\"carpet\"}],\"choropleth\":[{\"colorbar\":{\"outlinewidth\":0,\"ticks\":\"\"},\"type\":\"choropleth\"}],\"contour\":[{\"colorbar\":{\"outlinewidth\":0,\"ticks\":\"\"},\"colorscale\":[[0.0,\"#0d0887\"],[0.1111111111111111,\"#46039f\"],[0.2222222222222222,\"#7201a8\"],[0.3333333333333333,\"#9c179e\"],[0.4444444444444444,\"#bd3786\"],[0.5555555555555556,\"#d8576b\"],[0.6666666666666666,\"#ed7953\"],[0.7777777777777778,\"#fb9f3a\"],[0.8888888888888888,\"#fdca26\"],[1.0,\"#f0f921\"]],\"type\":\"contour\"}],\"contourcarpet\":[{\"colorbar\":{\"outlinewidth\":0,\"ticks\":\"\"},\"type\":\"contourcarpet\"}],\"heatmap\":[{\"colorbar\":{\"outlinewidth\":0,\"ticks\":\"\"},\"colorscale\":[[0.0,\"#0d0887\"],[0.1111111111111111,\"#46039f\"],[0.2222222222222222,\"#7201a8\"],[0.3333333333333333,\"#9c179e\"],[0.4444444444444444,\"#bd3786\"],[0.5555555555555556,\"#d8576b\"],[0.6666666666666666,\"#ed7953\"],[0.7777777777777778,\"#fb9f3a\"],[0.8888888888888888,\"#fdca26\"],[1.0,\"#f0f921\"]],\"type\":\"heatmap\"}],\"heatmapgl\":[{\"colorbar\":{\"outlinewidth\":0,\"ticks\":\"\"},\"colorscale\":[[0.0,\"#0d0887\"],[0.1111111111111111,\"#46039f\"],[0.2222222222222222,\"#7201a8\"],[0.3333333333333333,\"#9c179e\"],[0.4444444444444444,\"#bd3786\"],[0.5555555555555556,\"#d8576b\"],[0.6666666666666666,\"#ed7953\"],[0.7777777777777778,\"#fb9f3a\"],[0.8888888888888888,\"#fdca26\"],[1.0,\"#f0f921\"]],\"type\":\"heatmapgl\"}],\"histogram\":[{\"marker\":{\"pattern\":{\"fillmode\":\"overlay\",\"size\":10,\"solidity\":0.2}},\"type\":\"histogram\"}],\"histogram2d\":[{\"colorbar\":{\"outlinewidth\":0,\"ticks\":\"\"},\"colorscale\":[[0.0,\"#0d0887\"],[0.1111111111111111,\"#46039f\"],[0.2222222222222222,\"#7201a8\"],[0.3333333333333333,\"#9c179e\"],[0.4444444444444444,\"#bd3786\"],[0.5555555555555556,\"#d8576b\"],[0.6666666666666666,\"#ed7953\"],[0.7777777777777778,\"#fb9f3a\"],[0.8888888888888888,\"#fdca26\"],[1.0,\"#f0f921\"]],\"type\":\"histogram2d\"}],\"histogram2dcontour\":[{\"colorbar\":{\"outlinewidth\":0,\"ticks\":\"\"},\"colorscale\":[[0.0,\"#0d0887\"],[0.1111111111111111,\"#46039f\"],[0.2222222222222222,\"#7201a8\"],[0.3333333333333333,\"#9c179e\"],[0.4444444444444444,\"#bd3786\"],[0.5555555555555556,\"#d8576b\"],[0.6666666666666666,\"#ed7953\"],[0.7777777777777778,\"#fb9f3a\"],[0.8888888888888888,\"#fdca26\"],[1.0,\"#f0f921\"]],\"type\":\"histogram2dcontour\"}],\"mesh3d\":[{\"colorbar\":{\"outlinewidth\":0,\"ticks\":\"\"},\"type\":\"mesh3d\"}],\"parcoords\":[{\"line\":{\"colorbar\":{\"outlinewidth\":0,\"ticks\":\"\"}},\"type\":\"parcoords\"}],\"pie\":[{\"automargin\":true,\"type\":\"pie\"}],\"scatter\":[{\"marker\":{\"colorbar\":{\"outlinewidth\":0,\"ticks\":\"\"}},\"type\":\"scatter\"}],\"scatter3d\":[{\"line\":{\"colorbar\":{\"outlinewidth\":0,\"ticks\":\"\"}},\"marker\":{\"colorbar\":{\"outlinewidth\":0,\"ticks\":\"\"}},\"type\":\"scatter3d\"}],\"scattercarpet\":[{\"marker\":{\"colorbar\":{\"outlinewidth\":0,\"ticks\":\"\"}},\"type\":\"scattercarpet\"}],\"scattergeo\":[{\"marker\":{\"colorbar\":{\"outlinewidth\":0,\"ticks\":\"\"}},\"type\":\"scattergeo\"}],\"scattergl\":[{\"marker\":{\"colorbar\":{\"outlinewidth\":0,\"ticks\":\"\"}},\"type\":\"scattergl\"}],\"scattermapbox\":[{\"marker\":{\"colorbar\":{\"outlinewidth\":0,\"ticks\":\"\"}},\"type\":\"scattermapbox\"}],\"scatterpolar\":[{\"marker\":{\"colorbar\":{\"outlinewidth\":0,\"ticks\":\"\"}},\"type\":\"scatterpolar\"}],\"scatterpolargl\":[{\"marker\":{\"colorbar\":{\"outlinewidth\":0,\"ticks\":\"\"}},\"type\":\"scatterpolargl\"}],\"scatterternary\":[{\"marker\":{\"colorbar\":{\"outlinewidth\":0,\"ticks\":\"\"}},\"type\":\"scatterternary\"}],\"surface\":[{\"colorbar\":{\"outlinewidth\":0,\"ticks\":\"\"},\"colorscale\":[[0.0,\"#0d0887\"],[0.1111111111111111,\"#46039f\"],[0.2222222222222222,\"#7201a8\"],[0.3333333333333333,\"#9c179e\"],[0.4444444444444444,\"#bd3786\"],[0.5555555555555556,\"#d8576b\"],[0.6666666666666666,\"#ed7953\"],[0.7777777777777778,\"#fb9f3a\"],[0.8888888888888888,\"#fdca26\"],[1.0,\"#f0f921\"]],\"type\":\"surface\"}],\"table\":[{\"cells\":{\"fill\":{\"color\":\"#EBF0F8\"},\"line\":{\"color\":\"white\"}},\"header\":{\"fill\":{\"color\":\"#C8D4E3\"},\"line\":{\"color\":\"white\"}},\"type\":\"table\"}]},\"layout\":{\"annotationdefaults\":{\"arrowcolor\":\"#2a3f5f\",\"arrowhead\":0,\"arrowwidth\":1},\"autotypenumbers\":\"strict\",\"coloraxis\":{\"colorbar\":{\"outlinewidth\":0,\"ticks\":\"\"}},\"colorscale\":{\"diverging\":[[0,\"#8e0152\"],[0.1,\"#c51b7d\"],[0.2,\"#de77ae\"],[0.3,\"#f1b6da\"],[0.4,\"#fde0ef\"],[0.5,\"#f7f7f7\"],[0.6,\"#e6f5d0\"],[0.7,\"#b8e186\"],[0.8,\"#7fbc41\"],[0.9,\"#4d9221\"],[1,\"#276419\"]],\"sequential\":[[0.0,\"#0d0887\"],[0.1111111111111111,\"#46039f\"],[0.2222222222222222,\"#7201a8\"],[0.3333333333333333,\"#9c179e\"],[0.4444444444444444,\"#bd3786\"],[0.5555555555555556,\"#d8576b\"],[0.6666666666666666,\"#ed7953\"],[0.7777777777777778,\"#fb9f3a\"],[0.8888888888888888,\"#fdca26\"],[1.0,\"#f0f921\"]],\"sequentialminus\":[[0.0,\"#0d0887\"],[0.1111111111111111,\"#46039f\"],[0.2222222222222222,\"#7201a8\"],[0.3333333333333333,\"#9c179e\"],[0.4444444444444444,\"#bd3786\"],[0.5555555555555556,\"#d8576b\"],[0.6666666666666666,\"#ed7953\"],[0.7777777777777778,\"#fb9f3a\"],[0.8888888888888888,\"#fdca26\"],[1.0,\"#f0f921\"]]},\"colorway\":[\"#636efa\",\"#EF553B\",\"#00cc96\",\"#ab63fa\",\"#FFA15A\",\"#19d3f3\",\"#FF6692\",\"#B6E880\",\"#FF97FF\",\"#FECB52\"],\"font\":{\"color\":\"#2a3f5f\"},\"geo\":{\"bgcolor\":\"white\",\"lakecolor\":\"white\",\"landcolor\":\"#E5ECF6\",\"showlakes\":true,\"showland\":true,\"subunitcolor\":\"white\"},\"hoverlabel\":{\"align\":\"left\"},\"hovermode\":\"closest\",\"mapbox\":{\"style\":\"light\"},\"paper_bgcolor\":\"white\",\"plot_bgcolor\":\"#E5ECF6\",\"polar\":{\"angularaxis\":{\"gridcolor\":\"white\",\"linecolor\":\"white\",\"ticks\":\"\"},\"bgcolor\":\"#E5ECF6\",\"radialaxis\":{\"gridcolor\":\"white\",\"linecolor\":\"white\",\"ticks\":\"\"}},\"scene\":{\"xaxis\":{\"backgroundcolor\":\"#E5ECF6\",\"gridcolor\":\"white\",\"gridwidth\":2,\"linecolor\":\"white\",\"showbackground\":true,\"ticks\":\"\",\"zerolinecolor\":\"white\"},\"yaxis\":{\"backgroundcolor\":\"#E5ECF6\",\"gridcolor\":\"white\",\"gridwidth\":2,\"linecolor\":\"white\",\"showbackground\":true,\"ticks\":\"\",\"zerolinecolor\":\"white\"},\"zaxis\":{\"backgroundcolor\":\"#E5ECF6\",\"gridcolor\":\"white\",\"gridwidth\":2,\"linecolor\":\"white\",\"showbackground\":true,\"ticks\":\"\",\"zerolinecolor\":\"white\"}},\"shapedefaults\":{\"line\":{\"color\":\"#2a3f5f\"}},\"ternary\":{\"aaxis\":{\"gridcolor\":\"white\",\"linecolor\":\"white\",\"ticks\":\"\"},\"baxis\":{\"gridcolor\":\"white\",\"linecolor\":\"white\",\"ticks\":\"\"},\"bgcolor\":\"#E5ECF6\",\"caxis\":{\"gridcolor\":\"white\",\"linecolor\":\"white\",\"ticks\":\"\"}},\"title\":{\"x\":0.05},\"xaxis\":{\"automargin\":true,\"gridcolor\":\"white\",\"linecolor\":\"white\",\"ticks\":\"\",\"title\":{\"standoff\":15},\"zerolinecolor\":\"white\",\"zerolinewidth\":2},\"yaxis\":{\"automargin\":true,\"gridcolor\":\"white\",\"linecolor\":\"white\",\"ticks\":\"\",\"title\":{\"standoff\":15},\"zerolinecolor\":\"white\",\"zerolinewidth\":2}}},\"title\":{\"text\":\"title\"},\"xaxis\":{\"anchor\":\"y\",\"domain\":[0.0,1.0],\"title\":{\"text\":\"value\"}},\"yaxis\":{\"anchor\":\"x\",\"domain\":[0.0,1.0],\"title\":{\"text\":\"total_reviews\"}}},                        {\"responsive\": true}                    ).then(function(){\n",
       "                            \n",
       "var gd = document.getElementById('b2c648e3-eda5-4ebc-b9d8-2b2762efa19b');\n",
       "var x = new MutationObserver(function (mutations, observer) {{\n",
       "        var display = window.getComputedStyle(gd).display;\n",
       "        if (!display || display === 'none') {{\n",
       "            console.log([gd, 'removed!']);\n",
       "            Plotly.purge(gd);\n",
       "            observer.disconnect();\n",
       "        }}\n",
       "}});\n",
       "\n",
       "// Listen for the removal of the full notebook cells\n",
       "var notebookContainer = gd.closest('#notebook-container');\n",
       "if (notebookContainer) {{\n",
       "    x.observe(notebookContainer, {childList: true});\n",
       "}}\n",
       "\n",
       "// Listen for the clearing of the current output cell\n",
       "var outputEl = gd.closest('.output');\n",
       "if (outputEl) {{\n",
       "    x.observe(outputEl, {childList: true});\n",
       "}}\n",
       "\n",
       "                        })                };                });            </script>        </div>"
      ]
     },
     "metadata": {},
     "output_type": "display_data"
    }
   ],
   "source": [
    "import plotly.express as px\n",
    "\n",
    "fig = px.line(df2, x=['date_hour'], y=\"total_reviews\", title='title')\n",
    "fig.show()"
   ]
  },
  {
   "cell_type": "code",
   "execution_count": 115,
   "id": "f3852114",
   "metadata": {},
   "outputs": [
    {
     "data": {
      "text/html": [
       "<div>\n",
       "<style scoped>\n",
       "    .dataframe tbody tr th:only-of-type {\n",
       "        vertical-align: middle;\n",
       "    }\n",
       "\n",
       "    .dataframe tbody tr th {\n",
       "        vertical-align: top;\n",
       "    }\n",
       "\n",
       "    .dataframe thead th {\n",
       "        text-align: right;\n",
       "    }\n",
       "</style>\n",
       "<table border=\"1\" class=\"dataframe\">\n",
       "  <thead>\n",
       "    <tr style=\"text-align: right;\">\n",
       "      <th></th>\n",
       "      <th>date_hour</th>\n",
       "      <th>date_minute</th>\n",
       "      <th>total_reviews</th>\n",
       "    </tr>\n",
       "  </thead>\n",
       "  <tbody>\n",
       "    <tr>\n",
       "      <th>0</th>\n",
       "      <td>0</td>\n",
       "      <td>0</td>\n",
       "      <td>2</td>\n",
       "    </tr>\n",
       "    <tr>\n",
       "      <th>1</th>\n",
       "      <td>0</td>\n",
       "      <td>1</td>\n",
       "      <td>3</td>\n",
       "    </tr>\n",
       "    <tr>\n",
       "      <th>2</th>\n",
       "      <td>0</td>\n",
       "      <td>2</td>\n",
       "      <td>3</td>\n",
       "    </tr>\n",
       "    <tr>\n",
       "      <th>3</th>\n",
       "      <td>0</td>\n",
       "      <td>3</td>\n",
       "      <td>2</td>\n",
       "    </tr>\n",
       "    <tr>\n",
       "      <th>4</th>\n",
       "      <td>0</td>\n",
       "      <td>4</td>\n",
       "      <td>1</td>\n",
       "    </tr>\n",
       "    <tr>\n",
       "      <th>...</th>\n",
       "      <td>...</td>\n",
       "      <td>...</td>\n",
       "      <td>...</td>\n",
       "    </tr>\n",
       "    <tr>\n",
       "      <th>1007</th>\n",
       "      <td>23</td>\n",
       "      <td>55</td>\n",
       "      <td>2</td>\n",
       "    </tr>\n",
       "    <tr>\n",
       "      <th>1008</th>\n",
       "      <td>23</td>\n",
       "      <td>56</td>\n",
       "      <td>4</td>\n",
       "    </tr>\n",
       "    <tr>\n",
       "      <th>1009</th>\n",
       "      <td>23</td>\n",
       "      <td>57</td>\n",
       "      <td>2</td>\n",
       "    </tr>\n",
       "    <tr>\n",
       "      <th>1010</th>\n",
       "      <td>23</td>\n",
       "      <td>58</td>\n",
       "      <td>2</td>\n",
       "    </tr>\n",
       "    <tr>\n",
       "      <th>1011</th>\n",
       "      <td>23</td>\n",
       "      <td>59</td>\n",
       "      <td>4</td>\n",
       "    </tr>\n",
       "  </tbody>\n",
       "</table>\n",
       "<p>1012 rows × 3 columns</p>\n",
       "</div>"
      ],
      "text/plain": [
       "      date_hour  date_minute  total_reviews\n",
       "0             0            0              2\n",
       "1             0            1              3\n",
       "2             0            2              3\n",
       "3             0            3              2\n",
       "4             0            4              1\n",
       "...         ...          ...            ...\n",
       "1007         23           55              2\n",
       "1008         23           56              4\n",
       "1009         23           57              2\n",
       "1010         23           58              2\n",
       "1011         23           59              4\n",
       "\n",
       "[1012 rows x 3 columns]"
      ]
     },
     "execution_count": 115,
     "metadata": {},
     "output_type": "execute_result"
    }
   ],
   "source": [
    "df2=df.groupby(['date_hour','date_minute'], as_index=False)['total_reviews'].sum()\n",
    "df2=df2.sort_values(['date_hour','date_minute'], ascending=True) \n",
    "df2"
   ]
  },
  {
   "cell_type": "code",
   "execution_count": 120,
   "id": "efc2b294",
   "metadata": {},
   "outputs": [
    {
     "data": {
      "text/html": [
       "<div>\n",
       "<style scoped>\n",
       "    .dataframe tbody tr th:only-of-type {\n",
       "        vertical-align: middle;\n",
       "    }\n",
       "\n",
       "    .dataframe tbody tr th {\n",
       "        vertical-align: top;\n",
       "    }\n",
       "\n",
       "    .dataframe thead th {\n",
       "        text-align: right;\n",
       "    }\n",
       "</style>\n",
       "<table border=\"1\" class=\"dataframe\">\n",
       "  <thead>\n",
       "    <tr style=\"text-align: right;\">\n",
       "      <th></th>\n",
       "      <th>period</th>\n",
       "      <th>total_reviews</th>\n",
       "    </tr>\n",
       "  </thead>\n",
       "  <tbody>\n",
       "    <tr>\n",
       "      <th>0</th>\n",
       "      <td>0:0</td>\n",
       "      <td>2</td>\n",
       "    </tr>\n",
       "    <tr>\n",
       "      <th>1</th>\n",
       "      <td>0:1</td>\n",
       "      <td>3</td>\n",
       "    </tr>\n",
       "    <tr>\n",
       "      <th>2</th>\n",
       "      <td>0:10</td>\n",
       "      <td>3</td>\n",
       "    </tr>\n",
       "    <tr>\n",
       "      <th>3</th>\n",
       "      <td>0:11</td>\n",
       "      <td>3</td>\n",
       "    </tr>\n",
       "    <tr>\n",
       "      <th>4</th>\n",
       "      <td>0:12</td>\n",
       "      <td>2</td>\n",
       "    </tr>\n",
       "    <tr>\n",
       "      <th>...</th>\n",
       "      <td>...</td>\n",
       "      <td>...</td>\n",
       "    </tr>\n",
       "    <tr>\n",
       "      <th>1007</th>\n",
       "      <td>9:44</td>\n",
       "      <td>1</td>\n",
       "    </tr>\n",
       "    <tr>\n",
       "      <th>1008</th>\n",
       "      <td>9:45</td>\n",
       "      <td>1</td>\n",
       "    </tr>\n",
       "    <tr>\n",
       "      <th>1009</th>\n",
       "      <td>9:47</td>\n",
       "      <td>2</td>\n",
       "    </tr>\n",
       "    <tr>\n",
       "      <th>1010</th>\n",
       "      <td>9:52</td>\n",
       "      <td>1</td>\n",
       "    </tr>\n",
       "    <tr>\n",
       "      <th>1011</th>\n",
       "      <td>9:59</td>\n",
       "      <td>1</td>\n",
       "    </tr>\n",
       "  </tbody>\n",
       "</table>\n",
       "<p>1012 rows × 2 columns</p>\n",
       "</div>"
      ],
      "text/plain": [
       "     period  total_reviews\n",
       "0       0:0              2\n",
       "1       0:1              3\n",
       "2      0:10              3\n",
       "3      0:11              3\n",
       "4      0:12              2\n",
       "...     ...            ...\n",
       "1007   9:44              1\n",
       "1008   9:45              1\n",
       "1009   9:47              2\n",
       "1010   9:52              1\n",
       "1011   9:59              1\n",
       "\n",
       "[1012 rows x 2 columns]"
      ]
     },
     "execution_count": 120,
     "metadata": {},
     "output_type": "execute_result"
    }
   ],
   "source": [
    "df2=df.groupby(['period'], as_index=False)['total_reviews'].sum()\n",
    "df2=df2.sort_index(ascending=True) \n",
    "df2"
   ]
  },
  {
   "cell_type": "code",
   "execution_count": 121,
   "id": "648b7940",
   "metadata": {},
   "outputs": [
    {
     "data": {
      "application/vnd.plotly.v1+json": {
       "config": {
        "plotlyServerURL": "https://plot.ly"
       },
       "data": [
        {
         "hovertemplate": "variable=period<br>value=%{x}<br>total_reviews=%{y}<extra></extra>",
         "legendgroup": "period",
         "line": {
          "color": "#636efa",
          "dash": "solid"
         },
         "mode": "lines",
         "name": "period",
         "showlegend": true,
         "type": "scattergl",
         "x": [
          "0:0",
          "0:1",
          "0:10",
          "0:11",
          "0:12",
          "0:13",
          "0:14",
          "0:15",
          "0:16",
          "0:17",
          "0:18",
          "0:19",
          "0:2",
          "0:20",
          "0:21",
          "0:22",
          "0:23",
          "0:25",
          "0:26",
          "0:27",
          "0:28",
          "0:29",
          "0:3",
          "0:30",
          "0:31",
          "0:32",
          "0:33",
          "0:34",
          "0:35",
          "0:36",
          "0:37",
          "0:38",
          "0:39",
          "0:4",
          "0:40",
          "0:41",
          "0:42",
          "0:43",
          "0:44",
          "0:45",
          "0:46",
          "0:47",
          "0:48",
          "0:49",
          "0:5",
          "0:50",
          "0:51",
          "0:52",
          "0:54",
          "0:55",
          "0:56",
          "0:57",
          "0:58",
          "0:6",
          "0:7",
          "0:8",
          "0:9",
          "10:18",
          "10:31",
          "10:33",
          "10:37",
          "10:4",
          "10:40",
          "10:41",
          "10:45",
          "10:46",
          "10:48",
          "10:5",
          "10:50",
          "10:51",
          "10:52",
          "10:53",
          "10:57",
          "11:19",
          "11:21",
          "11:22",
          "11:23",
          "11:25",
          "11:33",
          "11:39",
          "11:4",
          "11:43",
          "11:46",
          "11:50",
          "11:8",
          "12:10",
          "12:11",
          "12:15",
          "12:16",
          "12:18",
          "12:24",
          "12:27",
          "12:29",
          "12:3",
          "12:31",
          "12:32",
          "12:37",
          "12:4",
          "12:45",
          "12:48",
          "12:49",
          "12:53",
          "12:56",
          "12:57",
          "12:58",
          "12:59",
          "13:0",
          "13:1",
          "13:12",
          "13:17",
          "13:19",
          "13:20",
          "13:22",
          "13:26",
          "13:27",
          "13:28",
          "13:29",
          "13:33",
          "13:34",
          "13:36",
          "13:38",
          "13:40",
          "13:42",
          "13:46",
          "13:49",
          "13:50",
          "13:51",
          "13:52",
          "13:54",
          "13:55",
          "13:57",
          "13:59",
          "13:7",
          "13:9",
          "14:0",
          "14:1",
          "14:10",
          "14:11",
          "14:12",
          "14:13",
          "14:15",
          "14:16",
          "14:17",
          "14:18",
          "14:19",
          "14:2",
          "14:20",
          "14:22",
          "14:23",
          "14:24",
          "14:25",
          "14:27",
          "14:28",
          "14:29",
          "14:3",
          "14:30",
          "14:31",
          "14:32",
          "14:33",
          "14:34",
          "14:36",
          "14:37",
          "14:39",
          "14:4",
          "14:40",
          "14:41",
          "14:42",
          "14:43",
          "14:45",
          "14:46",
          "14:47",
          "14:49",
          "14:5",
          "14:50",
          "14:51",
          "14:53",
          "14:54",
          "14:55",
          "14:56",
          "14:57",
          "14:59",
          "14:6",
          "14:7",
          "14:9",
          "15:0",
          "15:11",
          "15:12",
          "15:13",
          "15:14",
          "15:18",
          "15:19",
          "15:2",
          "15:21",
          "15:22",
          "15:23",
          "15:24",
          "15:25",
          "15:26",
          "15:27",
          "15:28",
          "15:29",
          "15:3",
          "15:32",
          "15:33",
          "15:34",
          "15:35",
          "15:36",
          "15:38",
          "15:39",
          "15:4",
          "15:40",
          "15:41",
          "15:43",
          "15:44",
          "15:45",
          "15:47",
          "15:48",
          "15:49",
          "15:5",
          "15:50",
          "15:51",
          "15:52",
          "15:53",
          "15:54",
          "15:55",
          "15:57",
          "15:58",
          "15:59",
          "15:6",
          "15:7",
          "15:8",
          "15:9",
          "16:0",
          "16:1",
          "16:10",
          "16:11",
          "16:12",
          "16:13",
          "16:14",
          "16:16",
          "16:17",
          "16:19",
          "16:2",
          "16:20",
          "16:21",
          "16:24",
          "16:25",
          "16:26",
          "16:27",
          "16:29",
          "16:3",
          "16:30",
          "16:32",
          "16:33",
          "16:34",
          "16:35",
          "16:36",
          "16:38",
          "16:39",
          "16:4",
          "16:40",
          "16:41",
          "16:42",
          "16:43",
          "16:44",
          "16:45",
          "16:46",
          "16:47",
          "16:48",
          "16:49",
          "16:5",
          "16:50",
          "16:51",
          "16:52",
          "16:53",
          "16:54",
          "16:55",
          "16:56",
          "16:57",
          "16:58",
          "16:59",
          "16:6",
          "16:7",
          "16:8",
          "17:0",
          "17:1",
          "17:10",
          "17:11",
          "17:12",
          "17:13",
          "17:14",
          "17:15",
          "17:16",
          "17:18",
          "17:19",
          "17:2",
          "17:20",
          "17:21",
          "17:22",
          "17:23",
          "17:24",
          "17:25",
          "17:27",
          "17:28",
          "17:29",
          "17:3",
          "17:30",
          "17:31",
          "17:32",
          "17:33",
          "17:34",
          "17:35",
          "17:36",
          "17:37",
          "17:38",
          "17:39",
          "17:4",
          "17:40",
          "17:41",
          "17:42",
          "17:43",
          "17:44",
          "17:45",
          "17:46",
          "17:47",
          "17:49",
          "17:50",
          "17:51",
          "17:52",
          "17:53",
          "17:54",
          "17:55",
          "17:57",
          "17:58",
          "17:59",
          "17:6",
          "17:7",
          "17:8",
          "17:9",
          "18:0",
          "18:1",
          "18:10",
          "18:11",
          "18:12",
          "18:13",
          "18:14",
          "18:16",
          "18:17",
          "18:18",
          "18:19",
          "18:2",
          "18:20",
          "18:21",
          "18:23",
          "18:24",
          "18:25",
          "18:26",
          "18:28",
          "18:29",
          "18:3",
          "18:30",
          "18:31",
          "18:32",
          "18:33",
          "18:34",
          "18:35",
          "18:36",
          "18:37",
          "18:38",
          "18:39",
          "18:4",
          "18:40",
          "18:41",
          "18:42",
          "18:44",
          "18:45",
          "18:46",
          "18:47",
          "18:48",
          "18:49",
          "18:5",
          "18:50",
          "18:51",
          "18:52",
          "18:53",
          "18:54",
          "18:56",
          "18:57",
          "18:58",
          "18:59",
          "18:6",
          "18:7",
          "18:8",
          "18:9",
          "19:0",
          "19:1",
          "19:10",
          "19:11",
          "19:12",
          "19:13",
          "19:14",
          "19:15",
          "19:16",
          "19:17",
          "19:18",
          "19:19",
          "19:2",
          "19:20",
          "19:21",
          "19:22",
          "19:23",
          "19:24",
          "19:25",
          "19:26",
          "19:27",
          "19:28",
          "19:29",
          "19:3",
          "19:30",
          "19:31",
          "19:32",
          "19:33",
          "19:34",
          "19:35",
          "19:36",
          "19:37",
          "19:38",
          "19:39",
          "19:4",
          "19:40",
          "19:41",
          "19:42",
          "19:43",
          "19:44",
          "19:46",
          "19:47",
          "19:48",
          "19:49",
          "19:5",
          "19:50",
          "19:51",
          "19:52",
          "19:53",
          "19:54",
          "19:55",
          "19:56",
          "19:57",
          "19:58",
          "19:59",
          "19:6",
          "19:7",
          "19:8",
          "19:9",
          "1:0",
          "1:1",
          "1:10",
          "1:11",
          "1:13",
          "1:14",
          "1:15",
          "1:16",
          "1:17",
          "1:18",
          "1:19",
          "1:2",
          "1:20",
          "1:21",
          "1:22",
          "1:23",
          "1:24",
          "1:25",
          "1:26",
          "1:27",
          "1:29",
          "1:3",
          "1:31",
          "1:32",
          "1:34",
          "1:35",
          "1:36",
          "1:37",
          "1:39",
          "1:4",
          "1:40",
          "1:41",
          "1:42",
          "1:43",
          "1:44",
          "1:45",
          "1:46",
          "1:47",
          "1:48",
          "1:49",
          "1:5",
          "1:50",
          "1:51",
          "1:52",
          "1:53",
          "1:54",
          "1:55",
          "1:56",
          "1:57",
          "1:58",
          "1:59",
          "1:6",
          "1:7",
          "1:8",
          "1:9",
          "20:0",
          "20:1",
          "20:10",
          "20:11",
          "20:12",
          "20:13",
          "20:14",
          "20:16",
          "20:17",
          "20:18",
          "20:2",
          "20:20",
          "20:21",
          "20:22",
          "20:23",
          "20:24",
          "20:25",
          "20:26",
          "20:27",
          "20:28",
          "20:29",
          "20:3",
          "20:30",
          "20:32",
          "20:33",
          "20:34",
          "20:35",
          "20:36",
          "20:37",
          "20:38",
          "20:39",
          "20:4",
          "20:40",
          "20:41",
          "20:42",
          "20:43",
          "20:44",
          "20:46",
          "20:47",
          "20:48",
          "20:49",
          "20:5",
          "20:50",
          "20:51",
          "20:52",
          "20:53",
          "20:54",
          "20:55",
          "20:56",
          "20:57",
          "20:58",
          "20:59",
          "20:7",
          "20:8",
          "20:9",
          "21:1",
          "21:10",
          "21:11",
          "21:12",
          "21:13",
          "21:14",
          "21:15",
          "21:16",
          "21:17",
          "21:18",
          "21:19",
          "21:2",
          "21:20",
          "21:21",
          "21:22",
          "21:23",
          "21:24",
          "21:25",
          "21:26",
          "21:27",
          "21:28",
          "21:3",
          "21:30",
          "21:31",
          "21:32",
          "21:33",
          "21:34",
          "21:35",
          "21:36",
          "21:37",
          "21:38",
          "21:39",
          "21:4",
          "21:40",
          "21:41",
          "21:42",
          "21:43",
          "21:44",
          "21:45",
          "21:46",
          "21:47",
          "21:49",
          "21:5",
          "21:50",
          "21:51",
          "21:52",
          "21:54",
          "21:55",
          "21:56",
          "21:57",
          "21:58",
          "21:59",
          "21:6",
          "21:7",
          "21:8",
          "21:9",
          "22:0",
          "22:1",
          "22:10",
          "22:11",
          "22:14",
          "22:15",
          "22:16",
          "22:17",
          "22:18",
          "22:19",
          "22:2",
          "22:20",
          "22:21",
          "22:22",
          "22:23",
          "22:24",
          "22:25",
          "22:26",
          "22:27",
          "22:28",
          "22:29",
          "22:3",
          "22:30",
          "22:31",
          "22:32",
          "22:33",
          "22:34",
          "22:35",
          "22:36",
          "22:37",
          "22:38",
          "22:39",
          "22:4",
          "22:40",
          "22:41",
          "22:42",
          "22:43",
          "22:44",
          "22:45",
          "22:47",
          "22:49",
          "22:5",
          "22:50",
          "22:51",
          "22:52",
          "22:53",
          "22:54",
          "22:56",
          "22:57",
          "22:58",
          "22:59",
          "22:6",
          "22:7",
          "22:8",
          "22:9",
          "23:0",
          "23:1",
          "23:10",
          "23:11",
          "23:12",
          "23:13",
          "23:14",
          "23:15",
          "23:16",
          "23:17",
          "23:18",
          "23:19",
          "23:2",
          "23:20",
          "23:21",
          "23:22",
          "23:23",
          "23:24",
          "23:25",
          "23:26",
          "23:27",
          "23:28",
          "23:3",
          "23:30",
          "23:31",
          "23:33",
          "23:34",
          "23:35",
          "23:36",
          "23:38",
          "23:39",
          "23:4",
          "23:40",
          "23:41",
          "23:42",
          "23:43",
          "23:45",
          "23:46",
          "23:48",
          "23:49",
          "23:5",
          "23:50",
          "23:51",
          "23:52",
          "23:53",
          "23:54",
          "23:55",
          "23:56",
          "23:57",
          "23:58",
          "23:59",
          "23:6",
          "23:7",
          "23:8",
          "2:0",
          "2:1",
          "2:10",
          "2:11",
          "2:12",
          "2:13",
          "2:15",
          "2:16",
          "2:17",
          "2:2",
          "2:20",
          "2:21",
          "2:22",
          "2:23",
          "2:24",
          "2:25",
          "2:26",
          "2:27",
          "2:28",
          "2:29",
          "2:3",
          "2:30",
          "2:31",
          "2:32",
          "2:33",
          "2:34",
          "2:35",
          "2:36",
          "2:37",
          "2:39",
          "2:4",
          "2:40",
          "2:42",
          "2:44",
          "2:45",
          "2:47",
          "2:48",
          "2:49",
          "2:5",
          "2:50",
          "2:51",
          "2:52",
          "2:53",
          "2:54",
          "2:55",
          "2:56",
          "2:57",
          "2:58",
          "2:59",
          "2:6",
          "2:7",
          "2:8",
          "2:9",
          "3:0",
          "3:1",
          "3:10",
          "3:11",
          "3:12",
          "3:13",
          "3:15",
          "3:16",
          "3:17",
          "3:18",
          "3:19",
          "3:20",
          "3:21",
          "3:23",
          "3:24",
          "3:25",
          "3:26",
          "3:27",
          "3:28",
          "3:29",
          "3:3",
          "3:30",
          "3:31",
          "3:32",
          "3:33",
          "3:34",
          "3:35",
          "3:36",
          "3:39",
          "3:4",
          "3:40",
          "3:41",
          "3:42",
          "3:43",
          "3:44",
          "3:45",
          "3:46",
          "3:47",
          "3:48",
          "3:49",
          "3:50",
          "3:52",
          "3:53",
          "3:54",
          "3:55",
          "3:56",
          "3:57",
          "3:58",
          "3:59",
          "3:6",
          "3:7",
          "3:8",
          "3:9",
          "4:1",
          "4:10",
          "4:11",
          "4:12",
          "4:13",
          "4:14",
          "4:15",
          "4:16",
          "4:17",
          "4:19",
          "4:20",
          "4:22",
          "4:24",
          "4:26",
          "4:27",
          "4:28",
          "4:29",
          "4:3",
          "4:30",
          "4:33",
          "4:34",
          "4:35",
          "4:36",
          "4:37",
          "4:38",
          "4:39",
          "4:4",
          "4:40",
          "4:41",
          "4:42",
          "4:43",
          "4:44",
          "4:45",
          "4:46",
          "4:47",
          "4:48",
          "4:49",
          "4:5",
          "4:50",
          "4:51",
          "4:53",
          "4:54",
          "4:55",
          "4:56",
          "4:58",
          "4:7",
          "4:8",
          "5:0",
          "5:1",
          "5:10",
          "5:12",
          "5:13",
          "5:14",
          "5:15",
          "5:17",
          "5:18",
          "5:2",
          "5:20",
          "5:23",
          "5:24",
          "5:25",
          "5:26",
          "5:28",
          "5:29",
          "5:3",
          "5:30",
          "5:31",
          "5:32",
          "5:33",
          "5:34",
          "5:35",
          "5:36",
          "5:37",
          "5:38",
          "5:39",
          "5:4",
          "5:40",
          "5:43",
          "5:45",
          "5:46",
          "5:47",
          "5:48",
          "5:49",
          "5:5",
          "5:52",
          "5:53",
          "5:54",
          "5:56",
          "5:57",
          "5:58",
          "5:6",
          "5:7",
          "5:8",
          "5:9",
          "6:0",
          "6:1",
          "6:11",
          "6:13",
          "6:16",
          "6:17",
          "6:18",
          "6:19",
          "6:20",
          "6:21",
          "6:22",
          "6:23",
          "6:25",
          "6:26",
          "6:29",
          "6:3",
          "6:30",
          "6:31",
          "6:32",
          "6:33",
          "6:34",
          "6:39",
          "6:4",
          "6:40",
          "6:42",
          "6:44",
          "6:49",
          "6:5",
          "6:51",
          "6:53",
          "6:55",
          "6:58",
          "6:59",
          "6:6",
          "6:8",
          "6:9",
          "7:0",
          "7:1",
          "7:11",
          "7:16",
          "7:20",
          "7:21",
          "7:22",
          "7:31",
          "7:32",
          "7:34",
          "7:38",
          "7:43",
          "7:49",
          "7:52",
          "7:53",
          "7:6",
          "7:7",
          "7:8",
          "8:1",
          "8:10",
          "8:18",
          "8:21",
          "8:24",
          "8:26",
          "8:27",
          "8:28",
          "8:3",
          "8:38",
          "8:40",
          "8:48",
          "8:51",
          "8:57",
          "8:58",
          "8:59",
          "8:7",
          "9:0",
          "9:1",
          "9:11",
          "9:18",
          "9:27",
          "9:30",
          "9:4",
          "9:42",
          "9:44",
          "9:45",
          "9:47",
          "9:52",
          "9:59"
         ],
         "xaxis": "x",
         "y": [
          2,
          3,
          3,
          3,
          2,
          4,
          6,
          1,
          3,
          2,
          3,
          3,
          3,
          5,
          1,
          1,
          3,
          4,
          4,
          1,
          2,
          2,
          2,
          3,
          2,
          1,
          5,
          2,
          3,
          1,
          3,
          2,
          2,
          1,
          2,
          2,
          3,
          3,
          1,
          3,
          4,
          2,
          4,
          5,
          2,
          4,
          2,
          5,
          2,
          4,
          2,
          5,
          2,
          4,
          2,
          4,
          3,
          1,
          1,
          1,
          1,
          1,
          1,
          1,
          1,
          2,
          1,
          1,
          1,
          1,
          1,
          1,
          1,
          1,
          1,
          1,
          1,
          1,
          1,
          1,
          1,
          1,
          1,
          2,
          2,
          1,
          1,
          1,
          1,
          2,
          1,
          1,
          1,
          1,
          2,
          1,
          1,
          1,
          1,
          1,
          1,
          1,
          1,
          3,
          1,
          1,
          1,
          1,
          3,
          1,
          1,
          1,
          2,
          1,
          1,
          1,
          1,
          3,
          1,
          1,
          1,
          2,
          1,
          3,
          3,
          1,
          2,
          2,
          1,
          2,
          3,
          1,
          1,
          1,
          2,
          1,
          1,
          2,
          3,
          1,
          4,
          3,
          2,
          4,
          1,
          6,
          3,
          2,
          2,
          3,
          2,
          2,
          1,
          4,
          2,
          1,
          2,
          2,
          1,
          1,
          1,
          2,
          2,
          1,
          2,
          3,
          1,
          3,
          2,
          1,
          1,
          1,
          1,
          2,
          2,
          2,
          1,
          2,
          1,
          1,
          3,
          1,
          1,
          1,
          1,
          3,
          1,
          2,
          2,
          2,
          4,
          1,
          2,
          2,
          2,
          2,
          3,
          1,
          1,
          2,
          2,
          1,
          1,
          1,
          5,
          4,
          1,
          3,
          1,
          2,
          1,
          4,
          1,
          2,
          1,
          3,
          1,
          1,
          2,
          3,
          1,
          1,
          2,
          3,
          2,
          1,
          1,
          2,
          1,
          3,
          3,
          1,
          2,
          2,
          2,
          1,
          1,
          2,
          1,
          3,
          1,
          1,
          7,
          2,
          1,
          3,
          2,
          1,
          2,
          5,
          2,
          3,
          3,
          1,
          1,
          3,
          3,
          1,
          1,
          2,
          3,
          5,
          2,
          2,
          1,
          2,
          3,
          5,
          3,
          2,
          1,
          4,
          1,
          3,
          1,
          3,
          2,
          4,
          3,
          4,
          2,
          1,
          1,
          2,
          2,
          1,
          2,
          4,
          3,
          2,
          2,
          1,
          2,
          3,
          3,
          5,
          1,
          2,
          1,
          3,
          4,
          3,
          3,
          3,
          1,
          3,
          2,
          2,
          3,
          1,
          3,
          1,
          2,
          1,
          3,
          1,
          2,
          4,
          2,
          1,
          5,
          6,
          4,
          1,
          3,
          4,
          4,
          4,
          5,
          7,
          4,
          1,
          3,
          2,
          2,
          4,
          6,
          2,
          3,
          2,
          3,
          7,
          4,
          2,
          3,
          1,
          3,
          4,
          2,
          2,
          7,
          1,
          2,
          2,
          2,
          5,
          2,
          3,
          3,
          2,
          3,
          1,
          3,
          2,
          3,
          2,
          1,
          2,
          6,
          1,
          3,
          4,
          2,
          4,
          5,
          2,
          1,
          3,
          2,
          7,
          1,
          2,
          3,
          3,
          1,
          4,
          2,
          2,
          2,
          1,
          3,
          2,
          2,
          2,
          1,
          3,
          2,
          1,
          1,
          3,
          2,
          2,
          4,
          2,
          4,
          4,
          1,
          3,
          3,
          4,
          5,
          1,
          2,
          4,
          4,
          3,
          4,
          2,
          7,
          5,
          5,
          1,
          3,
          3,
          2,
          6,
          4,
          1,
          2,
          1,
          5,
          1,
          2,
          2,
          3,
          3,
          3,
          2,
          1,
          3,
          4,
          2,
          1,
          3,
          2,
          3,
          6,
          4,
          1,
          4,
          3,
          5,
          3,
          3,
          2,
          6,
          4,
          1,
          3,
          3,
          2,
          2,
          5,
          6,
          3,
          2,
          7,
          2,
          1,
          2,
          2,
          2,
          4,
          2,
          4,
          1,
          3,
          4,
          3,
          3,
          1,
          3,
          4,
          2,
          2,
          3,
          3,
          1,
          2,
          3,
          3,
          2,
          4,
          1,
          1,
          6,
          6,
          1,
          1,
          3,
          3,
          2,
          2,
          2,
          2,
          1,
          1,
          2,
          3,
          2,
          3,
          1,
          5,
          2,
          1,
          3,
          1,
          4,
          1,
          1,
          2,
          1,
          1,
          1,
          4,
          2,
          3,
          2,
          2,
          3,
          3,
          2,
          2,
          3,
          1,
          3,
          1,
          6,
          4,
          2,
          4,
          1,
          1,
          2,
          4,
          4,
          5,
          4,
          6,
          3,
          2,
          2,
          4,
          1,
          1,
          5,
          4,
          3,
          4,
          2,
          4,
          4,
          2,
          3,
          3,
          3,
          5,
          1,
          2,
          4,
          1,
          4,
          3,
          4,
          2,
          4,
          4,
          6,
          2,
          4,
          2,
          3,
          5,
          5,
          1,
          2,
          2,
          6,
          2,
          1,
          1,
          4,
          2,
          2,
          2,
          2,
          3,
          3,
          1,
          1,
          1,
          1,
          2,
          1,
          1,
          5,
          3,
          2,
          2,
          3,
          2,
          1,
          3,
          2,
          4,
          3,
          2,
          1,
          2,
          5,
          1,
          1,
          3,
          1,
          3,
          2,
          4,
          2,
          3,
          3,
          2,
          1,
          4,
          1,
          2,
          3,
          4,
          2,
          4,
          3,
          1,
          7,
          3,
          1,
          3,
          2,
          1,
          2,
          1,
          5,
          3,
          2,
          1,
          6,
          1,
          1,
          3,
          3,
          2,
          1,
          4,
          2,
          1,
          3,
          3,
          1,
          3,
          2,
          3,
          3,
          1,
          3,
          2,
          2,
          1,
          5,
          2,
          1,
          2,
          3,
          2,
          2,
          2,
          2,
          3,
          2,
          3,
          4,
          1,
          1,
          1,
          3,
          4,
          1,
          4,
          2,
          2,
          2,
          2,
          6,
          3,
          3,
          1,
          4,
          1,
          3,
          3,
          2,
          4,
          2,
          3,
          2,
          1,
          3,
          3,
          1,
          5,
          2,
          3,
          1,
          2,
          4,
          2,
          2,
          4,
          1,
          4,
          2,
          2,
          2,
          1,
          2,
          5,
          2,
          2,
          2,
          3,
          2,
          3,
          3,
          2,
          3,
          5,
          2,
          2,
          2,
          3,
          5,
          1,
          1,
          2,
          2,
          1,
          5,
          2,
          1,
          3,
          4,
          2,
          2,
          3,
          3,
          1,
          3,
          2,
          1,
          5,
          2,
          2,
          6,
          2,
          3,
          2,
          2,
          1,
          3,
          4,
          3,
          4,
          2,
          3,
          1,
          5,
          2,
          1,
          2,
          5,
          2,
          1,
          3,
          2,
          3,
          2,
          1,
          1,
          3,
          1,
          5,
          3,
          4,
          3,
          3,
          3,
          2,
          3,
          2,
          2,
          2,
          4,
          3,
          1,
          3,
          1,
          1,
          1,
          1,
          2,
          4,
          2,
          1,
          2,
          1,
          4,
          1,
          3,
          2,
          3,
          4,
          2,
          1,
          2,
          1,
          2,
          1,
          2,
          2,
          1,
          1,
          1,
          6,
          2,
          4,
          1,
          3,
          1,
          1,
          4,
          1,
          2,
          1,
          2,
          1,
          2,
          3,
          4,
          1,
          5,
          4,
          3,
          3,
          2,
          1,
          6,
          3,
          3,
          2,
          5,
          2,
          4,
          2,
          1,
          4,
          2,
          2,
          1,
          3,
          2,
          1,
          1,
          2,
          1,
          2,
          1,
          2,
          2,
          2,
          3,
          4,
          3,
          1,
          2,
          2,
          1,
          1,
          1,
          1,
          2,
          1,
          1,
          1,
          1,
          1,
          3,
          2,
          2,
          2,
          1,
          1,
          1,
          1,
          2,
          3,
          1,
          2,
          2,
          1,
          3,
          3,
          1,
          2,
          1,
          1,
          2,
          2,
          1,
          1,
          1,
          1,
          1,
          1,
          2,
          4,
          2,
          1,
          1,
          3,
          1,
          2,
          1,
          2,
          3,
          2,
          1,
          2,
          1,
          1,
          1,
          1,
          2,
          1,
          2,
          1,
          1,
          1,
          2,
          1,
          1,
          2,
          3,
          1,
          2,
          2,
          1,
          2,
          1,
          1,
          1,
          1,
          1,
          1,
          1,
          1,
          1,
          1,
          1,
          1,
          1,
          1,
          1,
          2,
          1,
          1,
          1,
          1,
          1,
          1,
          2,
          1,
          1,
          3,
          1,
          1,
          1,
          1,
          1,
          1,
          1,
          1,
          1,
          1,
          1,
          1,
          1,
          1,
          1,
          1,
          1,
          1,
          1,
          2,
          1,
          1
         ],
         "yaxis": "y"
        }
       ],
       "layout": {
        "legend": {
         "title": {
          "text": "variable"
         },
         "tracegroupgap": 0
        },
        "template": {
         "data": {
          "bar": [
           {
            "error_x": {
             "color": "#2a3f5f"
            },
            "error_y": {
             "color": "#2a3f5f"
            },
            "marker": {
             "line": {
              "color": "#E5ECF6",
              "width": 0.5
             },
             "pattern": {
              "fillmode": "overlay",
              "size": 10,
              "solidity": 0.2
             }
            },
            "type": "bar"
           }
          ],
          "barpolar": [
           {
            "marker": {
             "line": {
              "color": "#E5ECF6",
              "width": 0.5
             },
             "pattern": {
              "fillmode": "overlay",
              "size": 10,
              "solidity": 0.2
             }
            },
            "type": "barpolar"
           }
          ],
          "carpet": [
           {
            "aaxis": {
             "endlinecolor": "#2a3f5f",
             "gridcolor": "white",
             "linecolor": "white",
             "minorgridcolor": "white",
             "startlinecolor": "#2a3f5f"
            },
            "baxis": {
             "endlinecolor": "#2a3f5f",
             "gridcolor": "white",
             "linecolor": "white",
             "minorgridcolor": "white",
             "startlinecolor": "#2a3f5f"
            },
            "type": "carpet"
           }
          ],
          "choropleth": [
           {
            "colorbar": {
             "outlinewidth": 0,
             "ticks": ""
            },
            "type": "choropleth"
           }
          ],
          "contour": [
           {
            "colorbar": {
             "outlinewidth": 0,
             "ticks": ""
            },
            "colorscale": [
             [
              0,
              "#0d0887"
             ],
             [
              0.1111111111111111,
              "#46039f"
             ],
             [
              0.2222222222222222,
              "#7201a8"
             ],
             [
              0.3333333333333333,
              "#9c179e"
             ],
             [
              0.4444444444444444,
              "#bd3786"
             ],
             [
              0.5555555555555556,
              "#d8576b"
             ],
             [
              0.6666666666666666,
              "#ed7953"
             ],
             [
              0.7777777777777778,
              "#fb9f3a"
             ],
             [
              0.8888888888888888,
              "#fdca26"
             ],
             [
              1,
              "#f0f921"
             ]
            ],
            "type": "contour"
           }
          ],
          "contourcarpet": [
           {
            "colorbar": {
             "outlinewidth": 0,
             "ticks": ""
            },
            "type": "contourcarpet"
           }
          ],
          "heatmap": [
           {
            "colorbar": {
             "outlinewidth": 0,
             "ticks": ""
            },
            "colorscale": [
             [
              0,
              "#0d0887"
             ],
             [
              0.1111111111111111,
              "#46039f"
             ],
             [
              0.2222222222222222,
              "#7201a8"
             ],
             [
              0.3333333333333333,
              "#9c179e"
             ],
             [
              0.4444444444444444,
              "#bd3786"
             ],
             [
              0.5555555555555556,
              "#d8576b"
             ],
             [
              0.6666666666666666,
              "#ed7953"
             ],
             [
              0.7777777777777778,
              "#fb9f3a"
             ],
             [
              0.8888888888888888,
              "#fdca26"
             ],
             [
              1,
              "#f0f921"
             ]
            ],
            "type": "heatmap"
           }
          ],
          "heatmapgl": [
           {
            "colorbar": {
             "outlinewidth": 0,
             "ticks": ""
            },
            "colorscale": [
             [
              0,
              "#0d0887"
             ],
             [
              0.1111111111111111,
              "#46039f"
             ],
             [
              0.2222222222222222,
              "#7201a8"
             ],
             [
              0.3333333333333333,
              "#9c179e"
             ],
             [
              0.4444444444444444,
              "#bd3786"
             ],
             [
              0.5555555555555556,
              "#d8576b"
             ],
             [
              0.6666666666666666,
              "#ed7953"
             ],
             [
              0.7777777777777778,
              "#fb9f3a"
             ],
             [
              0.8888888888888888,
              "#fdca26"
             ],
             [
              1,
              "#f0f921"
             ]
            ],
            "type": "heatmapgl"
           }
          ],
          "histogram": [
           {
            "marker": {
             "pattern": {
              "fillmode": "overlay",
              "size": 10,
              "solidity": 0.2
             }
            },
            "type": "histogram"
           }
          ],
          "histogram2d": [
           {
            "colorbar": {
             "outlinewidth": 0,
             "ticks": ""
            },
            "colorscale": [
             [
              0,
              "#0d0887"
             ],
             [
              0.1111111111111111,
              "#46039f"
             ],
             [
              0.2222222222222222,
              "#7201a8"
             ],
             [
              0.3333333333333333,
              "#9c179e"
             ],
             [
              0.4444444444444444,
              "#bd3786"
             ],
             [
              0.5555555555555556,
              "#d8576b"
             ],
             [
              0.6666666666666666,
              "#ed7953"
             ],
             [
              0.7777777777777778,
              "#fb9f3a"
             ],
             [
              0.8888888888888888,
              "#fdca26"
             ],
             [
              1,
              "#f0f921"
             ]
            ],
            "type": "histogram2d"
           }
          ],
          "histogram2dcontour": [
           {
            "colorbar": {
             "outlinewidth": 0,
             "ticks": ""
            },
            "colorscale": [
             [
              0,
              "#0d0887"
             ],
             [
              0.1111111111111111,
              "#46039f"
             ],
             [
              0.2222222222222222,
              "#7201a8"
             ],
             [
              0.3333333333333333,
              "#9c179e"
             ],
             [
              0.4444444444444444,
              "#bd3786"
             ],
             [
              0.5555555555555556,
              "#d8576b"
             ],
             [
              0.6666666666666666,
              "#ed7953"
             ],
             [
              0.7777777777777778,
              "#fb9f3a"
             ],
             [
              0.8888888888888888,
              "#fdca26"
             ],
             [
              1,
              "#f0f921"
             ]
            ],
            "type": "histogram2dcontour"
           }
          ],
          "mesh3d": [
           {
            "colorbar": {
             "outlinewidth": 0,
             "ticks": ""
            },
            "type": "mesh3d"
           }
          ],
          "parcoords": [
           {
            "line": {
             "colorbar": {
              "outlinewidth": 0,
              "ticks": ""
             }
            },
            "type": "parcoords"
           }
          ],
          "pie": [
           {
            "automargin": true,
            "type": "pie"
           }
          ],
          "scatter": [
           {
            "marker": {
             "colorbar": {
              "outlinewidth": 0,
              "ticks": ""
             }
            },
            "type": "scatter"
           }
          ],
          "scatter3d": [
           {
            "line": {
             "colorbar": {
              "outlinewidth": 0,
              "ticks": ""
             }
            },
            "marker": {
             "colorbar": {
              "outlinewidth": 0,
              "ticks": ""
             }
            },
            "type": "scatter3d"
           }
          ],
          "scattercarpet": [
           {
            "marker": {
             "colorbar": {
              "outlinewidth": 0,
              "ticks": ""
             }
            },
            "type": "scattercarpet"
           }
          ],
          "scattergeo": [
           {
            "marker": {
             "colorbar": {
              "outlinewidth": 0,
              "ticks": ""
             }
            },
            "type": "scattergeo"
           }
          ],
          "scattergl": [
           {
            "marker": {
             "colorbar": {
              "outlinewidth": 0,
              "ticks": ""
             }
            },
            "type": "scattergl"
           }
          ],
          "scattermapbox": [
           {
            "marker": {
             "colorbar": {
              "outlinewidth": 0,
              "ticks": ""
             }
            },
            "type": "scattermapbox"
           }
          ],
          "scatterpolar": [
           {
            "marker": {
             "colorbar": {
              "outlinewidth": 0,
              "ticks": ""
             }
            },
            "type": "scatterpolar"
           }
          ],
          "scatterpolargl": [
           {
            "marker": {
             "colorbar": {
              "outlinewidth": 0,
              "ticks": ""
             }
            },
            "type": "scatterpolargl"
           }
          ],
          "scatterternary": [
           {
            "marker": {
             "colorbar": {
              "outlinewidth": 0,
              "ticks": ""
             }
            },
            "type": "scatterternary"
           }
          ],
          "surface": [
           {
            "colorbar": {
             "outlinewidth": 0,
             "ticks": ""
            },
            "colorscale": [
             [
              0,
              "#0d0887"
             ],
             [
              0.1111111111111111,
              "#46039f"
             ],
             [
              0.2222222222222222,
              "#7201a8"
             ],
             [
              0.3333333333333333,
              "#9c179e"
             ],
             [
              0.4444444444444444,
              "#bd3786"
             ],
             [
              0.5555555555555556,
              "#d8576b"
             ],
             [
              0.6666666666666666,
              "#ed7953"
             ],
             [
              0.7777777777777778,
              "#fb9f3a"
             ],
             [
              0.8888888888888888,
              "#fdca26"
             ],
             [
              1,
              "#f0f921"
             ]
            ],
            "type": "surface"
           }
          ],
          "table": [
           {
            "cells": {
             "fill": {
              "color": "#EBF0F8"
             },
             "line": {
              "color": "white"
             }
            },
            "header": {
             "fill": {
              "color": "#C8D4E3"
             },
             "line": {
              "color": "white"
             }
            },
            "type": "table"
           }
          ]
         },
         "layout": {
          "annotationdefaults": {
           "arrowcolor": "#2a3f5f",
           "arrowhead": 0,
           "arrowwidth": 1
          },
          "autotypenumbers": "strict",
          "coloraxis": {
           "colorbar": {
            "outlinewidth": 0,
            "ticks": ""
           }
          },
          "colorscale": {
           "diverging": [
            [
             0,
             "#8e0152"
            ],
            [
             0.1,
             "#c51b7d"
            ],
            [
             0.2,
             "#de77ae"
            ],
            [
             0.3,
             "#f1b6da"
            ],
            [
             0.4,
             "#fde0ef"
            ],
            [
             0.5,
             "#f7f7f7"
            ],
            [
             0.6,
             "#e6f5d0"
            ],
            [
             0.7,
             "#b8e186"
            ],
            [
             0.8,
             "#7fbc41"
            ],
            [
             0.9,
             "#4d9221"
            ],
            [
             1,
             "#276419"
            ]
           ],
           "sequential": [
            [
             0,
             "#0d0887"
            ],
            [
             0.1111111111111111,
             "#46039f"
            ],
            [
             0.2222222222222222,
             "#7201a8"
            ],
            [
             0.3333333333333333,
             "#9c179e"
            ],
            [
             0.4444444444444444,
             "#bd3786"
            ],
            [
             0.5555555555555556,
             "#d8576b"
            ],
            [
             0.6666666666666666,
             "#ed7953"
            ],
            [
             0.7777777777777778,
             "#fb9f3a"
            ],
            [
             0.8888888888888888,
             "#fdca26"
            ],
            [
             1,
             "#f0f921"
            ]
           ],
           "sequentialminus": [
            [
             0,
             "#0d0887"
            ],
            [
             0.1111111111111111,
             "#46039f"
            ],
            [
             0.2222222222222222,
             "#7201a8"
            ],
            [
             0.3333333333333333,
             "#9c179e"
            ],
            [
             0.4444444444444444,
             "#bd3786"
            ],
            [
             0.5555555555555556,
             "#d8576b"
            ],
            [
             0.6666666666666666,
             "#ed7953"
            ],
            [
             0.7777777777777778,
             "#fb9f3a"
            ],
            [
             0.8888888888888888,
             "#fdca26"
            ],
            [
             1,
             "#f0f921"
            ]
           ]
          },
          "colorway": [
           "#636efa",
           "#EF553B",
           "#00cc96",
           "#ab63fa",
           "#FFA15A",
           "#19d3f3",
           "#FF6692",
           "#B6E880",
           "#FF97FF",
           "#FECB52"
          ],
          "font": {
           "color": "#2a3f5f"
          },
          "geo": {
           "bgcolor": "white",
           "lakecolor": "white",
           "landcolor": "#E5ECF6",
           "showlakes": true,
           "showland": true,
           "subunitcolor": "white"
          },
          "hoverlabel": {
           "align": "left"
          },
          "hovermode": "closest",
          "mapbox": {
           "style": "light"
          },
          "paper_bgcolor": "white",
          "plot_bgcolor": "#E5ECF6",
          "polar": {
           "angularaxis": {
            "gridcolor": "white",
            "linecolor": "white",
            "ticks": ""
           },
           "bgcolor": "#E5ECF6",
           "radialaxis": {
            "gridcolor": "white",
            "linecolor": "white",
            "ticks": ""
           }
          },
          "scene": {
           "xaxis": {
            "backgroundcolor": "#E5ECF6",
            "gridcolor": "white",
            "gridwidth": 2,
            "linecolor": "white",
            "showbackground": true,
            "ticks": "",
            "zerolinecolor": "white"
           },
           "yaxis": {
            "backgroundcolor": "#E5ECF6",
            "gridcolor": "white",
            "gridwidth": 2,
            "linecolor": "white",
            "showbackground": true,
            "ticks": "",
            "zerolinecolor": "white"
           },
           "zaxis": {
            "backgroundcolor": "#E5ECF6",
            "gridcolor": "white",
            "gridwidth": 2,
            "linecolor": "white",
            "showbackground": true,
            "ticks": "",
            "zerolinecolor": "white"
           }
          },
          "shapedefaults": {
           "line": {
            "color": "#2a3f5f"
           }
          },
          "ternary": {
           "aaxis": {
            "gridcolor": "white",
            "linecolor": "white",
            "ticks": ""
           },
           "baxis": {
            "gridcolor": "white",
            "linecolor": "white",
            "ticks": ""
           },
           "bgcolor": "#E5ECF6",
           "caxis": {
            "gridcolor": "white",
            "linecolor": "white",
            "ticks": ""
           }
          },
          "title": {
           "x": 0.05
          },
          "xaxis": {
           "automargin": true,
           "gridcolor": "white",
           "linecolor": "white",
           "ticks": "",
           "title": {
            "standoff": 15
           },
           "zerolinecolor": "white",
           "zerolinewidth": 2
          },
          "yaxis": {
           "automargin": true,
           "gridcolor": "white",
           "linecolor": "white",
           "ticks": "",
           "title": {
            "standoff": 15
           },
           "zerolinecolor": "white",
           "zerolinewidth": 2
          }
         }
        },
        "title": {
         "text": "title"
        },
        "xaxis": {
         "anchor": "y",
         "domain": [
          0,
          1
         ],
         "title": {
          "text": "value"
         }
        },
        "yaxis": {
         "anchor": "x",
         "domain": [
          0,
          1
         ],
         "title": {
          "text": "total_reviews"
         }
        }
       }
      },
      "text/html": [
       "<div>                            <div id=\"e7810fde-195b-44f9-a1ea-29b8781d86b2\" class=\"plotly-graph-div\" style=\"height:525px; width:100%;\"></div>            <script type=\"text/javascript\">                require([\"plotly\"], function(Plotly) {                    window.PLOTLYENV=window.PLOTLYENV || {};                                    if (document.getElementById(\"e7810fde-195b-44f9-a1ea-29b8781d86b2\")) {                    Plotly.newPlot(                        \"e7810fde-195b-44f9-a1ea-29b8781d86b2\",                        [{\"hovertemplate\":\"variable=period<br>value=%{x}<br>total_reviews=%{y}<extra></extra>\",\"legendgroup\":\"period\",\"line\":{\"color\":\"#636efa\",\"dash\":\"solid\"},\"mode\":\"lines\",\"name\":\"period\",\"showlegend\":true,\"type\":\"scattergl\",\"x\":[\"0:0\",\"0:1\",\"0:10\",\"0:11\",\"0:12\",\"0:13\",\"0:14\",\"0:15\",\"0:16\",\"0:17\",\"0:18\",\"0:19\",\"0:2\",\"0:20\",\"0:21\",\"0:22\",\"0:23\",\"0:25\",\"0:26\",\"0:27\",\"0:28\",\"0:29\",\"0:3\",\"0:30\",\"0:31\",\"0:32\",\"0:33\",\"0:34\",\"0:35\",\"0:36\",\"0:37\",\"0:38\",\"0:39\",\"0:4\",\"0:40\",\"0:41\",\"0:42\",\"0:43\",\"0:44\",\"0:45\",\"0:46\",\"0:47\",\"0:48\",\"0:49\",\"0:5\",\"0:50\",\"0:51\",\"0:52\",\"0:54\",\"0:55\",\"0:56\",\"0:57\",\"0:58\",\"0:6\",\"0:7\",\"0:8\",\"0:9\",\"10:18\",\"10:31\",\"10:33\",\"10:37\",\"10:4\",\"10:40\",\"10:41\",\"10:45\",\"10:46\",\"10:48\",\"10:5\",\"10:50\",\"10:51\",\"10:52\",\"10:53\",\"10:57\",\"11:19\",\"11:21\",\"11:22\",\"11:23\",\"11:25\",\"11:33\",\"11:39\",\"11:4\",\"11:43\",\"11:46\",\"11:50\",\"11:8\",\"12:10\",\"12:11\",\"12:15\",\"12:16\",\"12:18\",\"12:24\",\"12:27\",\"12:29\",\"12:3\",\"12:31\",\"12:32\",\"12:37\",\"12:4\",\"12:45\",\"12:48\",\"12:49\",\"12:53\",\"12:56\",\"12:57\",\"12:58\",\"12:59\",\"13:0\",\"13:1\",\"13:12\",\"13:17\",\"13:19\",\"13:20\",\"13:22\",\"13:26\",\"13:27\",\"13:28\",\"13:29\",\"13:33\",\"13:34\",\"13:36\",\"13:38\",\"13:40\",\"13:42\",\"13:46\",\"13:49\",\"13:50\",\"13:51\",\"13:52\",\"13:54\",\"13:55\",\"13:57\",\"13:59\",\"13:7\",\"13:9\",\"14:0\",\"14:1\",\"14:10\",\"14:11\",\"14:12\",\"14:13\",\"14:15\",\"14:16\",\"14:17\",\"14:18\",\"14:19\",\"14:2\",\"14:20\",\"14:22\",\"14:23\",\"14:24\",\"14:25\",\"14:27\",\"14:28\",\"14:29\",\"14:3\",\"14:30\",\"14:31\",\"14:32\",\"14:33\",\"14:34\",\"14:36\",\"14:37\",\"14:39\",\"14:4\",\"14:40\",\"14:41\",\"14:42\",\"14:43\",\"14:45\",\"14:46\",\"14:47\",\"14:49\",\"14:5\",\"14:50\",\"14:51\",\"14:53\",\"14:54\",\"14:55\",\"14:56\",\"14:57\",\"14:59\",\"14:6\",\"14:7\",\"14:9\",\"15:0\",\"15:11\",\"15:12\",\"15:13\",\"15:14\",\"15:18\",\"15:19\",\"15:2\",\"15:21\",\"15:22\",\"15:23\",\"15:24\",\"15:25\",\"15:26\",\"15:27\",\"15:28\",\"15:29\",\"15:3\",\"15:32\",\"15:33\",\"15:34\",\"15:35\",\"15:36\",\"15:38\",\"15:39\",\"15:4\",\"15:40\",\"15:41\",\"15:43\",\"15:44\",\"15:45\",\"15:47\",\"15:48\",\"15:49\",\"15:5\",\"15:50\",\"15:51\",\"15:52\",\"15:53\",\"15:54\",\"15:55\",\"15:57\",\"15:58\",\"15:59\",\"15:6\",\"15:7\",\"15:8\",\"15:9\",\"16:0\",\"16:1\",\"16:10\",\"16:11\",\"16:12\",\"16:13\",\"16:14\",\"16:16\",\"16:17\",\"16:19\",\"16:2\",\"16:20\",\"16:21\",\"16:24\",\"16:25\",\"16:26\",\"16:27\",\"16:29\",\"16:3\",\"16:30\",\"16:32\",\"16:33\",\"16:34\",\"16:35\",\"16:36\",\"16:38\",\"16:39\",\"16:4\",\"16:40\",\"16:41\",\"16:42\",\"16:43\",\"16:44\",\"16:45\",\"16:46\",\"16:47\",\"16:48\",\"16:49\",\"16:5\",\"16:50\",\"16:51\",\"16:52\",\"16:53\",\"16:54\",\"16:55\",\"16:56\",\"16:57\",\"16:58\",\"16:59\",\"16:6\",\"16:7\",\"16:8\",\"17:0\",\"17:1\",\"17:10\",\"17:11\",\"17:12\",\"17:13\",\"17:14\",\"17:15\",\"17:16\",\"17:18\",\"17:19\",\"17:2\",\"17:20\",\"17:21\",\"17:22\",\"17:23\",\"17:24\",\"17:25\",\"17:27\",\"17:28\",\"17:29\",\"17:3\",\"17:30\",\"17:31\",\"17:32\",\"17:33\",\"17:34\",\"17:35\",\"17:36\",\"17:37\",\"17:38\",\"17:39\",\"17:4\",\"17:40\",\"17:41\",\"17:42\",\"17:43\",\"17:44\",\"17:45\",\"17:46\",\"17:47\",\"17:49\",\"17:50\",\"17:51\",\"17:52\",\"17:53\",\"17:54\",\"17:55\",\"17:57\",\"17:58\",\"17:59\",\"17:6\",\"17:7\",\"17:8\",\"17:9\",\"18:0\",\"18:1\",\"18:10\",\"18:11\",\"18:12\",\"18:13\",\"18:14\",\"18:16\",\"18:17\",\"18:18\",\"18:19\",\"18:2\",\"18:20\",\"18:21\",\"18:23\",\"18:24\",\"18:25\",\"18:26\",\"18:28\",\"18:29\",\"18:3\",\"18:30\",\"18:31\",\"18:32\",\"18:33\",\"18:34\",\"18:35\",\"18:36\",\"18:37\",\"18:38\",\"18:39\",\"18:4\",\"18:40\",\"18:41\",\"18:42\",\"18:44\",\"18:45\",\"18:46\",\"18:47\",\"18:48\",\"18:49\",\"18:5\",\"18:50\",\"18:51\",\"18:52\",\"18:53\",\"18:54\",\"18:56\",\"18:57\",\"18:58\",\"18:59\",\"18:6\",\"18:7\",\"18:8\",\"18:9\",\"19:0\",\"19:1\",\"19:10\",\"19:11\",\"19:12\",\"19:13\",\"19:14\",\"19:15\",\"19:16\",\"19:17\",\"19:18\",\"19:19\",\"19:2\",\"19:20\",\"19:21\",\"19:22\",\"19:23\",\"19:24\",\"19:25\",\"19:26\",\"19:27\",\"19:28\",\"19:29\",\"19:3\",\"19:30\",\"19:31\",\"19:32\",\"19:33\",\"19:34\",\"19:35\",\"19:36\",\"19:37\",\"19:38\",\"19:39\",\"19:4\",\"19:40\",\"19:41\",\"19:42\",\"19:43\",\"19:44\",\"19:46\",\"19:47\",\"19:48\",\"19:49\",\"19:5\",\"19:50\",\"19:51\",\"19:52\",\"19:53\",\"19:54\",\"19:55\",\"19:56\",\"19:57\",\"19:58\",\"19:59\",\"19:6\",\"19:7\",\"19:8\",\"19:9\",\"1:0\",\"1:1\",\"1:10\",\"1:11\",\"1:13\",\"1:14\",\"1:15\",\"1:16\",\"1:17\",\"1:18\",\"1:19\",\"1:2\",\"1:20\",\"1:21\",\"1:22\",\"1:23\",\"1:24\",\"1:25\",\"1:26\",\"1:27\",\"1:29\",\"1:3\",\"1:31\",\"1:32\",\"1:34\",\"1:35\",\"1:36\",\"1:37\",\"1:39\",\"1:4\",\"1:40\",\"1:41\",\"1:42\",\"1:43\",\"1:44\",\"1:45\",\"1:46\",\"1:47\",\"1:48\",\"1:49\",\"1:5\",\"1:50\",\"1:51\",\"1:52\",\"1:53\",\"1:54\",\"1:55\",\"1:56\",\"1:57\",\"1:58\",\"1:59\",\"1:6\",\"1:7\",\"1:8\",\"1:9\",\"20:0\",\"20:1\",\"20:10\",\"20:11\",\"20:12\",\"20:13\",\"20:14\",\"20:16\",\"20:17\",\"20:18\",\"20:2\",\"20:20\",\"20:21\",\"20:22\",\"20:23\",\"20:24\",\"20:25\",\"20:26\",\"20:27\",\"20:28\",\"20:29\",\"20:3\",\"20:30\",\"20:32\",\"20:33\",\"20:34\",\"20:35\",\"20:36\",\"20:37\",\"20:38\",\"20:39\",\"20:4\",\"20:40\",\"20:41\",\"20:42\",\"20:43\",\"20:44\",\"20:46\",\"20:47\",\"20:48\",\"20:49\",\"20:5\",\"20:50\",\"20:51\",\"20:52\",\"20:53\",\"20:54\",\"20:55\",\"20:56\",\"20:57\",\"20:58\",\"20:59\",\"20:7\",\"20:8\",\"20:9\",\"21:1\",\"21:10\",\"21:11\",\"21:12\",\"21:13\",\"21:14\",\"21:15\",\"21:16\",\"21:17\",\"21:18\",\"21:19\",\"21:2\",\"21:20\",\"21:21\",\"21:22\",\"21:23\",\"21:24\",\"21:25\",\"21:26\",\"21:27\",\"21:28\",\"21:3\",\"21:30\",\"21:31\",\"21:32\",\"21:33\",\"21:34\",\"21:35\",\"21:36\",\"21:37\",\"21:38\",\"21:39\",\"21:4\",\"21:40\",\"21:41\",\"21:42\",\"21:43\",\"21:44\",\"21:45\",\"21:46\",\"21:47\",\"21:49\",\"21:5\",\"21:50\",\"21:51\",\"21:52\",\"21:54\",\"21:55\",\"21:56\",\"21:57\",\"21:58\",\"21:59\",\"21:6\",\"21:7\",\"21:8\",\"21:9\",\"22:0\",\"22:1\",\"22:10\",\"22:11\",\"22:14\",\"22:15\",\"22:16\",\"22:17\",\"22:18\",\"22:19\",\"22:2\",\"22:20\",\"22:21\",\"22:22\",\"22:23\",\"22:24\",\"22:25\",\"22:26\",\"22:27\",\"22:28\",\"22:29\",\"22:3\",\"22:30\",\"22:31\",\"22:32\",\"22:33\",\"22:34\",\"22:35\",\"22:36\",\"22:37\",\"22:38\",\"22:39\",\"22:4\",\"22:40\",\"22:41\",\"22:42\",\"22:43\",\"22:44\",\"22:45\",\"22:47\",\"22:49\",\"22:5\",\"22:50\",\"22:51\",\"22:52\",\"22:53\",\"22:54\",\"22:56\",\"22:57\",\"22:58\",\"22:59\",\"22:6\",\"22:7\",\"22:8\",\"22:9\",\"23:0\",\"23:1\",\"23:10\",\"23:11\",\"23:12\",\"23:13\",\"23:14\",\"23:15\",\"23:16\",\"23:17\",\"23:18\",\"23:19\",\"23:2\",\"23:20\",\"23:21\",\"23:22\",\"23:23\",\"23:24\",\"23:25\",\"23:26\",\"23:27\",\"23:28\",\"23:3\",\"23:30\",\"23:31\",\"23:33\",\"23:34\",\"23:35\",\"23:36\",\"23:38\",\"23:39\",\"23:4\",\"23:40\",\"23:41\",\"23:42\",\"23:43\",\"23:45\",\"23:46\",\"23:48\",\"23:49\",\"23:5\",\"23:50\",\"23:51\",\"23:52\",\"23:53\",\"23:54\",\"23:55\",\"23:56\",\"23:57\",\"23:58\",\"23:59\",\"23:6\",\"23:7\",\"23:8\",\"2:0\",\"2:1\",\"2:10\",\"2:11\",\"2:12\",\"2:13\",\"2:15\",\"2:16\",\"2:17\",\"2:2\",\"2:20\",\"2:21\",\"2:22\",\"2:23\",\"2:24\",\"2:25\",\"2:26\",\"2:27\",\"2:28\",\"2:29\",\"2:3\",\"2:30\",\"2:31\",\"2:32\",\"2:33\",\"2:34\",\"2:35\",\"2:36\",\"2:37\",\"2:39\",\"2:4\",\"2:40\",\"2:42\",\"2:44\",\"2:45\",\"2:47\",\"2:48\",\"2:49\",\"2:5\",\"2:50\",\"2:51\",\"2:52\",\"2:53\",\"2:54\",\"2:55\",\"2:56\",\"2:57\",\"2:58\",\"2:59\",\"2:6\",\"2:7\",\"2:8\",\"2:9\",\"3:0\",\"3:1\",\"3:10\",\"3:11\",\"3:12\",\"3:13\",\"3:15\",\"3:16\",\"3:17\",\"3:18\",\"3:19\",\"3:20\",\"3:21\",\"3:23\",\"3:24\",\"3:25\",\"3:26\",\"3:27\",\"3:28\",\"3:29\",\"3:3\",\"3:30\",\"3:31\",\"3:32\",\"3:33\",\"3:34\",\"3:35\",\"3:36\",\"3:39\",\"3:4\",\"3:40\",\"3:41\",\"3:42\",\"3:43\",\"3:44\",\"3:45\",\"3:46\",\"3:47\",\"3:48\",\"3:49\",\"3:50\",\"3:52\",\"3:53\",\"3:54\",\"3:55\",\"3:56\",\"3:57\",\"3:58\",\"3:59\",\"3:6\",\"3:7\",\"3:8\",\"3:9\",\"4:1\",\"4:10\",\"4:11\",\"4:12\",\"4:13\",\"4:14\",\"4:15\",\"4:16\",\"4:17\",\"4:19\",\"4:20\",\"4:22\",\"4:24\",\"4:26\",\"4:27\",\"4:28\",\"4:29\",\"4:3\",\"4:30\",\"4:33\",\"4:34\",\"4:35\",\"4:36\",\"4:37\",\"4:38\",\"4:39\",\"4:4\",\"4:40\",\"4:41\",\"4:42\",\"4:43\",\"4:44\",\"4:45\",\"4:46\",\"4:47\",\"4:48\",\"4:49\",\"4:5\",\"4:50\",\"4:51\",\"4:53\",\"4:54\",\"4:55\",\"4:56\",\"4:58\",\"4:7\",\"4:8\",\"5:0\",\"5:1\",\"5:10\",\"5:12\",\"5:13\",\"5:14\",\"5:15\",\"5:17\",\"5:18\",\"5:2\",\"5:20\",\"5:23\",\"5:24\",\"5:25\",\"5:26\",\"5:28\",\"5:29\",\"5:3\",\"5:30\",\"5:31\",\"5:32\",\"5:33\",\"5:34\",\"5:35\",\"5:36\",\"5:37\",\"5:38\",\"5:39\",\"5:4\",\"5:40\",\"5:43\",\"5:45\",\"5:46\",\"5:47\",\"5:48\",\"5:49\",\"5:5\",\"5:52\",\"5:53\",\"5:54\",\"5:56\",\"5:57\",\"5:58\",\"5:6\",\"5:7\",\"5:8\",\"5:9\",\"6:0\",\"6:1\",\"6:11\",\"6:13\",\"6:16\",\"6:17\",\"6:18\",\"6:19\",\"6:20\",\"6:21\",\"6:22\",\"6:23\",\"6:25\",\"6:26\",\"6:29\",\"6:3\",\"6:30\",\"6:31\",\"6:32\",\"6:33\",\"6:34\",\"6:39\",\"6:4\",\"6:40\",\"6:42\",\"6:44\",\"6:49\",\"6:5\",\"6:51\",\"6:53\",\"6:55\",\"6:58\",\"6:59\",\"6:6\",\"6:8\",\"6:9\",\"7:0\",\"7:1\",\"7:11\",\"7:16\",\"7:20\",\"7:21\",\"7:22\",\"7:31\",\"7:32\",\"7:34\",\"7:38\",\"7:43\",\"7:49\",\"7:52\",\"7:53\",\"7:6\",\"7:7\",\"7:8\",\"8:1\",\"8:10\",\"8:18\",\"8:21\",\"8:24\",\"8:26\",\"8:27\",\"8:28\",\"8:3\",\"8:38\",\"8:40\",\"8:48\",\"8:51\",\"8:57\",\"8:58\",\"8:59\",\"8:7\",\"9:0\",\"9:1\",\"9:11\",\"9:18\",\"9:27\",\"9:30\",\"9:4\",\"9:42\",\"9:44\",\"9:45\",\"9:47\",\"9:52\",\"9:59\"],\"xaxis\":\"x\",\"y\":[2,3,3,3,2,4,6,1,3,2,3,3,3,5,1,1,3,4,4,1,2,2,2,3,2,1,5,2,3,1,3,2,2,1,2,2,3,3,1,3,4,2,4,5,2,4,2,5,2,4,2,5,2,4,2,4,3,1,1,1,1,1,1,1,1,2,1,1,1,1,1,1,1,1,1,1,1,1,1,1,1,1,1,2,2,1,1,1,1,2,1,1,1,1,2,1,1,1,1,1,1,1,1,3,1,1,1,1,3,1,1,1,2,1,1,1,1,3,1,1,1,2,1,3,3,1,2,2,1,2,3,1,1,1,2,1,1,2,3,1,4,3,2,4,1,6,3,2,2,3,2,2,1,4,2,1,2,2,1,1,1,2,2,1,2,3,1,3,2,1,1,1,1,2,2,2,1,2,1,1,3,1,1,1,1,3,1,2,2,2,4,1,2,2,2,2,3,1,1,2,2,1,1,1,5,4,1,3,1,2,1,4,1,2,1,3,1,1,2,3,1,1,2,3,2,1,1,2,1,3,3,1,2,2,2,1,1,2,1,3,1,1,7,2,1,3,2,1,2,5,2,3,3,1,1,3,3,1,1,2,3,5,2,2,1,2,3,5,3,2,1,4,1,3,1,3,2,4,3,4,2,1,1,2,2,1,2,4,3,2,2,1,2,3,3,5,1,2,1,3,4,3,3,3,1,3,2,2,3,1,3,1,2,1,3,1,2,4,2,1,5,6,4,1,3,4,4,4,5,7,4,1,3,2,2,4,6,2,3,2,3,7,4,2,3,1,3,4,2,2,7,1,2,2,2,5,2,3,3,2,3,1,3,2,3,2,1,2,6,1,3,4,2,4,5,2,1,3,2,7,1,2,3,3,1,4,2,2,2,1,3,2,2,2,1,3,2,1,1,3,2,2,4,2,4,4,1,3,3,4,5,1,2,4,4,3,4,2,7,5,5,1,3,3,2,6,4,1,2,1,5,1,2,2,3,3,3,2,1,3,4,2,1,3,2,3,6,4,1,4,3,5,3,3,2,6,4,1,3,3,2,2,5,6,3,2,7,2,1,2,2,2,4,2,4,1,3,4,3,3,1,3,4,2,2,3,3,1,2,3,3,2,4,1,1,6,6,1,1,3,3,2,2,2,2,1,1,2,3,2,3,1,5,2,1,3,1,4,1,1,2,1,1,1,4,2,3,2,2,3,3,2,2,3,1,3,1,6,4,2,4,1,1,2,4,4,5,4,6,3,2,2,4,1,1,5,4,3,4,2,4,4,2,3,3,3,5,1,2,4,1,4,3,4,2,4,4,6,2,4,2,3,5,5,1,2,2,6,2,1,1,4,2,2,2,2,3,3,1,1,1,1,2,1,1,5,3,2,2,3,2,1,3,2,4,3,2,1,2,5,1,1,3,1,3,2,4,2,3,3,2,1,4,1,2,3,4,2,4,3,1,7,3,1,3,2,1,2,1,5,3,2,1,6,1,1,3,3,2,1,4,2,1,3,3,1,3,2,3,3,1,3,2,2,1,5,2,1,2,3,2,2,2,2,3,2,3,4,1,1,1,3,4,1,4,2,2,2,2,6,3,3,1,4,1,3,3,2,4,2,3,2,1,3,3,1,5,2,3,1,2,4,2,2,4,1,4,2,2,2,1,2,5,2,2,2,3,2,3,3,2,3,5,2,2,2,3,5,1,1,2,2,1,5,2,1,3,4,2,2,3,3,1,3,2,1,5,2,2,6,2,3,2,2,1,3,4,3,4,2,3,1,5,2,1,2,5,2,1,3,2,3,2,1,1,3,1,5,3,4,3,3,3,2,3,2,2,2,4,3,1,3,1,1,1,1,2,4,2,1,2,1,4,1,3,2,3,4,2,1,2,1,2,1,2,2,1,1,1,6,2,4,1,3,1,1,4,1,2,1,2,1,2,3,4,1,5,4,3,3,2,1,6,3,3,2,5,2,4,2,1,4,2,2,1,3,2,1,1,2,1,2,1,2,2,2,3,4,3,1,2,2,1,1,1,1,2,1,1,1,1,1,3,2,2,2,1,1,1,1,2,3,1,2,2,1,3,3,1,2,1,1,2,2,1,1,1,1,1,1,2,4,2,1,1,3,1,2,1,2,3,2,1,2,1,1,1,1,2,1,2,1,1,1,2,1,1,2,3,1,2,2,1,2,1,1,1,1,1,1,1,1,1,1,1,1,1,1,1,2,1,1,1,1,1,1,2,1,1,3,1,1,1,1,1,1,1,1,1,1,1,1,1,1,1,1,1,1,1,2,1,1],\"yaxis\":\"y\"}],                        {\"legend\":{\"title\":{\"text\":\"variable\"},\"tracegroupgap\":0},\"template\":{\"data\":{\"bar\":[{\"error_x\":{\"color\":\"#2a3f5f\"},\"error_y\":{\"color\":\"#2a3f5f\"},\"marker\":{\"line\":{\"color\":\"#E5ECF6\",\"width\":0.5},\"pattern\":{\"fillmode\":\"overlay\",\"size\":10,\"solidity\":0.2}},\"type\":\"bar\"}],\"barpolar\":[{\"marker\":{\"line\":{\"color\":\"#E5ECF6\",\"width\":0.5},\"pattern\":{\"fillmode\":\"overlay\",\"size\":10,\"solidity\":0.2}},\"type\":\"barpolar\"}],\"carpet\":[{\"aaxis\":{\"endlinecolor\":\"#2a3f5f\",\"gridcolor\":\"white\",\"linecolor\":\"white\",\"minorgridcolor\":\"white\",\"startlinecolor\":\"#2a3f5f\"},\"baxis\":{\"endlinecolor\":\"#2a3f5f\",\"gridcolor\":\"white\",\"linecolor\":\"white\",\"minorgridcolor\":\"white\",\"startlinecolor\":\"#2a3f5f\"},\"type\":\"carpet\"}],\"choropleth\":[{\"colorbar\":{\"outlinewidth\":0,\"ticks\":\"\"},\"type\":\"choropleth\"}],\"contour\":[{\"colorbar\":{\"outlinewidth\":0,\"ticks\":\"\"},\"colorscale\":[[0.0,\"#0d0887\"],[0.1111111111111111,\"#46039f\"],[0.2222222222222222,\"#7201a8\"],[0.3333333333333333,\"#9c179e\"],[0.4444444444444444,\"#bd3786\"],[0.5555555555555556,\"#d8576b\"],[0.6666666666666666,\"#ed7953\"],[0.7777777777777778,\"#fb9f3a\"],[0.8888888888888888,\"#fdca26\"],[1.0,\"#f0f921\"]],\"type\":\"contour\"}],\"contourcarpet\":[{\"colorbar\":{\"outlinewidth\":0,\"ticks\":\"\"},\"type\":\"contourcarpet\"}],\"heatmap\":[{\"colorbar\":{\"outlinewidth\":0,\"ticks\":\"\"},\"colorscale\":[[0.0,\"#0d0887\"],[0.1111111111111111,\"#46039f\"],[0.2222222222222222,\"#7201a8\"],[0.3333333333333333,\"#9c179e\"],[0.4444444444444444,\"#bd3786\"],[0.5555555555555556,\"#d8576b\"],[0.6666666666666666,\"#ed7953\"],[0.7777777777777778,\"#fb9f3a\"],[0.8888888888888888,\"#fdca26\"],[1.0,\"#f0f921\"]],\"type\":\"heatmap\"}],\"heatmapgl\":[{\"colorbar\":{\"outlinewidth\":0,\"ticks\":\"\"},\"colorscale\":[[0.0,\"#0d0887\"],[0.1111111111111111,\"#46039f\"],[0.2222222222222222,\"#7201a8\"],[0.3333333333333333,\"#9c179e\"],[0.4444444444444444,\"#bd3786\"],[0.5555555555555556,\"#d8576b\"],[0.6666666666666666,\"#ed7953\"],[0.7777777777777778,\"#fb9f3a\"],[0.8888888888888888,\"#fdca26\"],[1.0,\"#f0f921\"]],\"type\":\"heatmapgl\"}],\"histogram\":[{\"marker\":{\"pattern\":{\"fillmode\":\"overlay\",\"size\":10,\"solidity\":0.2}},\"type\":\"histogram\"}],\"histogram2d\":[{\"colorbar\":{\"outlinewidth\":0,\"ticks\":\"\"},\"colorscale\":[[0.0,\"#0d0887\"],[0.1111111111111111,\"#46039f\"],[0.2222222222222222,\"#7201a8\"],[0.3333333333333333,\"#9c179e\"],[0.4444444444444444,\"#bd3786\"],[0.5555555555555556,\"#d8576b\"],[0.6666666666666666,\"#ed7953\"],[0.7777777777777778,\"#fb9f3a\"],[0.8888888888888888,\"#fdca26\"],[1.0,\"#f0f921\"]],\"type\":\"histogram2d\"}],\"histogram2dcontour\":[{\"colorbar\":{\"outlinewidth\":0,\"ticks\":\"\"},\"colorscale\":[[0.0,\"#0d0887\"],[0.1111111111111111,\"#46039f\"],[0.2222222222222222,\"#7201a8\"],[0.3333333333333333,\"#9c179e\"],[0.4444444444444444,\"#bd3786\"],[0.5555555555555556,\"#d8576b\"],[0.6666666666666666,\"#ed7953\"],[0.7777777777777778,\"#fb9f3a\"],[0.8888888888888888,\"#fdca26\"],[1.0,\"#f0f921\"]],\"type\":\"histogram2dcontour\"}],\"mesh3d\":[{\"colorbar\":{\"outlinewidth\":0,\"ticks\":\"\"},\"type\":\"mesh3d\"}],\"parcoords\":[{\"line\":{\"colorbar\":{\"outlinewidth\":0,\"ticks\":\"\"}},\"type\":\"parcoords\"}],\"pie\":[{\"automargin\":true,\"type\":\"pie\"}],\"scatter\":[{\"marker\":{\"colorbar\":{\"outlinewidth\":0,\"ticks\":\"\"}},\"type\":\"scatter\"}],\"scatter3d\":[{\"line\":{\"colorbar\":{\"outlinewidth\":0,\"ticks\":\"\"}},\"marker\":{\"colorbar\":{\"outlinewidth\":0,\"ticks\":\"\"}},\"type\":\"scatter3d\"}],\"scattercarpet\":[{\"marker\":{\"colorbar\":{\"outlinewidth\":0,\"ticks\":\"\"}},\"type\":\"scattercarpet\"}],\"scattergeo\":[{\"marker\":{\"colorbar\":{\"outlinewidth\":0,\"ticks\":\"\"}},\"type\":\"scattergeo\"}],\"scattergl\":[{\"marker\":{\"colorbar\":{\"outlinewidth\":0,\"ticks\":\"\"}},\"type\":\"scattergl\"}],\"scattermapbox\":[{\"marker\":{\"colorbar\":{\"outlinewidth\":0,\"ticks\":\"\"}},\"type\":\"scattermapbox\"}],\"scatterpolar\":[{\"marker\":{\"colorbar\":{\"outlinewidth\":0,\"ticks\":\"\"}},\"type\":\"scatterpolar\"}],\"scatterpolargl\":[{\"marker\":{\"colorbar\":{\"outlinewidth\":0,\"ticks\":\"\"}},\"type\":\"scatterpolargl\"}],\"scatterternary\":[{\"marker\":{\"colorbar\":{\"outlinewidth\":0,\"ticks\":\"\"}},\"type\":\"scatterternary\"}],\"surface\":[{\"colorbar\":{\"outlinewidth\":0,\"ticks\":\"\"},\"colorscale\":[[0.0,\"#0d0887\"],[0.1111111111111111,\"#46039f\"],[0.2222222222222222,\"#7201a8\"],[0.3333333333333333,\"#9c179e\"],[0.4444444444444444,\"#bd3786\"],[0.5555555555555556,\"#d8576b\"],[0.6666666666666666,\"#ed7953\"],[0.7777777777777778,\"#fb9f3a\"],[0.8888888888888888,\"#fdca26\"],[1.0,\"#f0f921\"]],\"type\":\"surface\"}],\"table\":[{\"cells\":{\"fill\":{\"color\":\"#EBF0F8\"},\"line\":{\"color\":\"white\"}},\"header\":{\"fill\":{\"color\":\"#C8D4E3\"},\"line\":{\"color\":\"white\"}},\"type\":\"table\"}]},\"layout\":{\"annotationdefaults\":{\"arrowcolor\":\"#2a3f5f\",\"arrowhead\":0,\"arrowwidth\":1},\"autotypenumbers\":\"strict\",\"coloraxis\":{\"colorbar\":{\"outlinewidth\":0,\"ticks\":\"\"}},\"colorscale\":{\"diverging\":[[0,\"#8e0152\"],[0.1,\"#c51b7d\"],[0.2,\"#de77ae\"],[0.3,\"#f1b6da\"],[0.4,\"#fde0ef\"],[0.5,\"#f7f7f7\"],[0.6,\"#e6f5d0\"],[0.7,\"#b8e186\"],[0.8,\"#7fbc41\"],[0.9,\"#4d9221\"],[1,\"#276419\"]],\"sequential\":[[0.0,\"#0d0887\"],[0.1111111111111111,\"#46039f\"],[0.2222222222222222,\"#7201a8\"],[0.3333333333333333,\"#9c179e\"],[0.4444444444444444,\"#bd3786\"],[0.5555555555555556,\"#d8576b\"],[0.6666666666666666,\"#ed7953\"],[0.7777777777777778,\"#fb9f3a\"],[0.8888888888888888,\"#fdca26\"],[1.0,\"#f0f921\"]],\"sequentialminus\":[[0.0,\"#0d0887\"],[0.1111111111111111,\"#46039f\"],[0.2222222222222222,\"#7201a8\"],[0.3333333333333333,\"#9c179e\"],[0.4444444444444444,\"#bd3786\"],[0.5555555555555556,\"#d8576b\"],[0.6666666666666666,\"#ed7953\"],[0.7777777777777778,\"#fb9f3a\"],[0.8888888888888888,\"#fdca26\"],[1.0,\"#f0f921\"]]},\"colorway\":[\"#636efa\",\"#EF553B\",\"#00cc96\",\"#ab63fa\",\"#FFA15A\",\"#19d3f3\",\"#FF6692\",\"#B6E880\",\"#FF97FF\",\"#FECB52\"],\"font\":{\"color\":\"#2a3f5f\"},\"geo\":{\"bgcolor\":\"white\",\"lakecolor\":\"white\",\"landcolor\":\"#E5ECF6\",\"showlakes\":true,\"showland\":true,\"subunitcolor\":\"white\"},\"hoverlabel\":{\"align\":\"left\"},\"hovermode\":\"closest\",\"mapbox\":{\"style\":\"light\"},\"paper_bgcolor\":\"white\",\"plot_bgcolor\":\"#E5ECF6\",\"polar\":{\"angularaxis\":{\"gridcolor\":\"white\",\"linecolor\":\"white\",\"ticks\":\"\"},\"bgcolor\":\"#E5ECF6\",\"radialaxis\":{\"gridcolor\":\"white\",\"linecolor\":\"white\",\"ticks\":\"\"}},\"scene\":{\"xaxis\":{\"backgroundcolor\":\"#E5ECF6\",\"gridcolor\":\"white\",\"gridwidth\":2,\"linecolor\":\"white\",\"showbackground\":true,\"ticks\":\"\",\"zerolinecolor\":\"white\"},\"yaxis\":{\"backgroundcolor\":\"#E5ECF6\",\"gridcolor\":\"white\",\"gridwidth\":2,\"linecolor\":\"white\",\"showbackground\":true,\"ticks\":\"\",\"zerolinecolor\":\"white\"},\"zaxis\":{\"backgroundcolor\":\"#E5ECF6\",\"gridcolor\":\"white\",\"gridwidth\":2,\"linecolor\":\"white\",\"showbackground\":true,\"ticks\":\"\",\"zerolinecolor\":\"white\"}},\"shapedefaults\":{\"line\":{\"color\":\"#2a3f5f\"}},\"ternary\":{\"aaxis\":{\"gridcolor\":\"white\",\"linecolor\":\"white\",\"ticks\":\"\"},\"baxis\":{\"gridcolor\":\"white\",\"linecolor\":\"white\",\"ticks\":\"\"},\"bgcolor\":\"#E5ECF6\",\"caxis\":{\"gridcolor\":\"white\",\"linecolor\":\"white\",\"ticks\":\"\"}},\"title\":{\"x\":0.05},\"xaxis\":{\"automargin\":true,\"gridcolor\":\"white\",\"linecolor\":\"white\",\"ticks\":\"\",\"title\":{\"standoff\":15},\"zerolinecolor\":\"white\",\"zerolinewidth\":2},\"yaxis\":{\"automargin\":true,\"gridcolor\":\"white\",\"linecolor\":\"white\",\"ticks\":\"\",\"title\":{\"standoff\":15},\"zerolinecolor\":\"white\",\"zerolinewidth\":2}}},\"title\":{\"text\":\"title\"},\"xaxis\":{\"anchor\":\"y\",\"domain\":[0.0,1.0],\"title\":{\"text\":\"value\"}},\"yaxis\":{\"anchor\":\"x\",\"domain\":[0.0,1.0],\"title\":{\"text\":\"total_reviews\"}}},                        {\"responsive\": true}                    ).then(function(){\n",
       "                            \n",
       "var gd = document.getElementById('e7810fde-195b-44f9-a1ea-29b8781d86b2');\n",
       "var x = new MutationObserver(function (mutations, observer) {{\n",
       "        var display = window.getComputedStyle(gd).display;\n",
       "        if (!display || display === 'none') {{\n",
       "            console.log([gd, 'removed!']);\n",
       "            Plotly.purge(gd);\n",
       "            observer.disconnect();\n",
       "        }}\n",
       "}});\n",
       "\n",
       "// Listen for the removal of the full notebook cells\n",
       "var notebookContainer = gd.closest('#notebook-container');\n",
       "if (notebookContainer) {{\n",
       "    x.observe(notebookContainer, {childList: true});\n",
       "}}\n",
       "\n",
       "// Listen for the clearing of the current output cell\n",
       "var outputEl = gd.closest('.output');\n",
       "if (outputEl) {{\n",
       "    x.observe(outputEl, {childList: true});\n",
       "}}\n",
       "\n",
       "                        })                };                });            </script>        </div>"
      ]
     },
     "metadata": {},
     "output_type": "display_data"
    }
   ],
   "source": [
    "import plotly.express as px\n",
    "\n",
    "fig = px.line(df2, x=['period'], y=\"total_reviews\", title='title')\n",
    "fig.show()"
   ]
  },
  {
   "cell_type": "code",
   "execution_count": null,
   "id": "38a0321b",
   "metadata": {},
   "outputs": [],
   "source": []
  },
  {
   "cell_type": "code",
   "execution_count": null,
   "id": "2e73686d",
   "metadata": {},
   "outputs": [],
   "source": []
  },
  {
   "cell_type": "code",
   "execution_count": null,
   "id": "6d685199",
   "metadata": {},
   "outputs": [],
   "source": []
  }
 ],
 "metadata": {
  "kernelspec": {
   "display_name": "Python 3 (ipykernel)",
   "language": "python",
   "name": "python3"
  },
  "language_info": {
   "codemirror_mode": {
    "name": "ipython",
    "version": 3
   },
   "file_extension": ".py",
   "mimetype": "text/x-python",
   "name": "python",
   "nbconvert_exporter": "python",
   "pygments_lexer": "ipython3",
   "version": "3.9.5"
  }
 },
 "nbformat": 4,
 "nbformat_minor": 5
}
